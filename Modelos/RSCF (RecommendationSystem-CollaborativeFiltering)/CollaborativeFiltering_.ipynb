{
 "cells": [
  {
   "cell_type": "markdown",
   "metadata": {
    "id": "VXhAZ3q1c2ZT"
   },
   "source": [
    " Collaborative Filtering via Deep Learning\n",
    "-----\n",
    "\n",
    "There are two main tasks in this case:\n",
    "\n",
    "- Build a deep learning model to predict the movie ratings.\n",
    "\n",
    "- Analyze the predicted ratings and provide an estimate of the movie valuation.\n"
   ]
  },
  {
   "cell_type": "markdown",
   "metadata": {
    "id": "tkEE3Ghd9azj"
   },
   "source": [
    "## Introduction\n",
    "One very common problem to solve is when you have a number of users and a number of products, and you want to recommend which products are most likely to be useful for which users. There are many variations of this: for example, recommending movies (such as on Netflix), figuring out what to highlight for a user on a home page, deciding what stories to show in a social media feed, and so forth. There is a general solution to this problem, called *collaborative filtering*, which works like this: look at what products the current user has used or liked, find other users that have used or liked similar products, and then recommend other products that those users have used or liked.\n",
    "\n",
    "For example, on Netflix you may have watched lots of movies that are science fiction, full of action, and were made in the 1970s. Netflix may not know these particular properties of the films you have watched, but it will be able to see that other people that have watched the same movies that you watched also tended to watch other movies that are science fiction, full of action, and were made in the 1970s. In other words, to use this approach we don't necessarily need to know anything about the movies, except who like to watch them.\n",
    "\n",
    "There is actually a more general class of problems that this approach can solve, not necessarily involving users and products. Indeed, for collaborative filtering we more commonly refer to *items*, rather than *products*. Items could be links that people click on, diagnoses that are selected for patients, and so forth.\n",
    "\n",
    "The key foundational idea is that of *latent factors*. In the Netflix example, we started with the assumption that you like old, action-packed sci-fi movies. But you never actually told Netflix that you like these kinds of movies. And Netflix never actually needed to add columns to its movies table saying which movies are of these types. Still, there must be some underlying concept of sci-fi, action, and movie age, and these concepts must be relevant for at least some people's movie watching decisions.\n",
    "\n"
   ]
  },
  {
   "cell_type": "markdown",
   "metadata": {
    "id": "Ov5kAMHECNyW"
   },
   "source": [
    "---\n",
    "In this case, we'll build an explicit feedback recommender system: that is, a model that takes into account explicit feedback signals (like ratings) to recommend new content. We'll use an approach first made popular by the [Netflix prize](https://en.wikipedia.org/wiki/Netflix_Prize) contest: [matrix factorization](https://datajobs.com/data-science-repo/Recommender-Systems-[Netflix].pdf).\n",
    "\n",
    "The basic idea is very simple:\n",
    "\n",
    "1. Start with user-item-rating triplets, conveying the information that user _i_ gave some item _j_ rating _r_.\n",
    "2. Represent both users and items as high-dimensional vectors of numbers. For example, a user could be represented by `[0.3, -1.2, 0.5]` and an item by `[1.0, -0.3, -0.6]`.\n",
    "3. The representations should be chosen so that, when we multiplied together (via [dot products](https://en.wikipedia.org/wiki/Dot_product)), we can recover the original ratings.\n",
    "4. The utility of the model then is derived from the fact that if we multiply the user vector of a user with the item vector of some item they _have not_ rated, we hope to obtain a predicition for the rating they would have given to it had they seen it.\n",
    "\n",
    "<img src='https://storage.googleapis.com/gweb-cloudblog-publish/images/f1-collab_filtering.max-900x900.png?raw=true' width=50% />"
   ]
  },
  {
   "cell_type": "markdown",
   "metadata": {
    "id": "pK7DyF_ZUUDQ"
   },
   "source": [
    "We do not have access to Netflix's entire dataset of movie watching history, but there is a great dataset that we can use, called [MovieLens](https://grouplens.org/datasets/movielens/). This dataset contains tens of millions of movie rankings (a combination of a movie ID, a user ID, and a numeric rating).\n",
    "\n",
    "We start with importing the [Movielens 32M dataset](https://grouplens.org/datasets/movielens/32m/).  It contains 32 million anonymous ratings of approximately 87,585 movies made by 200,948 MovieLens users."
   ]
  },
  {
   "cell_type": "markdown",
   "metadata": {
    "id": "OeHGO4qbUUC4"
   },
   "source": [
    "## Preparations"
   ]
  },
  {
   "cell_type": "markdown",
   "metadata": {
    "id": "lvWi4dUf1dQx"
   },
   "source": [
    "We first import the packages and download the data."
   ]
  },
  {
   "cell_type": "code",
   "execution_count": 1,
   "metadata": {
    "id": "qd_qn9FpBxWi"
   },
   "outputs": [],
   "source": [
    "import torch\n",
    "torch.cuda.empty_cache()  # Clear GPU cache"
   ]
  },
  {
   "cell_type": "code",
   "execution_count": 2,
   "metadata": {
    "id": "frj5rX9wUUC_"
   },
   "outputs": [],
   "source": [
    "%matplotlib inline\n",
    "import matplotlib.pyplot as plt\n",
    "import numpy as np\n",
    "import os.path as op\n",
    "import imp\n",
    "import numpy as np"
   ]
  },
  {
   "cell_type": "markdown",
   "metadata": {
    "id": "hHgLg4jBUUDp"
   },
   "source": [
    "## Check the data"
   ]
  },
  {
   "cell_type": "code",
   "execution_count": 11,
   "metadata": {
    "colab": {
     "base_uri": "https://localhost:8080/"
    },
    "id": "J6ktivH0-9su",
    "outputId": "3c60c395-c896-404e-b3b1-0cb9b200f9c0"
   },
   "outputs": [
    {
     "name": "stdout",
     "output_type": "stream",
     "text": [
      "Files in the dataset:\n",
      "checksums.txt\n",
      "links.csv\n",
      "movies.csv\n",
      "ratings.csv\n",
      "README.txt\n",
      "tags.csv\n"
     ]
    }
   ],
   "source": [
    "import os\n",
    "\n",
    "# Path to the extracted dataset folder\n",
    "dataset_path = 'C:/Users/xpati/Documents/TFG/ml-32m'  # Adjust this path if needed\n",
    "\n",
    "# List all files in the folder\n",
    "files = os.listdir(dataset_path)\n",
    "print(\"Files in the dataset:\")\n",
    "for file in files:\n",
    "    print(file)\n"
   ]
  },
  {
   "cell_type": "markdown",
   "metadata": {
    "id": "omZ80S7J1voX"
   },
   "source": [
    "There are six different files:\n",
    "\n",
    "- README\n",
    "- movies.csv\n",
    "- ratings.csv\n",
    "- tags.csv\n",
    "- links.csv\n",
    "- checksums.txt\n",
    "\n",
    "\n",
    "\n",
    "\n",
    "\n",
    "You may read README to get the description of each dat files."
   ]
  },
  {
   "cell_type": "code",
   "execution_count": 13,
   "metadata": {
    "colab": {
     "base_uri": "https://localhost:8080/"
    },
    "id": "ZXYVvjyW_Re3",
    "outputId": "a83c96f3-23a3-4786-f4a7-ab2eb3692844"
   },
   "outputs": [
    {
     "name": "stdout",
     "output_type": "stream",
     "text": [
      "   userId  movieId  rating  timestamp\n",
      "0       1       17     4.0  944249077\n",
      "1       1       25     1.0  944250228\n",
      "2       1       29     2.0  943230976\n",
      "3       1       30     5.0  944249077\n",
      "4       1       32     5.0  943228858\n"
     ]
    }
   ],
   "source": [
    "#check the ratings.csv file\n",
    "import pandas as pd\n",
    "\n",
    "ratings = pd.read_csv('C:/Users/xpati/Documents/TFG/ml-32m/ratings.csv')\n",
    "print(ratings.head())\n"
   ]
  },
  {
   "cell_type": "code",
   "execution_count": 14,
   "metadata": {
    "colab": {
     "base_uri": "https://localhost:8080/"
    },
    "id": "wAbSkNxY_und",
    "outputId": "1bec8faa-228b-4839-cee4-40ca059459df"
   },
   "outputs": [
    {
     "name": "stdout",
     "output_type": "stream",
     "text": [
      "   movieId                               title  \\\n",
      "0        1                    Toy Story (1995)   \n",
      "1        2                      Jumanji (1995)   \n",
      "2        3             Grumpier Old Men (1995)   \n",
      "3        4            Waiting to Exhale (1995)   \n",
      "4        5  Father of the Bride Part II (1995)   \n",
      "\n",
      "                                        genres  \n",
      "0  Adventure|Animation|Children|Comedy|Fantasy  \n",
      "1                   Adventure|Children|Fantasy  \n",
      "2                               Comedy|Romance  \n",
      "3                         Comedy|Drama|Romance  \n",
      "4                                       Comedy  \n"
     ]
    }
   ],
   "source": [
    "#check the movies.csv file\n",
    "movies = pd.read_csv('C:/Users/xpati/Documents/TFG/ml-32m/movies.csv')\n",
    "print(movies.head())"
   ]
  },
  {
   "cell_type": "markdown",
   "metadata": {
    "id": "BiYoxkZqDbVo"
   },
   "source": [
    "When showing the data, we would rather see movie titles than their IDs. The `movies.csv` contains the correspondence of IDs to movie titles."
   ]
  },
  {
   "cell_type": "code",
   "execution_count": 15,
   "metadata": {
    "colab": {
     "base_uri": "https://localhost:8080/"
    },
    "id": "UDPeRguMV1Bz",
    "outputId": "5de17197-2c0d-480c-c9a0-fc48a00dbddf",
    "scrolled": true
   },
   "outputs": [
    {
     "name": "stdout",
     "output_type": "stream",
     "text": [
      "   userId  movieId  rating   timestamp                         title  \\\n",
      "0       1       17     4.0   944249077  Sense and Sensibility (1995)   \n",
      "1       3       17     5.0  1084485217  Sense and Sensibility (1995)   \n",
      "2      15       17     4.5  1289858271  Sense and Sensibility (1995)   \n",
      "3      28       17     4.0   961513829  Sense and Sensibility (1995)   \n",
      "4      29       17     4.0   845056111  Sense and Sensibility (1995)   \n",
      "\n",
      "          genres  \n",
      "0  Drama|Romance  \n",
      "1  Drama|Romance  \n",
      "2  Drama|Romance  \n",
      "3  Drama|Romance  \n",
      "4  Drama|Romance  \n"
     ]
    }
   ],
   "source": [
    "\n",
    "# Ensure `movieId` in both datasets is of the same type\n",
    "ratings['movieId'] = ratings['movieId'].astype(int)\n",
    "movies['movieId'] = movies['movieId'].astype(int)\n",
    "\n",
    "# Merge the ratings and movies datasets on the common column 'movieId'\n",
    "all_ratings = ratings.merge(movies, on='movieId')\n",
    "\n",
    "# Preview the merged data\n",
    "print(all_ratings.head())\n"
   ]
  },
  {
   "cell_type": "markdown",
   "metadata": {
    "id": "6nVdjC0IV1B3"
   },
   "source": [
    "Here we add the title of the movies to the `all_ratings` data."
   ]
  },
  {
   "cell_type": "markdown",
   "metadata": {
    "id": "enyJuYhUUUEL"
   },
   "source": [
    "The dataframe `all_ratings` contains all the raw data for our problem."
   ]
  },
  {
   "cell_type": "code",
   "execution_count": 16,
   "metadata": {
    "colab": {
     "base_uri": "https://localhost:8080/"
    },
    "id": "3M7-jinQUUEO",
    "outputId": "da78a817-ed9c-492b-f3ef-9693f523a04f"
   },
   "outputs": [
    {
     "data": {
      "text/plain": [
       "32000204"
      ]
     },
     "execution_count": 16,
     "metadata": {},
     "output_type": "execute_result"
    }
   ],
   "source": [
    "#number of entries\n",
    "len(all_ratings)"
   ]
  },
  {
   "cell_type": "markdown",
   "metadata": {
    "id": "ZS_WxC5iBDil"
   },
   "source": [
    "# Subseting"
   ]
  },
  {
   "cell_type": "markdown",
   "metadata": {
    "id": "x2b8qat0Z0js"
   },
   "source": [
    "Because of limited computing power, we need to downsample the dataset to make the code more manageable."
   ]
  },
  {
   "cell_type": "markdown",
   "metadata": {
    "id": "0Y4msW_maDgu"
   },
   "source": [
    "Here we use timestamp as a cutoff point to filter the ratings after 2021."
   ]
  },
  {
   "cell_type": "code",
   "execution_count": 17,
   "metadata": {
    "colab": {
     "base_uri": "https://localhost:8080/"
    },
    "id": "YtiC687RBCdg",
    "outputId": "f04d40c8-71bd-4d98-98f3-33ab4163cf95"
   },
   "outputs": [
    {
     "name": "stdout",
     "output_type": "stream",
     "text": [
      "Number of records after 2021: 1707159\n"
     ]
    }
   ],
   "source": [
    "# Define the cutoff UNIX timestamp for January 1, 2022\n",
    "cutoff_timestamp_2022 = 1640995200\n",
    "\n",
    "# Filter the dataset for data after 2021\n",
    "new_data = all_ratings[all_ratings['timestamp'] >= cutoff_timestamp_2022].copy()\n",
    "\n",
    "# Count the number of records\n",
    "num_records_after_2021 = len(new_data)\n",
    "\n",
    "print(f\"Number of records after 2021: {num_records_after_2021}\")\n"
   ]
  },
  {
   "cell_type": "code",
   "execution_count": 18,
   "metadata": {
    "colab": {
     "base_uri": "https://localhost:8080/"
    },
    "id": "_YoJJecjEiR8",
    "outputId": "e557f3b6-3f20-4844-e815-002de2ce3c2d"
   },
   "outputs": [
    {
     "name": "stdout",
     "output_type": "stream",
     "text": [
      "count    1.707159e+06\n",
      "mean     3.532153e+00\n",
      "std      1.062279e+00\n",
      "min      5.000000e-01\n",
      "25%      3.000000e+00\n",
      "50%      3.500000e+00\n",
      "75%      4.000000e+00\n",
      "max      5.000000e+00\n",
      "Name: rating, dtype: float64\n"
     ]
    }
   ],
   "source": [
    "# Statistics of ratings\n",
    "ratings_stats = new_data['rating'].describe()\n",
    "print(ratings_stats)\n"
   ]
  },
  {
   "cell_type": "code",
   "execution_count": 19,
   "metadata": {
    "colab": {
     "base_uri": "https://localhost:8080/"
    },
    "id": "tCdV2qzMUUEk",
    "outputId": "9078f579-ee7c-433a-9bc3-9df241cd6b0d"
   },
   "outputs": [
    {
     "name": "stdout",
     "output_type": "stream",
     "text": [
      "Unique ratings: [3.5 3.  4.5 2.5 5.  0.5 4.  2.  1.5 1. ]\n"
     ]
    }
   ],
   "source": [
    "# Find unique ratings\n",
    "unique_ratings = new_data['rating'].unique()\n",
    "print(\"Unique ratings:\", unique_ratings)\n"
   ]
  },
  {
   "cell_type": "markdown",
   "metadata": {
    "id": "Q5qXp4HX3P_D"
   },
   "source": [
    "We now check the user IDs."
   ]
  },
  {
   "cell_type": "code",
   "execution_count": 20,
   "metadata": {
    "colab": {
     "base_uri": "https://localhost:8080/"
    },
    "id": "c1c1lNFG3LM0",
    "outputId": "ed7cb0f6-fcbd-4845-aecc-6219fd7b0650"
   },
   "outputs": [
    {
     "name": "stdout",
     "output_type": "stream",
     "text": [
      "count    1.707159e+06\n",
      "mean     1.009894e+05\n",
      "std      5.845256e+04\n",
      "min      2.200000e+01\n",
      "25%      4.988900e+04\n",
      "50%      1.012350e+05\n",
      "75%      1.524850e+05\n",
      "max      2.009330e+05\n",
      "Name: userId, dtype: float64\n"
     ]
    }
   ],
   "source": [
    "# Statistics for the userId column\n",
    "user_stats = new_data['userId'].describe()\n",
    "print(user_stats)\n"
   ]
  },
  {
   "cell_type": "code",
   "execution_count": 21,
   "metadata": {
    "colab": {
     "base_uri": "https://localhost:8080/"
    },
    "id": "P1QoS71CUUE7",
    "outputId": "285239c4-1b12-4f73-a95f-aac1a70bad1c"
   },
   "outputs": [
    {
     "name": "stdout",
     "output_type": "stream",
     "text": [
      "Total number of unique users: 14301\n"
     ]
    }
   ],
   "source": [
    "# Calculate the number of unique users\n",
    "total_user_id = len(new_data['userId'].unique())\n",
    "print(\"Total number of unique users:\", total_user_id)\n"
   ]
  },
  {
   "cell_type": "markdown",
   "metadata": {
    "id": "-Az4KDFgV1CQ"
   },
   "source": [
    " Let's check that whether the users are indexed from 0 below using the following code.\n"
   ]
  },
  {
   "cell_type": "code",
   "execution_count": 22,
   "metadata": {
    "colab": {
     "base_uri": "https://localhost:8080/"
    },
    "id": "QwvbgppwGZrW",
    "outputId": "c7b13c04-a7e9-4926-8c9d-50c98e8009a3"
   },
   "outputs": [
    {
     "name": "stdout",
     "output_type": "stream",
     "text": [
      "Sorted list of user IDs: [22, 25, 28, 31, 58, 75, 79, 94, 101, 110]\n"
     ]
    }
   ],
   "source": [
    "# Create a sorted list of unique user IDs\n",
    "list_user_id = list(new_data['userId'].unique())\n",
    "list_user_id.sort()\n",
    "\n",
    "# Preview the sorted list (optional)\n",
    "print(\"Sorted list of user IDs:\", list_user_id[:10])  # Display the first 10 user IDs\n"
   ]
  },
  {
   "cell_type": "markdown",
   "metadata": {
    "id": "7wElJE5T2zKx"
   },
   "source": [
    "We can see that `list_user_id` contains contiguous indices from 22."
   ]
  },
  {
   "cell_type": "markdown",
   "metadata": {
    "id": "h-LytszyV1CV"
   },
   "source": [
    "We create a new column `user_num` to get an index from 0 to  for users:"
   ]
  },
  {
   "cell_type": "code",
   "execution_count": 23,
   "metadata": {
    "id": "8FMw8MJZGwZg"
   },
   "outputs": [],
   "source": [
    "\n",
    "# Map user IDs to indices starting from 0\n",
    "user_id_to_index = {user_id: index for index, user_id in enumerate(list_user_id)}\n",
    "\n",
    "# Add the new column `user_num` to the ratings DataFrame\n",
    "new_data['user_num'] = new_data['userId'].map(user_id_to_index)\n"
   ]
  },
  {
   "cell_type": "markdown",
   "metadata": {
    "id": "W0OThRYhV1Cb"
   },
   "source": [
    "We now look at movies."
   ]
  },
  {
   "cell_type": "code",
   "execution_count": 24,
   "metadata": {
    "colab": {
     "base_uri": "https://localhost:8080/"
    },
    "id": "pNSmMfReUBx8",
    "outputId": "59a1ea94-0a5c-4fae-c5f7-2fcc48258ab9"
   },
   "outputs": [
    {
     "name": "stdout",
     "output_type": "stream",
     "text": [
      "Unique movies: 51858\n"
     ]
    }
   ],
   "source": [
    "# Find unique movies\n",
    "unique_movies = new_data['movieId'].unique()\n",
    "print(\"Unique movies:\", len(unique_movies))\n"
   ]
  },
  {
   "cell_type": "code",
   "execution_count": 25,
   "metadata": {
    "colab": {
     "base_uri": "https://localhost:8080/"
    },
    "id": "8cIMKcvuTV55",
    "outputId": "f4c8cd6a-59f9-4161-998d-c8660a870d1e"
   },
   "outputs": [
    {
     "name": "stdout",
     "output_type": "stream",
     "text": [
      "[1, 2, 3, 4, 5, 6, 7, 8, 9, 10]\n",
      "[292617, 292619, 292625, 292627, 292709, 292731, 292737, 292753, 292755, 292757]\n"
     ]
    }
   ],
   "source": [
    "# Create a sorted list of unique user IDs\n",
    "list_movie_id = list(new_data['movieId'].unique())\n",
    "list_movie_id.sort()\n",
    "\n",
    "# Preview the sorted list (optional)\n",
    "print(list_movie_id[:10])  # First 10 values\n",
    "print(list_movie_id[-10:]) # Last 10 values\n"
   ]
  },
  {
   "cell_type": "markdown",
   "metadata": {
    "id": "3gGu2LjiV1Ci"
   },
   "source": [
    "Here there is a clear problem: there are 51858 different movies but the range of `movieId` starts at 1 and ends at 292,757. So there are gaps, so the first thing you will need to do is to create a new column `movie_num` so that all movies are indexed from 0 to 51857."
   ]
  },
  {
   "cell_type": "markdown",
   "metadata": {
    "id": "PxbHTyDqUnvj"
   },
   "source": [
    "We can see that `movieId` contains contiguous indices from 1, but there are gaps somewhere."
   ]
  },
  {
   "cell_type": "markdown",
   "metadata": {
    "id": "8cVDuX9SUsw4"
   },
   "source": [
    "We create a new column `movie_num` to get an index from 0, and make sure it is increased by 1."
   ]
  },
  {
   "cell_type": "code",
   "execution_count": 26,
   "metadata": {
    "id": "UWjsRCtcVC7p"
   },
   "outputs": [],
   "source": [
    "\n",
    "# Map movie IDs to indices starting from 0\n",
    "movie_id_to_index = {movie_id: index for index, movie_id in enumerate(list_movie_id)}\n",
    "\n",
    "# Add the new column `movie_num` to the ratings DataFrame\n",
    "new_data['movie_num'] = new_data['movieId'].map(movie_id_to_index)"
   ]
  },
  {
   "cell_type": "markdown",
   "metadata": {
    "id": "weNJOlzcV1Cl"
   },
   "source": [
    "This function will verify that we have created `movie_num` correctly."
   ]
  },
  {
   "cell_type": "code",
   "execution_count": 27,
   "metadata": {
    "id": "ktctMT12V1Cl"
   },
   "outputs": [],
   "source": [
    "# Function to verify the `movie_num` column is correctly created\n",
    "def check_ratings_num(df):\n",
    "    movie_num = set(df['movie_num'])\n",
    "    if movie_num == set(range(len(movie_num))):\n",
    "        return True\n",
    "    else:\n",
    "        return False"
   ]
  },
  {
   "cell_type": "code",
   "execution_count": 28,
   "metadata": {
    "colab": {
     "base_uri": "https://localhost:8080/"
    },
    "id": "w4w1XQnfV1Cp",
    "outputId": "d73324b9-4b42-463b-aefd-ab620ab25e6d"
   },
   "outputs": [
    {
     "name": "stdout",
     "output_type": "stream",
     "text": [
      "Verification result: True\n"
     ]
    }
   ],
   "source": [
    "# Apply the function to the DataFrame\n",
    "result = check_ratings_num(new_data)\n",
    "print(\"Verification result:\", result)\n"
   ]
  },
  {
   "cell_type": "markdown",
   "metadata": {
    "id": "zVjIdt0IZvtV"
   },
   "source": [
    "Let's check the dataset:"
   ]
  },
  {
   "cell_type": "code",
   "execution_count": 29,
   "metadata": {
    "colab": {
     "base_uri": "https://localhost:8080/"
    },
    "id": "lTcmYoYbT3TH",
    "outputId": "beac1525-860e-4916-ba3f-a0f25968270f"
   },
   "outputs": [
    {
     "name": "stdout",
     "output_type": "stream",
     "text": [
      "     userId  movieId  rating   timestamp                         title  \\\n",
      "18      128       17     3.5  1669609626  Sense and Sensibility (1995)   \n",
      "70      582       17     3.0  1662040706  Sense and Sensibility (1995)   \n",
      "325    3107       17     3.5  1691652749  Sense and Sensibility (1995)   \n",
      "349    3259       17     3.0  1659724307  Sense and Sensibility (1995)   \n",
      "360    3400       17     4.5  1689658930  Sense and Sensibility (1995)   \n",
      "\n",
      "            genres  user_num  movie_num  \n",
      "18   Drama|Romance        11         16  \n",
      "70   Drama|Romance        37         16  \n",
      "325  Drama|Romance       216         16  \n",
      "349  Drama|Romance       228         16  \n",
      "360  Drama|Romance       239         16  \n"
     ]
    }
   ],
   "source": [
    "\n",
    "# Preview the updated DataFrame\n",
    "print(new_data.head())\n"
   ]
  },
  {
   "cell_type": "markdown",
   "metadata": {
    "id": "WPcXTxB_alXI"
   },
   "source": [
    "Now, we are using 'new_data' as our raw dataset to build our network."
   ]
  },
  {
   "cell_type": "markdown",
   "metadata": {
    "id": "lzKQ8wPGabr1"
   },
   "source": [
    "# Exploratory analysis"
   ]
  },
  {
   "cell_type": "code",
   "execution_count": 30,
   "metadata": {
    "colab": {
     "base_uri": "https://localhost:8080/"
    },
    "id": "l3gfokbNUUFH",
    "outputId": "5f248147-1e6b-41df-d909-a9492510ec94"
   },
   "outputs": [
    {
     "name": "stdout",
     "output_type": "stream",
     "text": [
      "count    1.707159e+06\n",
      "mean     1.522382e+04\n",
      "std      1.400011e+04\n",
      "min      0.000000e+00\n",
      "25%      3.610000e+03\n",
      "50%      1.095600e+04\n",
      "75%      2.244800e+04\n",
      "max      5.185700e+04\n",
      "Name: movie_num, dtype: float64\n"
     ]
    }
   ],
   "source": [
    "# Describe the movieId column in new_data\n",
    "movie_stats = new_data['movie_num'].describe()\n",
    "print(movie_stats)\n"
   ]
  },
  {
   "cell_type": "code",
   "execution_count": 31,
   "metadata": {
    "colab": {
     "base_uri": "https://localhost:8080/"
    },
    "id": "8ncInsk_V1Cg",
    "outputId": "3bc4695f-7400-43f8-fbb9-17a24909db59"
   },
   "outputs": [
    {
     "name": "stdout",
     "output_type": "stream",
     "text": [
      "Total number of unique rated items: 51858\n"
     ]
    }
   ],
   "source": [
    "# Number of unique rated items\n",
    "total_item_id = len(new_data['movieId'].unique())\n",
    "print(\"Total number of unique rated items:\", total_item_id)\n"
   ]
  },
  {
   "cell_type": "markdown",
   "metadata": {
    "id": "y2XGHdnbLms4"
   },
   "source": [
    "### Preliminary data analysis\n",
    "Top 10 most popular movies in the dataset.\n"
   ]
  },
  {
   "cell_type": "code",
   "execution_count": 32,
   "metadata": {
    "colab": {
     "base_uri": "https://localhost:8080/"
    },
    "id": "V-jcrW96lwsW",
    "outputId": "b2e287d7-0d06-42ea-f494-fafaae8a017d"
   },
   "outputs": [
    {
     "name": "stdout",
     "output_type": "stream",
     "text": [
      "title\n",
      "Inception (2010)                                             5063\n",
      "Dark Knight, The (2008)                                      4737\n",
      "Matrix, The (1999)                                           4697\n",
      "Interstellar (2014)                                          4556\n",
      "Shawshank Redemption, The (1994)                             4454\n",
      "Fight Club (1999)                                            4382\n",
      "Lord of the Rings: The Fellowship of the Ring, The (2001)    4007\n",
      "Everything Everywhere All at Once (2022)                     3989\n",
      "Lord of the Rings: The Return of the King, The (2003)        3842\n",
      "Dune (2021)                                                  3838\n",
      "Name: count, dtype: int64\n"
     ]
    }
   ],
   "source": [
    "# Find the top 10 most frequently rated movies\n",
    "top_movies = new_data['title'].value_counts().nlargest(10)\n",
    "print(top_movies)\n"
   ]
  },
  {
   "cell_type": "markdown",
   "metadata": {
    "id": "1KOFiKMCr0_4"
   },
   "source": [
    "The histogram of popularity (x-axis: # of given ratings, y-axis: # of movies with the given # of ratings)."
   ]
  },
  {
   "cell_type": "code",
   "execution_count": 33,
   "metadata": {
    "colab": {
     "base_uri": "https://localhost:8080/",
     "height": 607
    },
    "id": "iES1dtjRmnvv",
    "outputId": "e733011a-bc29-4e1f-cf28-893a9b60b985"
   },
   "outputs": [
    {
     "data": {
      "image/png": "[encoded data removed]",
      "text/plain": [
       "<Figure size 576x432 with 1 Axes>"
      ]
     },
     "metadata": {
      "needs_background": "light"
     },
     "output_type": "display_data"
    }
   ],
   "source": [
    "import matplotlib.pyplot as plt\n",
    "\n",
    "# Calculate the number of ratings per movie\n",
    "ratings_per_movie = new_data['title'].value_counts()\n",
    "\n",
    "# Plot the histogram\n",
    "plt.figure(figsize=(8, 6))\n",
    "plt.hist(ratings_per_movie, bins=50, color='skyblue', edgecolor='black', log=True)\n",
    "\n",
    "# Add labels and title\n",
    "plt.title('Histogram of Movie Popularity', fontsize=14)\n",
    "plt.xlabel('# of Ratings', fontsize=12)\n",
    "plt.ylabel('# of Movies', fontsize=12)\n",
    "plt.grid(axis='y', linestyle='--', alpha=0.7)\n",
    "\n",
    "# Show the plot\n",
    "plt.tight_layout()\n",
    "plt.show()\n"
   ]
  },
  {
   "cell_type": "markdown",
   "metadata": {
    "id": "9e7Er529r3xY"
   },
   "source": [
    "The histogram of user activity (x-axis: # of given ratings, y-axis: # of users with the given # of ratings)."
   ]
  },
  {
   "cell_type": "code",
   "execution_count": 34,
   "metadata": {
    "colab": {
     "base_uri": "https://localhost:8080/",
     "height": 607
    },
    "id": "f-5mN1F6qLLF",
    "outputId": "4e08f921-f743-4e9c-f5a2-3ca055eec7d0"
   },
   "outputs": [
    {
     "data": {
      "image/png": "[encoded data removed]",
      "text/plain": [
       "<Figure size 576x432 with 1 Axes>"
      ]
     },
     "metadata": {
      "needs_background": "light"
     },
     "output_type": "display_data"
    }
   ],
   "source": [
    "\n",
    "# Calculate the number of ratings per user\n",
    "ratings_per_user = new_data['userId'].value_counts()\n",
    "\n",
    "# Plot the histogram\n",
    "plt.figure(figsize=(8, 6))\n",
    "plt.hist(ratings_per_user, bins=50, color='orange', edgecolor='black', log=True)\n",
    "\n",
    "# Add labels and title\n",
    "plt.title('Histogram of User Activity', fontsize=14)\n",
    "plt.xlabel('# of Ratings Given by Users', fontsize=12)\n",
    "plt.ylabel('# of Users', fontsize=12)\n",
    "plt.grid(axis='y', linestyle='--', alpha=0.7)\n",
    "\n",
    "# Show the plot\n",
    "plt.tight_layout()\n",
    "plt.show()\n"
   ]
  },
  {
   "cell_type": "markdown",
   "metadata": {
    "id": "0WoXNZuSxFmc"
   },
   "source": [
    "Let's check the distribution of the movies."
   ]
  },
  {
   "cell_type": "markdown",
   "metadata": {
    "id": "NR1PoZR_xLmk"
   },
   "source": [
    "Firstly, we need to check if all rows contain 'year' information:"
   ]
  },
  {
   "cell_type": "code",
   "execution_count": 35,
   "metadata": {
    "colab": {
     "base_uri": "https://localhost:8080/"
    },
    "id": "RY1knHVqxExm",
    "outputId": "14fa7406-8b76-4052-eeda-1789e1a5a70d"
   },
   "outputs": [
    {
     "name": "stdout",
     "output_type": "stream",
     "text": [
      "The following titles are missing year information:\n",
      "                          title\n",
      "7644912           The Favourite\n",
      "7644913           The Favourite\n",
      "7644915           The Favourite\n",
      "7644917           The Favourite\n",
      "7644920           The Favourite\n",
      "...                         ...\n",
      "31998839          Baby Driver 2\n",
      "31999215                    过昭关\n",
      "31999564               Fear Not\n",
      "32000107          My Thai Bride\n",
      "32000178  When The Bough Breaks\n",
      "\n",
      "[9916 rows x 1 columns]\n"
     ]
    }
   ],
   "source": [
    "\n",
    "# Check if the title column contains a year in parentheses\n",
    "new_data['has_year'] = new_data['title'].str.contains(r'\\(\\d{4}\\)', regex=True)\n",
    "\n",
    "# Identify titles missing the year\n",
    "missing_year_titles = new_data[~new_data['has_year']]\n",
    "\n",
    "# Output the result\n",
    "if missing_year_titles.empty:\n",
    "    print(\"All titles include a bracket containing year information.\")\n",
    "else:\n",
    "    print(\"The following titles are missing year information:\")\n",
    "    print(missing_year_titles[['title']])\n"
   ]
  },
  {
   "cell_type": "markdown",
   "metadata": {
    "id": "xl4NfMxwx8ih"
   },
   "source": [
    "Count how many movies are missing their 'year' information:"
   ]
  },
  {
   "cell_type": "code",
   "execution_count": 36,
   "metadata": {
    "colab": {
     "base_uri": "https://localhost:8080/"
    },
    "id": "zSQG4T01x7mp",
    "outputId": "0284315c-6dbe-4812-a196-898f06c435e5"
   },
   "outputs": [
    {
     "name": "stdout",
     "output_type": "stream",
     "text": [
      "There are 250 unique movies missing year information.\n"
     ]
    }
   ],
   "source": [
    "# Step 1: Filter rows where the title is missing year information\n",
    "missing_year_titles = new_data[~new_data['has_year']]\n",
    "\n",
    "# Step 2: Count unique movies (titles) missing year information\n",
    "unique_missing_titles_count = missing_year_titles['title'].nunique()\n",
    "\n",
    "# Output the result\n",
    "print(f\"There are {unique_missing_titles_count} unique movies missing year information.\")\n"
   ]
  },
  {
   "cell_type": "markdown",
   "metadata": {
    "id": "SbX2MCH_y_9B"
   },
   "source": [
    "Considering that we have around 51k unique movies in this dataset, we can just ignore the missing information and generate a distribution plot of the rest movies."
   ]
  },
  {
   "cell_type": "markdown",
   "metadata": {
    "id": "jyB_iErJervy"
   },
   "source": [
    "The histogram of movie years (x-axis: # year, y-axis: # of movies produed in that year)."
   ]
  },
  {
   "cell_type": "code",
   "execution_count": 37,
   "metadata": {
    "colab": {
     "base_uri": "https://localhost:8080/",
     "height": 607
    },
    "id": "zjnfLqymy-_2",
    "outputId": "46b49637-e4d5-46b7-fc2c-59fe3e3cc5c4"
   },
   "outputs": [
    {
     "data": {
      "image/png": "[encoded data removed]",
      "text/plain": [
       "<Figure size 864x432 with 1 Axes>"
      ]
     },
     "metadata": {
      "needs_background": "light"
     },
     "output_type": "display_data"
    }
   ],
   "source": [
    "import pandas as pd\n",
    "import matplotlib.pyplot as plt\n",
    "\n",
    "# Step 1: Filter rows with valid year information\n",
    "new_data_with_year = new_data[new_data['has_year']].copy()\n",
    "\n",
    "# Step 2: Extract the year from the title column\n",
    "new_data_with_year['year'] = new_data_with_year['title'].str.extract(r'\\((\\d{4})\\)')\n",
    "\n",
    "# Step 3: Remove duplicates based on the title column\n",
    "unique_movies = new_data_with_year.drop_duplicates(subset='title')\n",
    "\n",
    "# Step 4: Count the number of unique movies produced each year\n",
    "movies_per_year = unique_movies['year'].value_counts().sort_index()\n",
    "\n",
    "# Step 5: Plot the histogram of unique movies by year\n",
    "plt.figure(figsize=(12, 6))\n",
    "movies_per_year.plot(kind='bar', width=0.8, color='skyblue')\n",
    "\n",
    "# Set x-axis labels to display every 5 years\n",
    "plt.title('Number of Unique Movies Produced by Year', fontsize=16)\n",
    "plt.xlabel('Year', fontsize=14)\n",
    "plt.ylabel('Number of Movies', fontsize=14)\n",
    "plt.xticks(range(0, len(movies_per_year), 5), movies_per_year.index[::5], rotation=45)\n",
    "plt.grid(axis='y', linestyle='--', alpha=0.7)\n",
    "plt.tight_layout()\n",
    "plt.show()\n"
   ]
  },
  {
   "cell_type": "markdown",
   "metadata": {
    "id": "nI7Tomlfr64A"
   },
   "source": [
    "Compute the average ratings for every movie and find the top 20 highly rated movies."
   ]
  },
  {
   "cell_type": "code",
   "execution_count": 38,
   "metadata": {
    "colab": {
     "base_uri": "https://localhost:8080/"
    },
    "id": "3TFUhkPEqyLq",
    "outputId": "48c65965-bcf5-4630-b4ed-0ee0138d49fc"
   },
   "outputs": [
    {
     "name": "stdout",
     "output_type": "stream",
     "text": [
      "Top 50 Highly Rated Movies:\n",
      "title\n",
      "Life is to Whistle (Vida es silbar, La) (1998)           5.0\n",
      "Classic Albums: The Doors - The Doors (2008)             5.0\n",
      "The Godfather Family: A Look Inside (1990)               5.0\n",
      "Classic Albums: Metallica - Metallica (2001)             5.0\n",
      "Class (2010)                                             5.0\n",
      "Suzy Snowflake (1951)                                    5.0\n",
      "Ace of Hearts (2008)                                     5.0\n",
      "Promise of Pisa (2019)                                   5.0\n",
      "Clancy Once Again (2017)                                 5.0\n",
      "Clancy (2009)                                            5.0\n",
      "Civilisation (1969)                                      5.0\n",
      "Civil Love (2012)                                        5.0\n",
      "City of Your Final Destination, The (2009)               5.0\n",
      "Susie's Hope (2013)                                      5.0\n",
      "With Love, Christmas (2017)                              5.0\n",
      "Autumn Stables (2018)                                    5.0\n",
      "Propaganda (2012)                                        5.0\n",
      "American Circumcision (2017)                             5.0\n",
      "City of Joy (2016)                                       5.0\n",
      "Surviving The Wild (2018)                                5.0\n",
      "Nine Days of One Year (1961)                             5.0\n",
      "Classic Albums: Nirvana - Nevermind (2005)               5.0\n",
      "Dällebach Kari (1970)                                    5.0\n",
      "Witnesses (2021)                                         5.0\n",
      "Warning: Parental Advisory (2002)                        5.0\n",
      "Hut in the Woods (2011)                                  5.0\n",
      "Clipping Adam (2004)                                     5.0\n",
      "Climate Change: The Facts (2019)                         5.0\n",
      "When the Raven Flies (1984)                              5.0\n",
      "Project Christmas Wish (2020)                            5.0\n",
      "A Greater Yes: The Story of Amy Newhouse (2009)          5.0\n",
      "Out of Liberty (2019)                                    5.0\n",
      "No Lost Cause (2011)                                     5.0\n",
      "Sweet Carolina (2021)                                    5.0\n",
      "The Atrocity Exhibition (2000)                           5.0\n",
      "Lambchops (1929)                                         5.0\n",
      "Sweet As (2022)                                          5.0\n",
      "Half a Dozen Babies (1999)                               5.0\n",
      "With or Without You (2021)                               5.0\n",
      "A Godwink Christmas: Second Chance, First Love (2020)    5.0\n",
      "Root of the Problem (2019)                               5.0\n",
      "Projectionist, The (1971)                                5.0\n",
      "A Girl's Best Friend (2015)                              5.0\n",
      "Tirza (2010)                                             5.0\n",
      "Nina's Heavenly Delights (2006)                          5.0\n",
      "She Spent So Many Hours Under the Sun Lamps (1985)       5.0\n",
      "Dying to Belong (1997)                                   5.0\n",
      "Cirque du Soleil: Saltimbanco (1997)                     5.0\n",
      "PsyWar: The real battlefield is your mind (2010)         5.0\n",
      "A Father for Brittany (1998)                             5.0\n",
      "Name: rating, dtype: float64\n"
     ]
    }
   ],
   "source": [
    "\n",
    "# Compute the average rating for each movie\n",
    "movie_avg_ratings = new_data.groupby('title')['rating'].mean()\n",
    "\n",
    "# Sort the movies by their average ratings in descending order\n",
    "top_50_movies = movie_avg_ratings.sort_values(ascending=False).head(50)\n",
    "\n",
    "# Print the results\n",
    "print(\"Top 50 Highly Rated Movies:\")\n",
    "print(top_50_movies)\n"
   ]
  },
  {
   "cell_type": "markdown",
   "metadata": {
    "id": "OYXD-eNv4PyD"
   },
   "source": [
    "We see that some highly rated movies are not popular ones."
   ]
  },
  {
   "cell_type": "markdown",
   "metadata": {
    "id": "6vpHXadZhff3"
   },
   "source": [
    "histogram of the movies(yesars)"
   ]
  },
  {
   "cell_type": "markdown",
   "metadata": {
    "id": "Ur4bjuniUUFj"
   },
   "source": [
    "---\n",
    "## Train, Validation, and Test Data\n",
    "\n",
    "Now we will split the data in _train_, _val_ and _test_ be using a pre-defined function from [scikit-learn](http://scikit-learn.org/stable/)"
   ]
  },
  {
   "cell_type": "code",
   "execution_count": 39,
   "metadata": {
    "id": "ZT5oxhoGUUFm"
   },
   "outputs": [],
   "source": [
    "#Split the data into train, validation and test\n",
    "from sklearn.model_selection import train_test_split\n",
    "\n",
    "ratings_trainval, ratings_test = train_test_split(new_data, test_size=0.1, random_state=42)\n",
    "\n",
    "ratings_train, ratings_val = train_test_split(ratings_trainval, test_size=0.1, random_state=42)"
   ]
  },
  {
   "cell_type": "code",
   "execution_count": 40,
   "metadata": {
    "id": "_xIuapYfBssG"
   },
   "outputs": [],
   "source": [
    "user_id_train = ratings_train['userId']\n",
    "item_id_train = ratings_train['movieId']\n",
    "rating_train = ratings_train['rating']\n",
    "\n",
    "user_id_test = ratings_test['userId']\n",
    "item_id_test = ratings_test['movieId']\n",
    "rating_test = ratings_test['rating']"
   ]
  },
  {
   "cell_type": "code",
   "execution_count": 41,
   "metadata": {
    "colab": {
     "base_uri": "https://localhost:8080/"
    },
    "id": "kRo_Un-IBiof",
    "outputId": "d86e4633-65b3-4f86-a477-89803cb3624d"
   },
   "outputs": [
    {
     "name": "stdout",
     "output_type": "stream",
     "text": [
      "{'Functional Fitness', 'Larva (2005)', 'The Truth (2006)', 'I Want To Go To Prison (1999)', 'The Mascot (1934)', \"Trent's Last Case (1952)\", 'Treasure Island (1971)', 'Spy Games (1999)', 'Help, Veggos - Obvious Agent 000! (1967)', 'Gandhi, My Father (2007)', 'Shark Attack 3: Megalodon (2002)', 'Biking Borders - eine etwas andere Reise (2021)', 'Jezebel (2020)', 'Sylvia Plath: Inside the Bell Jar (2018)', 'Slaw (2016)', 'Living Sculptures: Film Study for Screen Artist (1903)', 'Merry War, A (1997)', 'No Entry (2005)', 'Demolition of a Wall (1896)', 'Manson (2009)', 'Red Planet Mars (1952)', \"Liar's Autobiography: The Untrue Story of Monty Python's Graham Chapman, A (2012)\", 'In Search for Flight AF447 (2019)', 'Hector the Mighty (1972)', 'Contemporary Color (2016)', 'Falling Angels (2003)', 'Crusher Joe (1983)', 'Kitty Love: An Homage to Cats (2021)', 'Last Shot, The (2004)', 'Camp wedding (2019)', 'Social Animals (2018)', 'Francofonia (2015)', 'Arjun: The Warrior Prince (2012)', 'Afflicted, The (2010)', 'Cabin in the Sky (1943)', 'The Farewell Party (2014)', 'The Journey (2014)', 'The Polish Bride (1998)', 'Believer (2018)', 'Mo Farah: No Easy Mile (2016)', 'My Mother (2015)', 'Ouija House (2018)', 'Coronation (2020)', 'The Spiral (1978)', 'Una de Zombis (2003)', 'Bulletproof 2 (2020)', 'Operation Mekong (2016)', 'A Hound for Trouble (1951)', 'London 2012 Olympic Opening Ceremony: Isles of Wonder (2012)', 'Wish Upon a Wedding (2023)', 'Little Tragedies (1980)', 'Found. (2020)', '091: Police speaking (1960)', \"But Muzeyyen That's the Deepest Desire (2014)\", 'Time Walker (a.k.a. Being From Another Planet) (1982)', 'Fugue on the Black Keys (1965)', 'A Son of Erin (1916)', 'Diminished Capacity (2008)', 'White Building (2021)', 'Elephants Can Play Football (2018)', 'After the Fall (2014)', 'Jungle Warriors (1984)', 'June Night (1940)', 'Brutal (2017)', 'Secrets from Putumayo (2020)', 'The Killer Eye (1999)', 'A Sticky Woman (1906)', \"Dive! (Dive!: Living off America's Waste) (2010)\", 'Show Biz Bugs (1957)', 'Plague (1979)', 'A Taste of Summer (2019)', 'Black Box, The (La boîte noire) (2005)', 'Eddie Izzard: Live at Madison Square Garden (2011)', 'Groupers (2019)', \"A Doll's House (1973)\", 'Warriors of the Dawn (2017)', 'Scorpion (2007)', \"For Love's Sake (2013)\", 'Death Smiles on a Murderer (1973)', 'Edifício Master (2002)', 'Why I Wore Lipstick to My Mastectomy (2006)', 'The Hick Chick (1946)', 'Punch and Judy (1966)', 'Hair Wolf (2018)', 'The Maus (2017)', 'Tennessee Johnson (1942)', 'Borsalino (1970)', 'Malta Story (1953)', 'Windows (1980)', 'The Last Command (1955)', 'As Good as Dead (2022)', 'The Referees (2009)', 'Plan Bee (2007)', 'Thérèse (2012)', 'Plus one (2008)', 'My Body Will Bury You (2021)', 'Blossoms of Faith (2015)', 'A Carrocinha (1955)', 'The Black Arrow (1948)', 'The Healing Garden (2021)', 'Directly Kakha (2020)', 'Robin Williams: A Night at the Met (1986)', \"Maggie's Passage (2009)\", 'The Widows of Thursdays (2009)', 'Qarib Qarib Singlle (2017)', 'Who? (1973)', 'The Perfect Pairing (2022)', 'Blue Island (2022)', 'Ex (2009)', 'Sahte Kabadayı (1976)', 'The Warriorr (2022)', 'Lambchops (1929)', 'Run, Melos! (1992)', 'Brendan Smyth:  Betrayal of Trust (2011)', 'After Effect (2013)', 'Question of Silence, A (De stilte rond Christine M.) (1982)', 'Miss Farkku-Suomi (2012)', 'Force of Execution (2013)', 'The Watchers: Beginning (2015)', 'Welcome the Stranger (2018)', '499 (2021)', 'Diane (2017)', 'To Dance with the White Dog (1993)', 'Beyond Acceptance (2011)', 'Klara (2010)', 'How Awful About Allan (1970)', 'City Rats (2009)', 'Time, Forward! (1965)', 'Girls Nite Out (1982)', 'Lucky and Zorba (1998)', 'Burning Hot Summer, A (Un été brûlant) (2011)', 'Tale of the Wind, A (Histoire de vent, Une) (1988)', 'Ee. Ma. Yau (2018)', 'Jack and the Beanstalk (1974)', 'Kolberg (1945)', 'Attraction (2000)', 'Tintin and I (2003)', 'The Pink Blueprint (1966)', 'Ginger and Fred (Ginger e Fred) (1986)', 'Repentance (Monanieba) (1984)', 'John Oliver: Terrifying Times (2008)', 'The Vengeance of Ursus (1961)', 'Mystic Game (2017)', 'How to Sleep (1953)', 'Naked Weapon (Chek law dak gung) (2002)', 'O Candidato Honesto (2014)', 'Secret (2011)', 'A Strange Affair (1981)', 'Midnight Crossing (1988)', 'Blood on the Sun (1945)', 'Octocat Adventures (2008)', 'Cameraman Ganga Tho Rambabu (2012)', 'Skid Marks (2007)', 'Shadowless Sword (2005)', 'Godsend (2013)', 'A Burlesque on Carmen (1915)', 'Smell of Camphor, Fragrance of Jasmine (Booye kafoor, atre yas) (2000)', 'In Other Words (2020)', 'The Moon and the Sledgehammer (1971)', 'Knife Fight (2013)', 'Armwrestler From Solitude, The (Armbryterskan från Ensamheten) (2004)', 'Great Bank Hoax, The (1978)', 'More Than Chance (2010)', 'Ballermann 6 (1997)', 'Point and Line to Plane (2020)', 'Christmas Wedding Planner (2017)', 'Love and the Frenchwoman (1960)', 'Attack of the Robots (1966)', 'Vidar the Vampire (2017)', 'Carnival Magic (1981)', \"Hanna's War (1988)\", 'Good King Wenceslas (1994)', \"A Children's Story (2004)\", 'Gringa (2023)', 'Zorn - Wie sie töten (2016)', 'Boys Playing Leapfrog: Side View (1887)', 'Good Fairy, The (1935)', 'Les barons (2009)', 'Battle for Haditha (2007)', 'The Misguided (2018)', 'The Time Agent (2016)', 'Armed Response (1986)', 'Das Feuerschiff (1963)', 'Artists Under the Big Top: Perplexed (1968)', 'Trisha Illana Nayanthara (2015)', \"Creature Wasn't Nice, The (a.k.a. Naked Space) (a.k.a. Spaceship) (1981)\", 'The Magic Quill (2018)', 'Cat Girl Kiki (2006)', 'Just My Type (2020)', \"Leanne Morgan: I'm Every Woman (2023)\", 'Eloise (2009)', 'Two Faces of My Girlfriend (2007)', 'Otley (1968)', 'Spring Fever (1919)', '3 Rooms of Melancholia, The (Melancholian 3 huonetta) (2004)', \"The Vampire's Ghost (1945)\", 'The Passover Plot (1976)', 'Silver Heads (1999)', 'Tidy Tims (2020)', 'Keeping Up With The Kandasamys (2017)', 'Elsa the Rose (1966)', 'Break of Hearts (1935)', 'Apartment Troubles (2014)', 'Cherry Tobacco (2014)', 'Ratz (2000)', 'Fish Tales (1936)', 'Smoke and Mirrors: The Story of Tom Savini (2015)', 'Bad Trip (2017)', 'No One Writes to the Colonel (El coronel no tiene quien le escriba) (1999)', 'Naufragio (1978)', 'House of Fury (2005)', 'Like It Never Was Before (1995)', 'What We Left Unfinished (2019)', 'The Ceiling (2018)', 'Tuscaloosa (2020)', 'Fist of the Condor (2023)', 'Graveyard of Honor (1975)', 'Emerald Green (2016)', 'Camping 3 (2016)', 'All Your Faces (2023)', 'The Black Angels (1970)', 'Elaine Stritch: Shoot Me (2013)', 'System K (2020)', 'Bite (2015)', 'Hijacking Agatha (1993)', 'The Other Fellow (2023)', 'A Chinese in a Coma (2000)', 'The Mole Song: FINAL (2021)', 'Morgue (2019)', 'Dreaming the Reality (1991)', 'Smash Palace (1982)', 'The Last Train from Madrid (1937)', 'Eat (2014)', 'Roadside (2013)', 'The Haunting of Pendle Hill (2022)', 'Sicilian Vampire (2015)', 'The Cave of the Golden Rose 3 (1993)', 'British Agent (1934)', 'Standing Tall (2015)', 'The Child of Paris (1913)', 'El Viaje de la Nonna (2008)', 'A Sunday Horse (2016)', 'Ecce bombo (1978)', 'Moses and Aaron (1975)', 'Montana Trap (1976)', 'The Big Road (1935)', 'The Furnace (2019)', 'Return of the One-Armed Swordsman (1969)', 'Illegal (1955)', 'Never Again (2018)', 'Dead West (2010)', 'The Northlander (2016)', \"My Father's Violin (2022)\", 'Night Train (2023)', 'Heimat - A Chronicle of Germany (Heimat - Eine deutsche Chronik) (1984)', 'Eva', \"Rock and Roll's Greatest Failure: Otway the Movie (2013)\", 'Cold Meridian (2020)', 'Metallica & San Francisco Symphony: S&M2 (2019)', 'Stranded in Paradise (2014)', 'The Big Job (1965)', 'Beloved Infidel (1959)', 'Blood Runs Cold (2011)', 'Mubarakan (2017)', 'Zaytoun (2012)', 'The Oath (2016)', 'Red Snow (2019)', \"Daddy's War (1977)\", 'Makdee (2002)', 'Mata Hari (1931)', 'Argument About Basia (1959)', 'Elf-Man (2012)', 'First Love (1939)', 'Ill-Fated Love (Doomed Love) (Amor de Perdição) (1979)', 'The Black Press: Soldiers Without Swords (1999)', 'The River Fuefuki (1960)', 'Van Gogh: Painted with Words (2010)', 'Laerte-se (2017)', 'Forever Female (1954)', 'Hollywood Capers (1935)', 'Assault! Jack the Ripper (1976)', 'The Stolen (2017)', 'Sex with a Smile (1976)', 'Say a Word for the Poor Hussar (1980)', 'Hipnos (2004)', 'Terror in the Streets (1970)', 'For Lovers Only (2011)', 'We Choose To Go (2020)', 'Chronicle of the Years of Fire (Chronique des années de braise) (1975)', 'David Blaine: Ascension (2020)', \"You're Only Young Once (1937)\", 'The Last Race (2018)', 'Rebirth (2011)', 'Joker Is Wild, The (All the Way) (1957)', 'The Beatles Explosion (2007)', 'Tummy Trouble (1989)', 'Titina (2022)', 'Harmony (2018)', 'Burn the Witch (2020)', 'Golden Swallow (1968)', 'Bengal Tiger (2015)', 'Cirque du Soleil: Saltimbanco (1997)', 'Tan Lines (2005)', 'The Magic Rosette (1878)', 'New Orleans (1947)', 'Sons of the Clouds: The Last Colony (2012)', \"Relax... It's Just Sex (1998)\", 'Sand Castles (2014)', 'Born to Win (1971)', 'The Adventures of Pinocchio (1975)', 'Spring and Chaos (1996)', 'Christmas Getaway (2017)', 'Wise Girl (1937)', 'Broken Vows (2016)', 'Sandpiper, The (1965)', 'Mortified Nation (2013)', 'The Passionate Stranger (1957)', 'The Eternal Jew (1940)', 'Black Ice (2022)', '125, rue Montmartre (1959)', 'Bandolero! (1968)', 'Stones for the Rampart (2014)', 'Trust Me (2010)', 'Samurai Wolf II (1967)', 'That Moment, My Heart Cried (2019)', \"Donovan's Brain (1953)\", 'Happy Valley (2014)', 'Partners (1982)', 'Samurai Marathon (2019)', 'Cry Me a Sad River (2018)', 'OnlyFans: Selling Sexy (2021)', 'Mission to Mars (2022)', 'Notes on the Circus (1966)', 'Hercules and the Lost Kingdom (1994)', 'The Sound of the Spirit (2012)', 'Far Out Man (1990)', 'Close Range (2015)', 'The Family Björck (1940)', 'Monsterwolf (2010)', 'Like Cats & Dogs (2017)', 'Tilva Ros (2011)', 'Let No Man Write My Epitaph (1960)', 'A Father for Brittany (1998)', 'Our Last Weekend (2011)', 'Arlette (1997)', 'Quid Pro Quo (2008)', 'The Girl in the Book (2015)', 'Urusei Yatsura: Only You (1983)', 'The Truck (2008)', 'The Assassination of Abraham Lincoln (2009)', 'The King and I (2018)', 'Warrendale (1967)', 'Closing Words (2021)', 'Satan in Prison (1907)', 'The Inventor (2023)', 'Eye for an Eye, An (Talion) (1966)', 'Poverty and Nobility (1954)', 'I Shot Jesse James (1949)', 'Life Goes On (1963)', 'Słaba płeć? (2015)', 'Shotgun (1955)', 'You Are My Sunshine (2005)', 'Huhwihaji Anha (No Regret) (2006)', 'Our Lady of the Sphere (1972)', 'Favela Rising (2005)', 'Commandment Keeper Church, Beaufort South Carolina, May 1940 (1940)', \"Amber's Descent (2020)\", 'Beside Still Waters (2013)', 'The Viking Sagas (1995)', 'Kids on the Slope (2018)', \"Charlie's Country (2013)\", 'Tracey Ullman: Live and Exposed (2005)', 'Unearth (2020)', 'I Got the Hook Up 2 (2019)', 'Maniac (1963)', 'Menya zovut Arlekino (1988)', 'Queen of Outer Space (1958)', 'A Bride for Henry (1937)', 'Garbage Prince (2011)', 'The Demons of Ludlow (1983)', 'A Toytown Tale (1931)', 'Decade (1989)', 'Steambath (1973)', 'Merry & Bright (2019)', 'Anukokunda Oka Roju (2005)', 'Starry starry night (Xing kong) (2011)', 'Last Summer (2021)', 'Bad Apples (2018)', 'The Final Winter (2007)', '25 Million Pounds (1996)', 'Transformator (2003)', 'Adam 2.0 (2020)', 'Outside Ozona (1998)', 'The World Made Straight (2015)', 'Ingenious (2009)', 'A Rifle and a Bag (2020)', 'Bedevilled Rabbit (1957)', '00 Schneider - Im Wendekreis der Eidechse (2013)', 'Gravity (Schwerkraft) (2009)', 'Sweeney Todd: The Demon Barber of Fleet Street (2014)', 'My Mother and Her Guest (Sarangbang sonnimgwa eomeoni) (1961)', 'Os Cafajestes (1962)', 'Keep Your Seats, Please (1936)', 'Not Going Quietly (2021)', 'Mission to the Sun (2018)', 'Incense for the Damned (1970)', 'World of Suzie Wong, The (1960)', 'The Green Widow (1968)', 'The Entire Universe (2016)', 'Taira Clan Saga, The (Shin heike monogatari) (1955)', 'Return to Babylon (2013)', 'Negerboll (2010)', 'Cane Toads: The Conquest (2010)', 'Totò e Carolina (1955)', 'Céline Dion: A New Day... (Live In Las Vegas) (2007)', 'Unmasking Jihadi John: Anatomy of a Terrorist (2019)', 'Papi Sitter (2020)', 'Purely Belter (2000)', 'The Crossing (2004)', 'See Girl Run (2013)', 'The Little Wars (1982)', 'The Noose Hangs High (1948)', 'Vanessa (1977)', 'Recurrence (2022)', 'Hold the Lion, Please (1942)', 'Rock Around the Clock (1956)', 'Everybody Rides the Carousel (1975)', 'Bad Ben: Pandemic (2020)', 'Marry Go Round (2022)', 'Julius Caesar (1950)', \"The Perfect Age of Rock 'n' Roll (2011)\", 'American Dharma (2018)', \"Pamela's Prayer (1998)\", 'Malos hábitos (2007)', 'Transpecos (2016)', 'The Jump (2020)', 'Guest from the Future (Gostya iz buduschego) (1985)', 'Special Forces (2003)', 'Gandu (2010)', 'Mill and the Cross, The (2011)', 'The Boy Who Came Back (1958)', 'Haunted, Horrifying Sounds from Beyond the Grave (2018)', 'Northpole (2014)', 'Last Summer in the Hamptons (1995)', 'War-Time Romance (1983)', 'Rubble Kings (2015)', 'Rangle River (1936)', '11/8/16 (2017)', 'The Rye Horn (2023)', 'Plastic Man: The Artful Life of Jerry Ross Barrish (2015)', 'What the Constitution Means to Me (2020)', 'Disappearing Acts (2000)', 'Journey to the Center of the Earth (2008)', 'Sexology (2016)', 'Dance Camp (2016)', \"Big Picture, The (L'homme qui voulait vivre sa vie) (2010)\", 'Quigley (2003)', 'The Birdwatcher (2016)', 'Once Upon a Prince (2018)', 'Sachin: A Billion Dreams (2017)', 'Arms and the Man (1958)', 'Paradox (2018)', 'Murder in New Hampshire: The Pamela Wojas Smart Story (1999)', 'Letters to God (2010)', 'Hollywoodism: Jews, Movies and the American Dream (1998)', 'One Hundred Nails (2007)', 'Bad for Each Other (1953)', 'Our Eternal Summer (2022)', 'You Die... But I Live (1967)', 'Quintet (1979)', 'The Bright Day (2012)', 'O Pioneers! (1992)', 'Ash (2019)', \"On the Edge of 'Blade Runner' (2000)\", 'Hypersomnia (2016)', 'All Fun and Games (2023)', 'Cabinet of Caligari, The (1962)', 'Unconscious (Inconscientes) (2004)', 'Ticket to Heaven (1981)', 'Shiloh 2: Shiloh Season (1999)', \"It Goes There: Degrassi's Most Talked About Moments (2015)\", 'Star (2014)', 'A Valentine Carol (2007)', 'Swords, Knives, Very Sharp Objects and Cutlery (2012)', 'Dracula Sir (2020)', 'Other Voices, Other Rooms (1995)', 'Amateur Porn Star Killer 2 (2008)', 'The Reading Room (2005)', \"Look What's Happened to Rosemary's Baby (a.k.a. Rosemary's Baby II) (1976)\", 'Brooklyn Bridge (1981)', 'A Man Au Pair (2013)', 'Alternate Endings: Six New Ways to Die in America (2019)', 'Office Games (2022)', 'Secrets Of State (2008)', 'Commercial Entertainment Product (1992)', 'Hayride 2 (2015)', 'Johnny Cash: The Redemption of an American Icon (2022)', 'Hopeless (2023)', 'Nurnberg (2023)', 'Hotel (2001)', 'A Bride from the North (1975)', 'Uncle Vanya (2020)', 'Mad Cats (2023)', 'Scuola di ladri 2 (1987)', 'Donna Haraway: Story Telling for Earthly Survival (2016)', 'Lost Girl (2020)', 'Buladó (2020)', \"Rooster's Breakfast (Petelinji zajtrk) (2007)\", 'Crush (2009)', 'Elis (2016)', 'Bender: The Beginning (2021)', 'Bright Leaves (2003)', 'Coffee Wars (2023)', 'The Unknown Trilogy (2008)', 'Project Christmas Wish (2020)', 'Gabi, Between Ages 8 and 13 (2022)', 'Sethurama Iyer CBI (2004)', 'Half White (2020)', 'Christmas by Starlight (2020)', 'Turtle Vision (1991)', 'The Abominable Snow Rabbit (1961)', \"It Ain't Over (2023)\", \"Final Cut: The Making and Unmaking of Heaven's Gate (2004)\", 'Moosie (1999)', 'Trigger (2010)', 'Operation Delta Force (1997)', 'Warm Water Under a Red Bridge (Akai hashi no shita no nurui mizu) (2001)', 'Blackburn (2016)', 'Dollar for the Dead (1998)', 'Useful Sheep (1912)', 'Iron Angels (1987)', 'Ecstasy of the Angels (1972)', 'Curious George Swings Into Spring (2013)', 'Avenger (2006) ', 'Natura Bizia (2021)', 'Interceptor Force 2 (2002)', 'Chamber of Death (Chambre des morts, La) (2007)', 'Speak of the Devil (1995)', 'The Greenhouse (2021)', 'The Oil Factor: Behind the War on Terror (2005)', 'The Legend of Fall Creek (2021)', 'Wushu (2008)', '49 Pulses (2017)', 'Pony Excess (2010)', 'Dead by Midnight (Y2Kill) (2022)', 'Inflatable Sex Doll of The Wastelands (1967)', 'Coco (2016)', 'Timequest (2000)', 'Hush (2009)', 'God Tussi Great Ho (2008)', 'Crazy Sexy Cool: The TLC Story (2013)', 'Lady Without Passport, A (1950)', 'Teeth (2015)', 'Take a Girl Like You (1970)', 'Meerkat Moonship (2018)', 'Pojken med guldbyxorna (2014)', 'Zakochani (2000)', 'A Date in 2025 (2017)', 'Don Camillo (1983)', 'First, the Last, The (Les premiers les derniers) (2016)', 'Good Mother, The (1988)', 'The Last Day of August (2012)', 'One Life at a Time (2020)', 'Running for Grace (2018)', 'A Kind of America (2002)', 'Duelist (Hyeongsa) (2005)', 'The Fire Alarm (1935)', 'Tahara (2022)', 'Ta Ra Rum Pum (2007)', 'Out-Foxed (1949)', 'Tap Roots (1948)', 'For the Boys (1991)', 'Accidental Courtesy: Daryl Davis, Race & America (2016)', 'Academy Award Review of Walt Disney Cartoons (1937)', \"The Roe's Room (1997)\", 'Musical Chairs (2012)', 'Yellowstone Supervolcano: American Doomsday (2021)', 'Rio Breaks (2009)', 'Future Kick (1991)', 'Ellis (2015)', 'The Flood (2023)', 'Supporting Characters (2012)', 'Billu Ustaad (2018)', 'Midnight Madness (1980)', 'The Gazebo (1971)', 'Ed and His Dead Mother (1993)', 'Carnival (1982)', 'Bella and the Boys (2004)', 'Kevin Nealon: Now Hear Me Out! (2009)', 'Ballroom, The (Chega de Saudade) (2007)', 'Every Last Secret (2022)', 'The House That Jack Built (1900)', 'Scandinavian Silence (2019)', 'Woman Without a Face (1947)', 'Strays (1997)', 'The Little Gangster (1990)', \"Momma Don't Allow (1956)\", 'Bheja Fry 2 (2011)', 'Raghu Romeo (2003)', 'Sex Files: Sexually Bewitched (2000)', 'La substància (2016)', 'Eat, Drink and Be Married (2019)', 'Marcus (2022)', 'Pictures of Hollis Woods (2007)', 'Princess (2008)', 'Tattooed Life (Irezumi ichidai) (1965)', 'The Young Stranger (1957)', 'The High Frontier (2016)', 'Umberto Eco - A Library of the World (2023)', 'Projectionist, The (1971)', 'Loose in a Caboose (1946)', 'Our Private Lives (2007)', 'Tambour battant (2019)', 'Whatever (1998)', 'Le Grand Partage (2015)', 'Lewis & Clark: The Journey of the Corps of Discovery (1997)', 'A.P.E.X. (1994)', 'Vampires in Havana (1985)', 'Kamper (2016)', 'Simon and Laura (1955)', 'Wicked Stepmother (1989)', 'Party Girl (2014)', 'Swimming with Men (2018)', 'Le Mac (2010)', 'Game Changers: Inside the Video Game Wars (2019)', 'Def by Temptation (1990)', 'Straight Outta LA (2010)', 'Jugend ohne Gott (2017)', 'Cremaster 3 (2002)', 'Marcello Mastroianni: I Remember Yes, I Remember (Marcello Mastroianni: mi ricordo, sì, io mi ricordo) (1997)', 'Festival (2001)', 'O Noviço Rebelde (1997)', 'Industrial Accident: The Story of Wax Trax! Records (2017)', 'Pink Wall (2019)', 's/y Glädjen (1989)', \"I'm No Fool with a Bicycle (1956)\", 'Jeca e Seu Filho Preto (1978)', 'Chronic-Con, Episode 420: A New Dope (2015)', 'Home of Dark Butterflies, The (Tummien perhosten koti) (2008)', 'Dog Days (2001)', 'Still Life (2005)', 'Bharat (2019)', 'West (Occident) (2002)', 'And Everything Is Going Fine (2010)', 'Being Romanian: A Family Journal', 'Here and There (Tamo i ovde) (2009)', 'The Collector (2002)', 'Believeland (2016)', 'The Girl From the Third Row (1949)', 'El Bolero de Raquel (1957)', 'Strangers (2003)', 'Red Room (1999)', 'Brothers: The Return (2006)', 'Shadow Boxers (1999)', 'The 14 Amazons (1972)', 'Aria (2001)', 'Mamma o papà? (2017)', 'Never Let Go (2015)', 'Ajnabee (2001)', 'Ripper Untold (2021)', '300 Miles to Heaven (300 Mil do Nieba) (1989)', 'The Stool Pigeon (2010)', 'High Five (2013)', 'You Are Umasou (2010)', 'The Boogens (1981)', 'The Skulls III (2004)', 'De Hel Van Tanger (2006)', 'The Samaritans (2020)', 'Hideous (2022)', 'Little Tailor (2010)', 'Carry On Dick (1974)', 'Double Labyrinthe (1976)', 'Battle of the Rails, The (La bataille du rail) (1946)', 'Chloe and Theo (2015)', 'Sel8nne (2013)', 'Paradise America (1990)', 'A Christmas Dance Reunion (2021)', 'Master Moley By Royal Invitation (2020)', 'The Land Beyond the Sunset (1912)', 'Tonight and Every Night (1945)', 'Nightmare Code (2014)', 'Tiny Shoulders: Rethinking Barbie (2018)', \"It's Not Yet Dark (2016)\", 'The White Viking (1991)', 'Pond Life (2019)', 'Treehouse (2014)', 'Memories of a Mexican (1950)', 'Safety in Numbers (2006)', 'Never Travel on a One Way Ticket (1987)', 'Garrison Keillor: The Man on the Radio in the Red Shoes (2009)', 'Fox Pop (1942)', 'The Dhamma Brothers (2007)', 'Pareeksha (2020)', 'The Rainbow Thief (1990)', 'Short Stories (2012)', 'Aliens: Zone of Silence (2017)', 'The Hidden Life of Trees (2020)', 'The Oscar (1966)', 'Lie, The (2011)', \"Leprechaun's Revenge (2012)\", 'Treasure Island (2012)', 'Shadowheart (2009)', 'OP Center (1995)', 'The Reading (2023)', 'Billabong Odyssey (2003)', 'Haikyuu!!: vs. Akaten (2016)', 'The Radio Burglary (1951)', 'The Eloquent Peasant (1970)', 'InSearchOf (2009)', 'The Science of Sleep (2016)', 'Dark Wind, The (1991)', 'The Confidence Man JP: Romance (2019)', 'Into the Jungle (2018)', 'Monster on the Campus (1958)', 'Aisha (2022)', 'Mad Masters, The (Les maîtres fous) (1955)', 'Si 3 (2017)', 'Blue Sky (1994)', 'March 30th (2021)', 'Caps (2017)', 'Amerikatsi (2022)', \"Hell's Kitchen (1998)\", 'The Investigator (2008)', 'Fallen Angel: Gram Parsons (2004)', 'Blinky Bill the Movie (2015)', 'Man with the Gun (1955)', 'Cheese Chasers (1951)', 'Lovesick (2016)', \"The Making of 'Psycho' (2005)\", 'Harakiri (1919)', 'Love and Fury (2020)', 'Hear Me Out (2021)', 'What the Hell Is It This Time? Sparks: Live in London (2021)', 'Tamako in Moratorium (2013)', 'Drain Alcatraz (2017)', 'A Dash Through the Clouds (1912)', 'Tripper, The (2006)', 'The Office (1966)', 'Be-Bop-A-Lula (2018)', 'MC-Helper BeKINGs (2022)', 'The Neighbor (2016)', 'Meatball Machine (2005)', \"Michael Jackson's Journey from Motown to Off the Wall (2016)\", 'Life is to Whistle (Vida es silbar, La) (1998)', 'Stratos (2014)', 'Bloody Daughter (2012)', 'Harmful Insect (Gaichu) (2001)', 'Sonja (2006)', 'Mundo Cão', 'Any Old Port! (1932)', 'Baby and Me (2008)', 'Holiday Engagement (2011)', 'Olly Alexander: Growing Up Gay (2017)', 'Wings of Courage (1995)', 'Firm, The (2009)', 'The Retreat (2021)', 'Schlock (1973)', 'Breaking Point: The War for Democracy in Ukraine (2017)', 'Crash of Moons (1954)', 'The Best of Insomniac with Dave Attell Volume 1 (2003)', 'Live Nude Girls (2014)', 'Sector 4: Extraction (2014)', 'Molly: An American Girl on the Home Front (2006)', 'The Storm Within (1948)', 'Skybound (2017)', 'Saban, Son of Saban (1977)', 'Bank Error in Your Favour (Erreur de la banque en votre faveur) (2009)', 'Suitcase Killer: The Melanie McGuire Story (2022)', 'Window Cleaners (1940)', 'Wisconsin Death Trip (1999)', 'Interesting Ball (2014)', 'Instrument of War (2017)', 'Python 2 (2002)', 'Range Riders (1934)', 'Brotherhood of Blades (2014)', 'A Celebration of the Music from Coco (2020)', 'The Geisha (1983)', 'Mister Designer (1988)', 'Anthrax (2001)', 'Crest of the Stars: Birth (2000)', 'Laurin (1989)', 'Peek-a-Boo (1953)', 'In Eagle Shadow Fist (Ding tian li di) (Fist of Anger) (1973)', 'PLANT (2020)', 'Scientist, The (2010)', 'Sadece Sen (2014)', 'The Madwoman of Chaillot (1969)', 'The Paw Project (2013)', 'Gran Casino (1947)', 'Tokyo Eyes (1998)', 'Facing the Fat (2009)', 'Hidden Places (2006)', 'Ah! My Goddess: The Movie (2000)', 'Greetings from Tim Buckley (2013)', 'Puerto Ricans in Paris (2015)', 'A Loud House Christmas (2021)', 'Three Dollars (2005)', \"The Babysitter's Seduction (1996)\", 'Wichita (1955)', 'Trishna (2011)', 'X, Y and Zee (Zee and Co.) (1972)', 'The Wrong Teacher (2018)', 'The Partisans (1963)', 'The Body Fights Back (2020)', 'Dear Father (2022)', 'Brute, The (Bruto, El) (1953)', 'Kicking Blood (2021)', 'A Skin So Soft (2018)', \"Snoopy Presents: Lucy's School (2022)\", 'Pyramid of Triboulet, The (La pyramide de Triboulet) (1899)', 'Roots: The Gift (1988)', 'All We Had (2016)', 'State Fair (1933)', 'The Witching (2016)', 'Encounter with the Unknown (1973)', 'Bitterly! 2 (2014)', 'The Grey Automobile (1919)', 'My Heart Is That Eternal Rose (1989)', 'The 3 (2019)', 'About Face: Supermodels Then and Now (2012)', 'Diaboliquement vôtre (1967)', 'We Are Still Here (2022)', 'The Dragon Spell (2016)', 'Sadako (2019)', 'Seven Billiard Tables (Siete mesas de billar francés) (2007)', 'Death Shadows (1986)', 'Tomorrow We Diet (1951)', 'Apache Uprising (1965)', \"In My Father's Garden (2016)\", 'The Mediator (1990)', 'Curse, The (a.k.a. The Farm) (1987)', 'Listen (2020)', 'Street Kings 2: Motor City (2011)', 'The Unknown Man of Shandigor (1967)', 'Fast and Loose (1930)', 'Gridlock (2002)', 'Gospel, The (2005)', 'Freerunner (2011)', 'Erik the Conqueror (1961)', 'Growing Op (2008)', 'Supermarket (2012)', 'The Sweet Life (2016)', '(T)ERROR (2015)', 'Waar (2013)', 'The Restless (2006)', 'Dil Ka Rishta (2003)', 'The Marriage Fool (1998)', 'Episode 3: Enjoy Poverty (2009)', '2gether (2000)', 'Just Jim (2015)', 'The Shooter (2013)', 'Bitter Years (2019)', 'My Father, Rua Alguem 5555 (2004)', 'Hercules and the Circle of Fire (1994)', 'Thomas & Friends: Hero of the Rails (2009)', \"Elisa's Day (2020)\", 'Everything Went Fine (2021)', 'Endurance (1999)', 'Scales: Mermaids Are Real (2017)', 'Firecracker (2005)', 'Ape, The (1940)', 'Love Upstream (2021)', \"Baldwin's Nigger (1968)\", 'Crossing the Floor (1996)', 'Putin: The New Empire (2017)', 'Wages of Sin (2006)', 'Bem-Vinda a Quixeramobim (2022)', 'Lupin the Third: The Secret of Twilight Gemini (1996)', 'Women in the Night (1948)', 'Umbrella Coup (1980)', 'Who Done It? (1956)', '12 Days of Christmas Eve (2004)', 'Back Page (1934)', 'The Final Rose (2022)', 'The Other Side of Heaven 2: Fire of Faith (2019)', 'The Mistletoe Bough (1904)', 'The West (1996)', 'Puppy Swap: Love Unleashed (2019)', 'Hollywoo (2011)', 'The Gamers: Natural One (2014)', 'xABo: Father Boniecki (2020)', 'Santa Jaws (2018)', 'The Diary of Anne Frank (1995)', 'Necessary Death, A (2008)', 'Tilt (1979)', 'Gift Horse (1952)', 'Crossroads (1976)', 'Doctor Who: The Ultimate Companion (2014)', 'Grand Amour, Le (1969)', 'Wheels (2014)', 'A Place In The Heart (2014)', 'Prison (1988)', 'Destination Marfa (2021)', 'Adicolor Yellow (2006)', 'Source, The (1999)', 'Duane Hopwood (2005)', 'Disconnect. Reconnect (2013)', 'Hurricane (1979)', 'Nine Miles Down (2009)', 'Brass Target (1978)', 'Lured (1947)', 'A Place of Our Own (2004)', 'Mayor Cupcake (2011)', 'Mister Twister: Class of Fun (2012)', 'Ewa Wants to Sleep (1958)', 'Women of the Prehistoric Planet (1966)', 'Inside John Lennon - Unauthorized', 'Till We Meet Again (1955)', 'The Hellstrom Chronicle (1971)', 'Gonchi (2015)', 'Addicted (2002)', 'Tini: The Movie - The New Life of Violetta (2016)', 'Sea Change (2017)', 'Armored Car Robbery (1950)', 'Marie for Memory (1968)', 'Blurred Lines: Inside the Art World (2017)', 'The Island Monster (1954)', 'Pan 0 (1974)', 'Tourist (1985)', 'Allerleirauh (2012)', \"L'histoire d'un crime (1901)\", \"Let's Make a Dream (1936)\", 'The Foursome (2007)', \"Welcome to 'All Saints (2011)\", 'A Place Called Today (1972)', \"Totò all'inferno (1955)\", \"Il bell'Antonio (1960)\", \"Agatha Christie's England (2020)\", 'Viaje (2015)', 'Devil in the Dark (2017)', 'Tigger & Pooh and a Musical Too (2009)', 'Tetsuo III: The Bullet Man (2009)', \"Bram Stoker's Van Helsing (2021)\", 'Silent Hunter (1995)', 'We Are Gamily (2017)', 'In the Land of Saints and Sinners (2023)', 'Just Like a Woman (1992)', 'Vir Das: Losing It (2018)', 'The Black Test Car (1962)', 'Life Even Looks Like a Party (2009)', 'Guru, The Mad Monk (1970)', 'The Confession (2017)', 'Sometimes Aunt Martha Does Dreadful Things (1971)', '4 Horror Tales - Hidden Floor (2006)', 'The Facts of Life Down Under (1987)', 'The Beauty Remains (2005)', 'Kaaka Muttai (2015)', 'Γυναίκες Δηλητήριο (1993)', 'The 8-Year Engagement (2017)', 'The Fantastic Adventures of Unico (1981)', 'The Spy with My Face (1965)', '过昭关', 'Frisky (2015)', 'Cool Breeze (1972)', 'Caved In: Prehistoric Terror (2006)', 'Rudhramadevi (2015)', 'The Gauntlet (2013)', 'Everything Is Simple (2012)', 'The Joy of Life (2005)', 'The Fatal Mallet (1914)', 'Siao Yu (1995)', 'Retreat to You (2023)', 'The Experience (2019)', 'Ambition (2019)', 'Initials S.G. (2019)', 'Thrasher Road (2018)', 'Six Ways to Sunday (1997)', 'The Weekend Murders (1970)', 'Danzón (1991)', 'Enter the Dangerous Mind (2013)', 'Hukkle (2002)', 'Dark Amazon (2014)', 'Dawn Rider, The (1935)', \"Hitler's Steel Beast (2017)\", 'Features of the Russian Bath (1999)', 'Detective Conan: Quarter of Silence (2011)', 'Seasoned With Love (2021)', 'Love Sick (Legaturi bolnavicioase) (2006)', 'Crossing the Line (2006)', 'Boo to You Too! Winnie the Pooh (1996)', 'Killing Spree (1987)', 'Skeletons in the Closet (2001)', 'Fast Food, Fast Women (2000)', 'Behind the Wall (2008)', \"Don't Click (2020)\", 'About Some Meaningless Events (1974)', 'Michael Jackson: Chase the Truth (2019)', 'Dragonboy (2011)', 'Cleanflix (2009)', 'Four Nights with Anna (Cztery noce z Anna) (2008)', 'Apocalyptic (2013)', '15 (2003)', 'Ice and the Sky (2015)', 'This Is Not a Test (2009)', 'Wicked Blood (2014)', 'Topaze (1933)', 'Giordano Bruno (1973)', 'A Wedding (2017)', \"The Baker's Wife (1938)\", 'Bhowani Junction (1956)', 'Visit (2020)', 'The Speed Kings (1913)', 'Prejudice and Pride: Swedish Film Queer (2022)', 'Amish: A Secret Life (2012)', 'Looking on the Bright Side (1932)', 'Genevieve (1953)', '1972 Yellow House (2013)', 'Grim Prairie Tales (1990)', 'Mental (2012)', 'Key Exchange (1985)', 'And You Thought Your Parents Were Weird (1991)', 'Doug Stanhope: Before Turning the Gun on Himself (2012)', 'Cellar Dweller (1988)', 'Timelapse of the Future: A Journey to the End of Time (2019)', \"Isadora's Children (2019)\", 'A Ship of Oranges (1927)', 'The Blood of Jesus (1941)', 'Maine Pyar Kiya (1989)', 'Man in the Saddle (1951)', \"Gestapo's Last Orgy, The (L'ultima orgia del III Reich) (1977)\", 'Hold Me Tight, Let Me Go (2007)', \"The Pink Floyd Story: Which One's Pink? (2007)\", \"Someday You'll Find Her, Charlie Brown (1981)\", 'A Warning to the Curious (1972)', 'Murder Mansion (1972)', \"L'Animale (2018)\", 'National Class Category Up to 785ccm (1979)', 'The Bloody Judge (1970)', 'Patients of a Saint (2020)', 'Anna and the Wolves (1973)', 'Antumbra (2021)', 'Star of David: Beauty Hunting (1979)', 'The Twins Effect II (2004)', 'Change in the Air (2018)', 'Paltan (2018)', 'When Love Springs (2023)', 'From What Is Before (2014)', \"Boxer's Story (2004)\", 'Foreboding (1992)', 'The Santa Suit (2010)', 'Buio (2019)', 'Getting There (2002)', 'Late Afternoon (2018)', 'For-Profit Online University (2013)', 'Dream Team 1935 (2012)', 'Storming Juno (2010)', 'The Antiquities of Rome (1989)', 'For Queen and Country (1988)', 'Good Timing with Jo Firestone (2021)', 'One-Armed Swordsman, The (Dubei dao) (1967)', 'Mackie Messer - Brechts Dreigroschenfilm (2018)', 'Forbidden Fruit (Kielletty hedelmä) (2009)', 'The Runner (2015)', 'Elephant (2022)', 'Hammamet (2020)', 'Deep Sea Monster Raiga (2009)', 'A Visit from the Incubus (2001)', \"Comin' Round the Mountain (1951)\", 'Canaris (1954)', 'The Birth of Love (1993)', 'Windstorm 3 (2017)', 'Death Saved My Life (2021)', 'Return of Daimajin (1966)', 'If You Could Only Cook (1935)', 'Torremolinos 73 (2003)', 'Lady from Chungking (1942)', 'Tuesday Club (2022)', \"Almayer's Folly (2012)\", 'The Trip to Squash Land (1967)', 'Pool of London (1951)', 'Under the Chinese Restaurant (1987)', 'Diversant (2004)', 'Road to Zanzibar (1941)', 'Komodo vs. Cobra (2005)', 'Devil Times Five (a.k.a. Peopletoys) (1974)', 'Five Shaolin Masters (1974)', 'Sinphony: A Clubhouse Horror Anthology (2022)', 'Lone Hero (2002)', \"Dead Man's Walk (1996)\", 'Casanova farebbe così! (1942)', 'You Shoot, I Shoot (2001)', 'Pati Patni Aur Woh (2019)', 'The Riot (2022)', 'Clinch (2015)', 'Serious Men (2020)', 'American Badger (2021)', 'The Sisters of Mercy (2004)', 'Poikkal Kuthirai (2022)', 'Header (2006)', 'Fluxes (1968)', 'Şevkat Yerimdar (2013)', \"Other People's Children (2015)\", 'Landfall (2017)', 'Ice Men (2004)', 'As Far As The Eye Can See (2016)', 'The Spiritual Boxer (1975)', 'Super Juice Me! (2014)', 'Maze (2000)', 'Scavengers (2013)', '18 Kilohertz (2020)', 'Falling for a Dancer (1998)', 'Blood Surf (2016)', 'Let The Scream Be Heard', 'Enemy Empire (2013)', 'Puppet Master: Blitzkrieg Massacre (2018)', 'National Theatre Live: The Beaux Stratagem (2015)', 'What Other Couples Do (2013)', 'Wild Guitar (1962)', 'Bigfoot (1970)', 'Road to Your Heart (2014)', 'Lunatique (2017)', 'Becoming Ms Bennet: Pride & Prejudice (2019)', 'Undertaker and His Pals, The (1966)', 'Be Like Others (2008)', 'TimeScapes (2012)', 'A December Bride (2016)', 'The Swimmer (2021)', 'Ο Θανάσης στη χώρα της σφαλιάρας (1976)', 'Kabuliwala (2006)', 'Thunderbird Six (1968)', 'Two Flags West (1950)', 'Italian, The (Italianetz) (2005)', 'The Paper Brigade (1997)', 'Bitter-Sweet (2009)', 'Private Lives (1931)', 'Macbeth (1997)', 'Fanat (1989)', 'By Courier (2001)', 'The Beast (2016)', 'Hanabi (1988)', 'Suite Dreams (2006)', 'Naked on the Inside (2008)', \"Snake Woman's Curse (1968)\", 'Chaw (2009)', 'Magnificent Bodyguards (Fei du juan yun shan) (1978)', 'Confessions of a Young American Housewife (1974)', 'The Fine Art of Love: Mine Ha-Ha (2005)', 'Heinrich (1977)', \"Let's Dance (2007)\", 'Becoming Mona (2020)', 'Our Sunhi (2013)', 'King Naresuan 1 (2007)', 'Dying for Everest (2007)', 'A Great American Tragedy (1972)', 'Dampfnudelblues (2013)', 'Django (2017)', 'The Scarlet Hour (1956)', 'Killing Hasselhoff (2017)', 'Her Friend Adam (2016)', 'My Reputation (1946)', 'Dracula: The Impaler (2013)', 'Attenborough and the Mammoth Graveyard (2021)', 'Dilemma (2022)', 'Mission Air (2014)', 'Grand Central Murder (1942)', 'Deprisa, Deprisa (1981)', 'Russian Hackers: The Beginning (2022)', 'A Piece of Sky (2022)', 'Courage for Every Day (1964)', 'Transparent: Musicale Finale (2019)', 'Love’s Sweet Recipe (2021)', 'Color Me Obsessed: A Film About The Replacements (2011)', 'A Whole Life Ahead (2008)', 'Beastie Boys: Video Anthology (2000)', 'Shirome (2010)', 'Torn Apart (2006)', 'Dina (2017)', 'Blood Games (1990) ', 'Three Stooges Meet Hercules, The (1962)', 'Have You Heard from Johannesburg?: Apartheid and the Club of the West (2006)', 'Seven Days to Live (2000)', 'Nitro Circus: The Movie (2012)', \"Alice's House (2007)\", 'The Sector (2016)', 'The Prophetess of Thebes (1907)', 'The Pool (2014)', 'Pentatonix: On My Way Home (2015)', 'Confession, The (1999)', \"Don't Go Breaking My Heart 2 (2014)\", 'Return to Green Acres (1990)', 'Prisoner of Shark Island, The (1936)', 'Lafayette Escadrille (1958)', 'A Doggone Adventure (2018)', 'Trauma Therapy (2019)', 'The White Bird Marked with Black (1972)', 'Famosa (2020)', 'Las Poquianchis (1976)', 'Demon Pond (1979)', 'Fast Break (1979)', 'Dead Men In The Skitrack (2018)', 'Caine (Shark!) (1969)', 'Only Daughter (2013)', 'Sea Hawk, The (1924)', 'Dallas 362 (2003)', 'Rio Conchos (1964)', 'When the War Comes (2018)', 'The Originals (2017)', 'Shattered Image (1998)', 'Forgotten Pistolero (1969)', 'Wild Weed (1949)', 'Métisse (Café au Lait) (1993)', 'Swamp Water (1941)', 'Ode to the Dawn of Man (2011)', 'Secrets of Jonathan Sperry, The (2008)', 'Penitentiary (1979)', 'Snowbird (2016)', 'Miss Julie (2011)', 'Ignatius of Loyola (2016)', 'The Mechanical Monsters (1941)', '7 and 8 (2007)', 'The Girl at the Ironing Board (1934)', 'Les 3 Boutons (2015)', 'Conquest (1937)', 'Boy Meets Boy (2021)', 'Ville-Marie (2015)', 'Rich and Poor (1983)', 'Femme Fatale (1991)', 'Queen Sized (2008)', 'Legacy, The (1978)', 'Exit Marrakech (2013)', 'Carte Blanche (2015)', 'Italia Germania 4-3 (1990)', 'From the Clouds to the Resistance (Dalla nube alla resistenza) (1979)', 'Lucy Must Be Traded, Charlie Brown (2003)', 'The Day I Saw Your Heart (2011)', 'Rapsodia satanica (1917)', 'Spoilers, The (1942)', 'Pathala Bhairavi (1951)', 'Teddy (2021)', 'Volcano (Eldfjall) (2011)', 'Kid Galahad (1937)', 'Peter de Rome: Grandfather of Gay Porn (2014)', 'The Idyll (2016)', 'The Smashing Pumpkins: Graceful Swans of Never (2001)', 'The Inheritance (2020)', 'Paraíso Travel (2008)', 'Devil Bat, The (1940)', 'Assassination (1965)', 'The Psychopath Next Door (2013)', 'Friends & Lovers (1999)', 'Red White & Blue (2010)', 'Already Dead (1998)', 'Callejón de los milagros, El (1995)', 'Anjelah Johnson: Mahalo & Goodnight (2017)', 'Well Spent Life, A (1972)', 'Eye of the Eagle (1987)', \"Summer's Moon (2009)\", 'Chill Out! (Descongélate!) (2003)', 'Safe Passage (1994)', 'Sexocracy: The man of Bunga Bunga (2012)', 'Angel Dog (2011)', 'Papusza (2013)', 'Do You Take This Man (2016)', 'Static (1985)', 'Swindle, The (Rien ne va plus) (1997)', 'Scorchers (1991)', 'The Brink (2019)', 'The Alpines (2021)', 'David Beckham: Infamous (2022)', 'Brothers, The (2001)', 'Gypsy Moths, The (1969)', \"Even Though I Don't Like It (2016)\", 'Finding Momo (2017)', 'Jurek (2014)', 'Finding Mr. Right (2013)', 'SS Girls (1977)', 'Amazing Grace and Chuck (1987)', 'Detective Conan: Sunflowers of Inferno (2015)', 'The Lost Husband (2020)', 'Bad Impulse (2019)', 'Last Gasp (1995)', 'White Tiger (2012)', 'Diary (2006)', 'The Dark Mist (1996)', 'Back in the Day (2014)', 'Vinyl Nation', 'Black Gunn (1972)', 'Rabid Dogs (2015)', \"March '68 (2022)\", 'Slap the Monster on Page One (1972)', 'No Way Jose (2015)', 'Last Rites (1980)', 'Freiheit (1966)', 'The Grasshopper and the Ant (1913)', 'The Dog Who Saved Summer (2015)', '11 x 14 (1977)', 'F5 (2012)', \"All in a Night's Work (1961)\", 'Kingdom Come (2014)', 'Nova Zembla (2011)', \"Losers' Club (Kaybedenler kulübü) (2011)\", 'Spork (2011)', 'Bonitinha, Mas Ordinária (1981)', 'Trash (1970)', 'The Other Woman (1961)', 'Paris Honeymoon (1939)', \"Don't Click (2012)\", 'Pulse (1988)', 'Snows of Kilimanjaro, The (1952)', 'Zatoichi and the Doomed Man (Zatôichi sakate giri) (Zatôichi 11) (1965)', 'Itzhak (2017)', 'Between Two Dawns (2021)', 'Low Blow (1986)', 'Kingmaker (2022)', 'Üç Harfliler: Beddua (2018)', 'Doug Benson: Doug Dynasty (2014)', 'Parole de flic (1985)', 'Jan Dara (2001)', 'Crash Test Aglaé (2017)', 'A Love Story from the Streets (2023)', 'Prelude (2019)', 'IXE-13 (1972)', 'Always - Sunset on Third Street 3 (2012)', 'Brighton 4th (2022)', 'Machined (2006)', 'The Olsen Gang in a Fix (1969)', 'The Blue Note (1991)', 'Innocence Unprotected (1968)', 'Surviving America (2021)', 'Tehran: City of Love (2018)', 'Bunyan and Babe (2017)', 'Scorcher (2002)', 'All Stars (1997)', 'Uma Escola Atrapalhada (1990)', 'Slay Belles (2018)', 'Night Catches Us (2010)', 'Amazons (1986)', 'Orsai (2019)', 'Desert Dancer (2014)', 'The Last Wagon (1956)', 'Vizontele Tuuba (2004)', 'A Tale of Labyrinth (1975)', 'Short Stay (2016)', 'Detective Chinatown 3 (2020)', 'Madame DuBarry (1919)', 'Namoo (2021)', 'Cinema Through the Eye of Magnum (2017)', 'Goat Story (2008)', 'A Son (2020)', 'Jitterbugs (1943)', 'Quarries (2016)', 'The Night Doctor (2021)', 'The Complex: Lockdown (2020)', 'The Truth About Jane (2000)', 'In Old Chicago (1937)', 'Dawn on the Great Divide (1942)', 'Eliminators (2016)', 'Michael Inside (2018)', 'Soul Music (1997)', 'How Tasty Was My Little Frenchman (Como Era Gostoso o Meu Francês) (1971)', \"Since You've Been Gone (1998)\", 'Hannibal Takes Edinburgh (2016)', 'Playing Dead (2013)', 'Electronic Granny (1985)', 'B-Girl (2009)', 'Raw Love (2008)', 'Crescendo (1970)', 'Force majeure (1989)', 'Sport Goofy in Soccermania (1987)', 'Area Q. (2012)', 'The Current (2014)', 'I Can I Will I Did (2017)', 'Kyle Kinane: I Liked His Old Stuff Better (2015)', 'And God Said to Cain (1970)', 'Jeca Contra o Capeta (1976)', 'Shark Zone (2003)', 'Seema Sastry (2007)', 'Flirt (1995)', 'Deadly Virtues: Love.Honour.Obey. (2014)', 'Everybody in Our Family (2012)', 'Minesweeper (1943)', 'Darklight (2004)', 'Forgiven (2016)', 'Buffalo Rider (2015)', 'Flying Tigers (1942)', 'Coldplay: A Head Full of Dreams (2018)', 'Squint Your Eyes (2003)', 'Caught in the Draft (1941)', 'Open Window (2006)', 'Ladies in Retirement (1941)', 'Hollywood Revue of 1929, The (1929)', 'George Ezra: End to End (2022)', 'Tru Love (2013)', 'The Olsen Gang Goes to War (1978)', 'Where She Lies (2020)', 'Confessions of an Invisible Girl (2021)', 'The Year I Started Masturbating (2022)', '40 Love (2021)', 'Hell High (1989)', 'Tiananmen: The People Versus the Party (2019)', 'Our Lady of San Juan, Four Centuries of Miracles (2021)', 'Condemned (1929)', 'Fly (2021)', 'Mickey (1918)', 'House Broken (2009)', 'Dawn of the Beast (2021)', 'The Be All and End All (2010)', 'The Zookeeper (2001)', 'Les babas-cool (1981)', 'The Journey To Greenland (2016)', 'The Flower of Aleppo (2016)', 'Amor brujo, El (Love Bewitched, A) (1986)', 'From Friend to Fiancé (2019)', \"Hitler's Circle of Evil\", 'AC/DC- Let There Be Rock (1980)', 'Once More (1997)', 'The Alternate (2000)', 'Private Collections (1979)', 'The Color of Rain (2014)', 'On the Ice (2011)', 'Live a Little, Love a Little (1968)', 'Afterimage (2017)', '40 Guns to Apache Pass (1967)', 'La primavera della mia vita (2023)', 'America, America (1963)', 'City Heat (1984)', 'The October Man (1947)', \"Joni's Promise (2005)\", 'Miniature (1953)', 'Bodyguard (2010)', 'Point of Order (1964)', \"Constantine's Sword (2007)\", 'We Will Not Get Used To (2016)', 'The Hasty Hare (1952)', 'Miss Sharon Jones! (2015)', 'In the Arms of an Assassin (2019)', 'A Christmas Carousel (2020)', 'Soul Power (2008)', 'The Ice Forest (2014)', 'Used People (1992)', 'Albino (1976)', 'Sembi (2022)', \"You Weren't There: A History of Chicago Punk 1977–1984 (2007)\", 'Twilight Portrait (2011)', 'Living with Wolves (2005)', 'Daddy Issues (2019)', 'My Last Year With The Nuns (2014)', 'Vicenta B. (2022)', 'The Wind Blows the Border (2022)', 'Life and Passion of Christ (1907)', 'The West Side Waltz (1995)', 'Treasure of the Four Crowns (1983)', 'Shunning, The (2011)', 'Idag Röd (1987)', \"The Devil's Mark (2020)\", 'Afstiros katallilo (2008)', 'The Shower (1979)', 'Death Trance (2005)', 'Alaska (2015)', 'Bethlehem (2013)', 'Heat Lightning (1934)', 'Marlon Wayans: You Know What It Is (2021)', 'Brotherhood of the Rose (1989)', 'Hot Boyz (2002)', 'The Swan (2018)', 'Sayonara (2015)', 'Men of Respect (1991)', 'Spring Bears Love (2003)', 'Assassin 33 A.D. (2020)', 'Angels in Stardust (2014)', 'Fall City (2018)', 'Monster in the Closet (1986)', 'Brancaleone alle crociate (1970)', 'Arena, The (a.k.a. Naked Warriors) (1974)', 'Dot and the Whale (1986)', 'Detective Conan: Crossroad in the Ancient Capital (2003)', 'Lovely to Look At (1952)', 'Conquest (1965)', \"I Know You're in There (2016)\", 'Saheb Biwi Aur Gangster (2011)', \"L'Ingorgo : Una storia impossibile (1979)\", \"For Pete's Sake (1974)\", 'Timebomb (1991)', 'United Passions (2015)', '9to5: The Story of a Movement (2020)', 'Nixon by Nixon: In His Own Words (2014)', 'The Surprising History of Rome (2002)', \"James' Journey to Jerusalem (2003)\", 'Is This Reasonable? (1981)', 'Great Flamarion, The (1945)', 'Cell 2, The (2009)', 'Caótica Ana (2007)', 'Uncorked (2010)', \"The 50 Best Horror Movies You've Never Seen (2014)\", \"Monkey's Mask, The (2000)\", \"VeggieTales: The Wonderful Wizard of Ha's (2007)\", 'The Web (1947)', 'Una vacanza bestiale (1981)', 'Barabbas (2019)', 'Paper And I (1960)', \"Inside 'The Talented Mr. Ripley' (2000)\", 'Death Ranch (2020)', 'Julia (1974)', 'Blue Gender: The Warrior (2002)', 'Gold (2022)', 'Stellar (1993)', 'The Lost Empire (1984)', 'The Bitch Who Stole Christmas (2021)', 'Pueblerina (1949)', 'Hakob Hovnatanyan (1967)', 'Gobble-Gobble (1977)', 'For the Love of Nancy (1994)', 'Mary (2005)', 'Outside Noise (2021)', 'Henry: Portrait of a Serial Killer, Part 2 (1998)', 'Riffraff (1936)', 'Beautiful Person, The (La belle personne) (2008)', 'The Uncanny (1977)', 'The Last Right (2019)', \"The Man Who Wasn't There (1983)\", 'To Sleep Next to Her (2004)', 'What Can You Do about It? (2019)', 'Villain (2010)', 'Badges of Fury (2013)', 'Aztec Rex (2007)', \"I'd Love to Take Orders from You (1936)\", 'Love au Zen (2001)', 'The Snorkel (1958)', 'Young Romance (1915)', 'Cinderela Baiana (1998)', 'At Sundance (1995)', 'Blood Pageant (2021)', 'The Big Apartment (2006)', 'Rockula (1990)', 'Fall to Grace (2013)', 'Dancer (2016)', 'MVP: Most Valuable Primate (2000)', 'The Substitute (2007)', 'Hellmaster (1992)', 'Koza Nostra (2022)', 'Haunted (2007)', 'No Lost Cause (2011)', 'The Barcelona Vampiress (2020)', 'Two & Two (2011)', \"Soldier's Daughter Never Cries, A (1998)\", 'Prototype (1983)', 'Bare Witness (2002)', 'The Clark Sisters: First Ladies of Gospel (2020)', 'Mazzaropi - Meu Japão Brasileiro (1965)', \"Mary Jane's Mishap (1903)\", '1500 Steps (2014)', 'The Missing Lynx (2008)', 'High Risk (1981)', 'Shadow World (2016)', \"Mabel's Dramatic Career (1913)\", 'City of Joy (2016)', '808 (2015)', 'Double Teamed (2002)', 'Plague (2014)', 'The Fake (2013)', 'Straight Into a Storm (2018)', 'The Giants of Easter Islands (2023)', 'Daddy (1987)', 'At the Foot of the Flatiron (1903)', 'SEE HEAR LOVE (2023)', \"Don't Go Breaking My Heart (Daan gyun naam yu) (2011)\", 'Совершенно серьезно (1961)', \"All's Well, Ends Well 2012 (2012)\", 'Panama Lady (1939)', 'Kamen Rider Geats × Revice: Movie Battle Royale (2022)', 'B.A. Pass (2013)', 'Jesse James vs. The Black Train (2018)', 'Rainbow (2015)', 'Deadline - U.S.A. (1952)', 'Liars All (2013)', 'Aftershock (2022)', 'House of Numbers (1957)', 'Beside Bowie: The Mick Ronson Story (2017)', 'The Letter Writer (2011)', 'Plane Daffy (1944)', 'Clown Fear (2020)', 'Star Force: Fugitive Alien II (1987)', 'Jericho Mansions (2003)', 'Long Live Death (Viva la muerte) (1971)', 'Z.P.G. (1972)', 'Mobile Suit Gundam 00: Awakening of the Trailblazer (2010)', 'One Ephemeral Mission (1993)', 'A Life in Suitcases (2005)', 'Heaven Sent (1994)', 'Searching for Tadzio (1970)', 'Father (1966)', 'Junglee (2019)', 'Listen to Britain (1942)', 'War of Likes (2021)', 'A Tale of Two Kitties (1942)', 'Serene Velocity (1970)', 'Pyšná princezna (1952)', 'Billy Blazes, Esq. (1919)', 'Carpool (1996)', 'Amber Сops (2021)', 'Not Waving But Drowning (2012)', 'Ania (2022)', 'Virginia City (1940)', 'Sand Wars (2013)', 'Don Rickles: One Night Only (2014)', 'Céline (2008)', 'The Password Is Courage (1962)', 'Sweatshop (2009)', \"Nina's Heavenly Delights (2006)\", 'Germany from Above (2012)', '16 Ans ou Presque (2013)', 'Bloody Milk (2017)', 'Blablablá (1975)', 'Cowboys & Angels (2003)', 'Storm in a Teacup (1937)', 'Shadows In The Sun (2009)', 'Terror In Beverly Hills (1989)', 'Armed Response (2017)', 'Sins of the Fleshapoids (1965)', \"Don't Come Knocking (2005)\", 'And They Say I Am the Crazy One (2020)', 'Married to It (1991)', \"It's Hard to Be Nice (2007)\", 'Lilith (1964)', 'Furto di sera bel colpo si spera (1973)', 'Wrong Side Up (Pribehy obycejneho silenstvi) (2005)', 'Women on the Run (2019)', 'Letters from the Big Man (2011)', 'Pleasure Seekers, The (1964)', 'The Grasshopper (1970)', 'The Story of Robin Hood and His Merrie Men (1952)', 'Sabina K. (2015)', 'From Subway with Love (2005)', 'Worst Laid Plans', \"Jingle & Bell's Christmas Star (2012)\", 'The Crying Woman (1933)', 'Blood and Oil (2010)', 'Christmas Festival of Ice (2017)', 'Burden (2016)', 'Grandfather, The (Abuelo, El) (1998)', 'Flight to Nowhere (1946)', 'The Man Who Cheated Himself (1950)', 'The Gilded Cage (2013)', 'A Haunting on Gabriel Street (2012)', 'Matching Hearts (2020)', \"Mama's Boy (2022)\", 'Corridor of Mirrors (1948)', 'The Ten Steps (2004)', 'Human Behavior Experiments, The (2006)', 'The Girl From the Other Side (2022)', 'Dick Tracy (1945)', 'O Cinderelo Trapalhão (1979)', 'Final Move (2006)', 'Night Shift (2021)', 'Hapkido (1972)', 'Rust (2010)', 'Shaolin Wooden Men (Shao Lin mu ren xiang) (1976)', 'Festival Express (2003)', 'The Last Ronin (2010)', \"Mabel's Stratagem (1912)\", 'Before the Fall (2016)', \"Sesame Street: Elmo's Playdate (2020)\", 'A Bookshop in Paris (2021)', 'Point of Impact (1993)', 'A Time For Heaven (2017)', 'Fuse (Gori vatra) (2003)', 'City of Gold (2016)', 'I Fichissimi (1981)', 'Mani di fata (1983)', 'Fire Dragon (1994)', 'The German Lesson (2019)', 'Comedy (2002)', 'Raw Force (1982)', 'ABC Book (1976)', 'Brooklyn Rules (2007)', 'Summer of Mesa (2020)', 'Flamenco at 5:15 (1983)', 'Let There Be Drums!', 'Shadow of Doubt (1998)', 'Étude 65 (1965)', 'Fish in a Barrel (2020)', \"V.I.P. Cop. New Year's Eve Mayhem 2 (2019)\", 'Runaway (2009)', 'The Dangerous Sex Date (2001)', 'Pitbull: Last Dog (2018)', 'The Girl from the Wardrobe (2013)', 'All I Desire (1953)', 'Level Up (2016)', 'Our River... Our Sky (2023)', 'We Lost Our Human (2023)', 'Manhandled (1949)', \"Salma's Big Wish (2019)\", '7 Reasons to Run Away (from Society) (2019)', 'Threat (2006)', 'Prince Igor (1969)', 'The Lightship (1986)', 'Rabin, the Last Day (2015)', 'Closed Season (2013)', 'Task, The (2011)', 'Scooby-Doo Goes Hollywood (1979)', 'The Ugly Duckling (1959)', 'O Grande Xerife (1972)', 'Dhuruvangal Pathinaaru (2016)', 'The Long Shadow (2020)', 'Love and Duty (1931)', 'Bruciati da cocente passione (1976)', 'Death by Design (2016)', 'I Escaped from the Gestapo (1943)', 'The Two Policemen (1984)', 'Dangerous Parking (2007)', 'Pernicious (2015)', 'Love Stories Only Last 90 Minutes (2009)', 'Molly (1999)', 'Star Trek: Renegades (2015)', 'The Sixth Secret (2022)', 'The Anchor (2022)', 'The Suspicious Death of a Minor (1975)', 'When We Dance (2019)', 'Alraune (1952)', 'License to Steal (1990)', \"Eddie's Million Dollar Cook Off (2003)\", 'The Sacred Science (2011)', 'The Boy Who Sees The World Upside Down (2016)', \"I Don't Owe 100 Times (1990)\", 'Nantucket Noel (2021)', 'The Ultimate Degenerate (1969)', 'Fallen III: The Destiny (2007)', 'The Lost Brother (2017)', \"Doin' Time (1985)\", \"Fry's Planet Word (2011)\", 'Dark Matter (2007)', 'Crazy Nights (1978)', 'Use of Force: The Policing of Black America (2022)', 'Of Whales, the Moon, and Men (1963)', 'Date with Judy, A (1948)', 'Padatik (1973)', \"A Midsummer Night's Dream (1959)\", 'Stand Off (2012)', 'Too Hot to Handle (1938)', 'Lewis Black: Black to the Future (2016)', 'Driving Me Crazy 1991 (1991)', 'Entangled (2014)', 'Jumping from High Places (2022)', 'Saints and Soldiers: Airborne Creed (2012)', 'Jedi Junkies (2010)', 'Babes in Toyland (1997)', 'Gone with the Bullets (2014)', 'Okinawa Rendez-vous (2000)', 'Credo (2008)', 'Portrait of Hell (1969)', 'Brigade Miscellaneous on Alert (1971)', 'Ombra and the Poet (2017)', 'Rock Sugar (2021)', 'Modern Love (2021)', 'Along the Night (1978)', 'Cheerleader Massacre 2 (2011)', '¡Arriba las mujeres! (1965)', 'Freeway: Crack in the System (2014)', 'Separate Vacations (1986)', 'A Christmas Story Live! (2017)', 'Let Joy Reign Supreme (1975)', 'The Idolmaker (1980)', 'King of Fighters, The (2010)', 'Scooby-Doo! Haunted Holidays (2012)', 'Defamation (2009)', 'Dormant Beauty (2012)', 'Permis de construire (2022)', 'Highball (1997)', 'Kansas (1988)', 'Lapse of Memory (1991)', \"Tillie's Punctured Romance (1914)\", 'The Confession (2013)', 'Midori: The Camellia Girl (2016)', 'Death Link (2021)', 'Journey with Papa (1982)', 'When Ladies Meet (1941)', 'Suicide Tourist (2019)', 'Fear, Anxiety & Depression (1989)', 'Vodka Lemon (2003)', 'Escapes (2017)', \"It's Your First Kiss, Charlie Brown (1977)\", 'Roll with It (2023)', 'The Hedonists (2016)', '8213: Gacy House (2010)', 'Perfectos desconocidos (2018)', 'Shredder Orpheus (1990)', 'Deathstroke: Knights & Dragons - The Movie (2020)', 'Dark (2017)', 'Dancing On (2022)', 'Byomkesh Hotyamancha (2022)', 'The Mayor (2017)', 'Man About Dog (2004)', '7 Days Out (2018)', 'Bleach: The DiamondDust Rebellion (2007)', 'Threshold (1982)', 'Monster High: Electrified (2017)', 'My Christmas Prince (2017)', 'She Loves Me (2016)', 'Demon Warriors (2007)', 'Love, Once and Always (2018)', 'Hardrock, Coco and Joe — The Three Little Dwarfs (1951)', 'The Wedding Pact (2014)', 'White Night (2012)', 'Kickboxer 2: The Road Back (1991)', 'Murder in the Dark (2013)', 'Journey Back to Oz (1974)', \"Man of My Life, The (L'homme de sa vie) (2006)\", 'BASTARDS (2023)', \"She Was an Acrobat's Daughter (1937)\", '2012: An Awakening (2009)', 'To the Ends of the Earth (2016)', 'Seasons... (2002)', 'Tod@s Caen (2019)', 'Digimon Adventure Tri. - Chapter 2: Determination (2016)', 'Bardelys the Magnificent (1926)', 'Wu Tang Master (Tian shi zhuang xie) (1983)', 'Witnesses (2021)', 'True Heart (1997)', 'Cavalcade (1933)', 'Confessions of an Action Star (2009)', 'Five Corners (1987)', 'While You Were Dating (2017)', 'A New Shift (2021)', 'A Pain in the Ass (1973)', 'Black Is … Black Ain’t (1994)', 'Jack and Diane (2012)', 'Train in the Snow (1976)', 'A Suitable Girl (2017)', 'The Hunt For Bin Laden (2012)', 'Peeping Times (1978)', 'Hollywood Stargirl (2022)', 'Anna (1951)', 'With a Song in My Heart (1952)', 'Hemlock Society (2012)', 'Happy Anniversary (2018)', 'Thumbelina (1954)', 'Half Shot at Sunrise (1930)', 'Liebelei (1933)', 'Bluebeard (Landru) (1963)', 'Trunk (2008)', 'News from the Good Lord (1996)', 'Why Change Your Wife? (1920)', 'Tarzan, the Ape Man (1981)', \"Where's Marlowe? (1998)\", 'The Ducksters (1950)', 'Pulling Strings (2013)', 'Man of the World (1931)', 'Arne Dahl 09 -  Afterquake (2015)', 'Devil in the Lake (2022)', 'Ages of Love (2011)', 'Sergio (2009)', 'Arabian Adventure (1979)', 'In Search of the Last Action Heroes (2019)', 'Kamikazen (Ultima notte a Milano) (1988)', 'The Book of Wonders (2023)', \"Good Lawyer's Wife, A (Baramnan gajok) (2003)\", 'Miracle of Flight (1975)', 'Murder in Coweta County (1983)', 'Mount St. Elias (2009)', 'Walk with Me (2017)', 'Eagle Shooting Heroes (1993)', 'A Kid (2016)', 'Battle for Saipan (2022)', 'his (2020)', 'September (2023)', 'No Looking Back (1998)', 'Neon Bible, The (1995)', 'Man of a Thousand Faces (1957)', 'Cops and Robbers (2017)', 'Yaadein (2001)', 'Rita (2003)', 'Kabali (2016)', 'Invasion (1997)', 'The Christmas Cure (2017)', 'On Thin Ice (1966)', 'Little Thirteen (2012)', 'We Cause Scenes (2014)', 'BloodSisters: Leather, Dykes, and Sadomasochism (1995)', \"All's Well, Ends Well (1992)\", \"Frenchman's Creek (1944)\", 'Go West, Young Lady (1941)', 'Elsk meg i morgen (2005)', 'WWJD: What Would Jesus Do? The Journey Continues (2015)', 'Taro the Dragon Boy (1979)', 'The Flag (2007)', 'Remains (2011)', 'Dealt (2017)', 'Eddie Izzard: Wunderbar (2021)', 'Moscow Never Sleeps (2015)', \"I'm Bout It (1997)\", 'The Good, the Bad, and Huckleberry Hound (1988)', 'Sami, Joe und ich (2020)', 'The Forest (2018)', \"So My Grandma's a Lesbian! (2020)\", 'Frenzy (2015)', 'Brothers of the Wind (2015)', 'The Faculties (2019)', 'Middle of the World, The (O Caminho das Nuvens) (2003)', 'Девочки', 'Material Girls (2006)', 'The Nan Movie (2022)', 'Dominique (1979)', 'The Heart of Christmas (2011)', 'Dabbe: Bir cin vakasi (2012)', '9 Souls (Nain souruzu) (2003)', \"Let's All Go to the Lobby (1957)\", 'Hide and Seek (2000)', 'Rúbaí (2013)', 'The Tour (2008)', 'Burn Out (2017)', 'Legacy (2020)', 'The Automatic Hate (2015)', 'Submission L.A. (2006)', 'Messidor (1979)', 'Martin Lawrence: You So Crazy (1994)', 'Quiet Comes the Dawn (2019)', \"Six O'Clock News (1997)\", 'Marjorie Morningstar (1958)', 'Flicka 2 (2010)', 'The Electric Hotel (1908)', 'Bad Faith (2007)', \"Mori, The Artist's Habitat (2018)\", 'Giants Being Lonely (2019)', 'Telling Lies (2006)', 'Titania, Titania, or the Night of the Stand-Ins (1988)', 'Virgin Queen, The (1955)', 'Between Life and Death (2010)', 'Christmas Cottage (2008)', 'Gutter King (2010)', 'Sing As We Go (1934)', 'Sex, Drugs & Bicycles (2020)', \"Whistle and I'll Come to You (2010)\", 'Where is Good? (2015)', 'Attenborough and the Giant Elephant (2017)', 'Focus (2001)', 'S.O.G.: The Book of Ward (2023)', 'Return (2011)', 'Clan of the White Lotus (1980)', 'Wedding Present (1936)', 'Smoking Guns (2016)', 'Hope Bridge (2015)', 'Connor McDavid: Whatever it Takes (2020)', 'Brave Miss World (2013)', 'The Yellow Wallpaper (1989)', 'Clash in the College (2011)', 'My Perestroika (2010)', 'Cry Wolf (1947)', 'Notes on an American Film Director at Work (2008)', 'The Adventures of the Electronic (1979)', 'Sharon 1.2.3. (2018)', 'Skaterdater (1966)', 'Winnerbäck - A Kind of Life (2017)', 'My Universities (1940)', 'The Human Face of Big Data (2016)', 'Eyes Wide Open (Einayim Petukhoth) (2009)', 'Life, Above All (2010)', 'Day at the Circus (1901)', 'Complete Strangers (2020)', 'Four Dogs Playing Poker (2000)', 'Costa Brava, Lebanon (2022)', 'Noma: My Perfect Storm (2015)', 'Teslafy Me (2019)', 'The Patent Scam (2017)', 'Grand Jeté (2022)', 'Steve McQueen: The Man & Le Mans (2015)', 'Venomous (2002)', 'I Want! I Will! (2023)', 'The Phoenix Project (2015)', 'The Square Jungle (1955)', \"Dave Attell's Insomniac Tour: Uncensored! (2005)\", 'The World Before Your Feet (2018)', 'Fangs of the Living Dead (Malenka) (1969)', \"You're Not Alone (2020)\", 'Minutes to Midnight (2018)', 'Junk Head 1 (2013)', 'Junk (2006)', 'Dear Mr. Watterson (2013)', 'Hansel e Gretel (1990)', 'Shadowed (2020)', 'Kyrsyä: Tuftland (2018)', 'O Jeca e a Égua Milagrosa (1980)', 'One Small Step (2018)', 'Devilman - Volume 2: Demon Bird (1990)', 'Any Crybabies Around? (2020)', 'Mister Frost (1990)', 'The Way West (1967)', 'Bigfoot (2012)', 'Samurai Commando Mission 1549 (2005)', 'Howling IV: The Original Nightmare (1988)', 'For the Love of Chocolate (2021)', 'Cherished Memories: A Gift to Remember 2 (2019)', 'Looking for Alexander (2004)', \"John's Gone (2010)\", 'Everything Happens to Me (a.k.a. Why Did You Pick on Me?) (Chissà perché... capitano tutte a me) (1980)', 'Chunhyang (2000)', 'Svenska bilder (1964)', 'Last Weekend (2014)', 'Christmas She Wrote (2020)', 'Son of Ali Baba (1952)', 'Felicità (2020)', 'Fuzz (1972)', 'Spiral (2018)', 'The Rise & Fall of a White Collar Hooligan (2012)', 'Darkness Reigns (2017)', 'Record/Play (2012)', 'The Debt Collector (1999)', 'Misunderstood (2014)', 'Beau Geste (1966)', 'Limelight (2011)', 'Home Beyond the Sun (2004)', 'Girl Followed (2017)', 'A Spy Movie (2021)', 'What a Damn Circus (2017)', 'Lou ! Journal infime (2014)', 'Kilometer Zero (2007)', 'The Affair (1967)', 'Boys of St. Vincent, The (1992)', 'Poison (1951)', 'The Girl on a Bulldozer (2022)', 'Daughter of the Jungle (1982)', 'The Throwaways (2015)', 'Phantom Love (2007)', 'Uman – The Perfect Man (2022)', 'The Infernal Cakewalk (1903)', 'The Knocking (2023)', \"Hey, Boo: Harper Lee and 'To Kill a Mockingbird' (2011)\", 'Too Young to Marry (2007)', 'Bizarre (2015)', 'Losing Chase (1996)', 'Mick Foley: Cheap Pops (2015)', 'Superstition (1982)', 'Boys (1991)', 'Autumn Road (2021)', 'About The Pink Sky (2012)', 'Deep (2017)', 'Tom and Jerry Blast Off to Mars! (2005)', 'Black Orchid, The (1958)', 'The Unfolding (2015)', 'I Do Not Care If We Go Down in History as Barbarians (2018)', 'Finding Yingying (2020)', 'The Cops Are Robbers (1990)', 'Beyond Beyond (2014)', 'The Mistress of Atlantis (1932)', \"Hurry Up, or I'll Be 30 (1973)\", 'The Iron Fisted Monk (1977)', 'Teacher of the Year (2015)', 'The Phantom Planet (1961)', 'Monsieur Beaucaire (1946)', \"Live at Mister Kelly's (2021)\", 'The Tricky Master (1999)', 'Peter Pan (1976)', \"Sam's Lake (2005)\", 'Dr Jason Leong: Ride with Caution (2023)', 'The Guilty (1947)', 'Contact (1985)', 'Highway 301 (1950)', 'Population Zero (2016)', 'El secreto de Julia (2019)', 'Pete Davidson: SMD (2016)', 'Jaan-E-Mann (2006)', 'Happy Tree Friends: Volume 1: First Blood (2002)', 'Wheel, The (La Roue) (1923)', 'Natalee Holloway (2009)', 'Viva Algeria (2004)', 'King - Jari Litmanen, The (Kuningas Litmanen) (2012)', 'Love Clinic (2015)', 'Beggars of Life (1928)', 'Poinsettias for Christmas (2018)', 'Loue-moi ! (2017)', 'Hellbound Train (1930)', 'Stone Years (1985)', \"Jessie James Meets Frankenstein's Daughter (1966)\", 'Daypass (2001)', 'A Night at The Garden (2017)', 'Birth of a Flower (1910)', 'Super Shark (2011)', 'Hybrid (2007)', \"The Alchemist's Letter (2015)\", 'Varg Veum - Bitter Flowers (Varg Veum - Bitre Blomster) (2007)', 'Kanikôsen (2009)', 'Ichthys (2005)', 'Boogiepop and Others (2000)', 'A Chance Encounter (2022)', 'The Disney Family Singalong: Volume II (2020)', 'Vive la France (2013)', 'The Lost Boys (2023)', \"Mabel's New Hero (1913)\", 'H-Man, The (Bijo to Ekitainingen) (1958)', 'After Stonewall (1999)', 'Sailing Into Love (2019)', 'Superweib, Das (1996)', 'A Bell From Hell (1973)', 'Shadow Zombie (2013)', 'Sweet Dreams (1985)', 'Autumn in the Vineyard (2016)', 'The Bronze Buckaroo (1939)', 'Engineering Red', 'Run, Man, Run! (Corri uomo corri) (1968)', \"Casanova's Return (2023)\", 'Meetings with Remarkable Men (1979)', 'Places in Cities (1998)', 'A Flower from Heaven 2: A Perilous Journey (2017)', 'Ten Skies (2004)', 'The Dinner Party (2020)', 'The First 9½ Weeks (1998)', 'Sanitarium (2013)', 'Natasha (2015)', 'Mike Epps: Only One Mike (2019)', 'All Inclusive (2018)', 'The Steps (2016)', 'No Parking Hare (1954)', 'Tokyo Knights (1961)', 'Outlaw Blues (1977)', 'Lady in the Death House (1944)', 'Dreaming Murakami (2018)', 'The Exchange (2011)', 'A Perry Mason Mystery: The Case of the Jealous Jokester (1995)', 'How to Fake a War (2020)', 'Old Man and the Sea, The (1990)', 'The Maya Rudolph Show (2014)', 'Something to Remind Me (2002)', 'The Flash 2 - Revenge of the Trickster (1991)', 'A Golden Boy (2014)', 'Hawke (2010)', 'A Gift Wrapped Christmas (2015)', \"Pandora's Box: Lifting the Lid on Menstruation (2019)\", 'My Love Story!! (2015)', 'Suzaku (1997)', 'The Party Never Stops: Diary of a Binge Drinker (2007)', \"Class of Nuke 'Em High Part II: Subhumanoid Meltdown (1991)\", 'Ernie Biscuit (2015)', '10th & Wolf (2006)', 'Run of the Arrow (1957)', 'Romance in the Wilds (2021)', 'Profound Desires of the Gods (Kamigami no fukaki yokubo) (1968) ', 'Filip & Fredrik presenterar Trevligt folk (2015)', 'Chilsu and Mansu (1988)', 'LUZ (2020)', 'The Stone Boy (1984)', 'The Three-Sided Mirror (1927)', 'Days Before the Millennium (2022)', 'The Third Saturday in October Part V (2022)', 'Foe (2023)', 'A Joy Ride (1922)', 'Dead Cold (2002)', 'Hollywood Story (1951)', 'Shock and Awe: The Story of Electricity (2011)', 'An Israeli Love Story (2017)', 'Not Alone in Here (2020)', 'Love, Game, Match (2022)', 'Saunkan Saunkne (2022)', 'The Conspirators (1944)', 'Stalked By My Doctor: Just What the Doctor Ordered (2021)', 'Nordkraft (2005)', '19 (2000)', 'Les petites mains (2001)', 'Blood Mania (1970)', \"The Gang That Couldn't Shoot Straight (1971)\", 'Divorce American Style (1967)', 'Christmas Belle (2013)', 'Easy Money (1936)', 'Youtopia (2018)', 'Hollywood Complex, The (2011)', 'Pittsburgh (2006)', 'Thirty Souls (2017)', 'Glory Daze (1995)', 'Black Sun (2005)', 'In This Gray Place (2019)', 'Amor? (2011)', 'A Lesson in Romance (2014)', 'Astro Kid (2019)', 'Chromophobia (2005)', 'Dos tipos de cuidado (1953)', 'Dead Sushi (2012)', 'Three Night Stand (2013)', 'King Arthur and the Knights of the Round Table (2017)', 'Sieranevada (2016)', 'The Colors of Fire (2022)', 'Emmanuelle in Space 6: One Last Fling (1994)', 'We Are the Radical Monarchs (2019)', 'The Covenant (2017)', 'Do Not Disturb (1965)', 'Abraham (1993)', 'A Brave Heart: The Lizzie Velasquez Story (2015)', 'Alienate (2016)', 'Max and the Lady Doctor (1914)', 'Kidnapped (2023)', 'The Price of Success (2017)', 'Um Caipira em Bariloche (1973)', 'From the Depths (2013)', 'Heart Of Dixie (1989)', 'Adela (2008)', 'Animal Behaviour (2018)', 'Aborigine (1988)', 'The Levelling (2017)', 'David and Bathsheba (1951)', \"You've Got Beautiful Stairs, You Know... (1986)\", \"Don't Play the Fool... (1997)\", 'The Adventures of Marco Polo (1938)', 'Summer Love (2016)', 'We Love You, Sally Carmichael! (2017)', 'Hustle (1975)', 'Oh! What a Lovely War (1969)', 'Rise of the Footsoldier: Origins (2021)', 'The Sublet (2017)', 'Brazilok (2017)', 'The Fearless Young Boxer (1979)', 'Fall of Ming (2013)', 'Grass Labyrinth (1979)', 'Blondie Hits the Jackpot (1949)', 'Four Riders (1972)', 'Phantoms of Nabua (2009)', 'Beach Party (1963)', 'Crypt of the Vampire (1964)', 'ClownTown (2016)', 'The Senator Was Indiscreet (1947)', 'Deafula (1975)', 'Chickens in the Shadows (2010)', 'All Neat in Black Stockings (1969)', 'Top 3 (2019)', 'The Constitution (2016)', 'Jannat 2 (2012)', 'The House Where Evil Dwells (1982)', 'John Pinette: I Say Nay Nay (2005)', 'The Departure (2017)', \"Ryan's Babe (2000)\", 'A Loaf of Bread (1960)', 'Vellaiya Irukiravan Poi Solla Maatan (2015)', 'Camino (2016)', 'Blood and Bones (Chi to hone) (2004)', 'The Black Marble (1980)', 'Nudist (2010)', 'Two Comrades Were Serving (1968)', 'Buchanan Rides Alone (1958)', 'Pay or Die (1960)', 'Alice in the Jungle (1925)', 'Bhala Thandanana (2022)', 'Spinster (2020)', 'Final Darkness, The (Buio Omega) (1979)', 'Alex Is Lovesick (1986)', 'Escort, The (Scorta, La) (1993)', 'Intoxication (2002)', 'Gas-s-s-s (1970)', 'Bart Got a Room (2008)', 'Milosc (2012)', \"Devil's Angels (1967)\", \"She's Missing (2019)\", 'Future War 198X (1982)', 'Lost on Everest (2020)', 'No Bad Days (2008)', 'Homicidal (1961)', \"She's Lost Control (2014)\", 'The Obsessed (1952)', 'Malang (2020)', 'To Be a Crook (1965)', 'Snipers (2022)', 'Once Upon a Time in Phuket (En gång i Phuket) (2011)', 'Barbie in Princess Power (2015)', 'Someone Like You (Unnaipol Oruvan) (2009)', 'Family Fundamentals (2002)', 'Twinsanity (2018)', 'O Beautiful Night (2019)', 'Man I Love, The (1947)', 'Elvis Presley: The Searcher (2018)', 'Go for Sisters (2013)', 'Zuckerkandl! (1968)', \"Yuri's Day (2008)\", 'Silent World, The (Le monde du silence) (1956)', \"Elmore Leonard's Gold Coast (1997)\", 'Angel Force (1991)', 'Warda (2014)', 'Les Gorilles (2015)', 'Browncoats Unite: Firefly 10th Anniversary Special (2012)', 'Arctic Heart (2016)', 'Deadlock (1970)', 'Magic Money: The Bitcoin Revolution (2017)', 'Game (2011)', 'Farewell Song (2019)', 'Hymn (1972)', 'Feed (2017)', 'Mercy (2023)', 'Desperate Search (1952)', 'Marry Me at Christmas (2017)', 'Dogville Confessions (2004)', 'Oasis (2017)', 'O Lamparina (1964)', \"Fiddler's Journey to the Big Screen (2022)\", 'Root of the Problem (2019)', 'Rains of Ranchipur, The (1955)', \"Craig's Wife (1936)\", 'Johnny 316 (1998)', 'O2 (2020)', 'Le noeud cravate (2008)', 'Ex-Patriot (2017)', \"Women's Day (2012)\", 'The Landline Detective (2020)', 'Madea Gets A Job - The Play (2013)', 'Innocence (2020)', 'Plaga zombie (1997)', 'Les Tuche 2 : Le Rêve Américain (2016)', 'Legend of the Dragon (1991)', 'Air Collision (2012)', 'If Cats Disappeared From the World (2016)', 'Hotel Magnezit (1978)', 'The Big Land (1957)', 'Wassup Rockers (2005)', 'Run-Off (2016)', 'The Touch of Satan (1971)', 'Spring Break Shark Attack (2005)', 'Up the Down Staircase (1967)', 'Van Gogh (1948)', \"Behind the Camera: The Unauthorized Story of 'Mork & Mindy' (2005)\", 'Dunwich Horror, The (2009)', 'Happy Anniversary (1962)', 'Anegan (2015)', 'My Man (Mon homme) (1996)', 'Bullets or Ballots (1936)', 'Object of Beauty, The (1991)', 'The Struggle (1977)', \"A Matador's Mistress (2008)\", 'Outskirts (Okraina) (1933)', 'Frimas (2021)', 'Boat, The (1921)', 'Mandalay (1934)', 'Love on the Slopes (2018)', 'Squadron of Flying Hussars (1980)', 'Little Red Walking Hood (1937)', 'Jean Charles (2009)', 'Girl on the Edge (2015)', 'The Inspector Wears Skirts II (1989)', 'Smack Dab Kakha. Another Film (2023)', 'Bonaerense, El (2002)', 'Ping Pong Summer (2014)', 'She, a Chinese (2009)', 'A Quiet Outpost (2011)', 'The Village in the Woods (2019)', 'The Phantom Train (1926)', 'Read It and Weep (2006)', 'Happy Life (2007)', \"A Cowgirl's Song (2022)\", 'Wild Horses (2015)', 'Oh, God! Book II (1980)', 'Copacabana (1947)', 'Reflections of Evil (2002)', 'Me, Them and Lara (2009)', 'White Sky (2021)', 'Pet Shop (1995)', 'Keith Richards: Under the Influence (2015)', \"Don't Deliver Us from Evil (Mais ne nous délivrez pas du mal) (1971)\", 'Shane Gillis: Live in Austin (2021)', \"The Beach Boys: Wouldn't It Be Nice (2005)\", 'Everything Is a Remix (2010)', 'Bye Bye Braverman (1968)', 'The Naked and the Dead (1958)', \"L'Affaire SK1 (2015)\", 'Ghosts (2020)', 'Lung Fung Restaurant (1990)', 'Family Tree, The (2011)', 'A Bad Son (1980)', 'American Masters: Miles Davis - Birth of the Cool', 'Remembering the Man (2016)', 'Mojave Diamonds (2023)', 'Eight (1998)', 'Starve (2014)', 'Crossing the Last Line (1991)', 'The Phenomenon (2022)', 'Captain Salvation (1927)', 'My Queen Karo (2009)', 'African Kung-Fu Nazis (2019)', 'O Incrível Monstro Trapalhão (1980)', 'Albatross (2022)', 'The Check Is in the Mail... (1986)', 'Painting Sellers, The (Taulukauppiaat) (2010)', 'The Prisoner of If Castle (1988)', 'Hands Across the Table (1935)', 'The Single Standard (1929)', 'Backstairs (Hintertreppe) (1921)', 'A Bullet for Sandoval (1969)', 'Jack of the Red Hearts (2015)', 'Fast & Feel Love (2022)', 'Last Lovecraft: Relic of Cthulhu, The (2009)', '5 Is the Perfect Number (2019)', 'Les abysses (1963)', 'Who Is Killing the Great Chefs of Europe? (1978)', 'Milan (2004)', 'Auntie (2013)', 'Gehenna: Where Death Lives (2016)', 'The Star Inspector (1980)', 'Otto - The New Movie (1987)', 'Electric Jesus', 'The Trap (1966)', 'Hank and Mike (2008)', \"Footrot Flats: The Dog's Tale (1986)\", 'The Dress (1996)', 'Vagenda Stories (2019)', 'Mahallada duv-duv gap (1960)', 'Unlocking the Cage', \"Russell Coight's Celebrity Challenge (2003)\", 'Sağ Salim (2012)', 'The Dark Side of Venus (1998)', 'Dear Audrey (2021)', 'I Had A Bloody Good Time At House Harker (2016)', 'Attraction (1969)', 'Shank (2010)', 'Abbas in Flower (1982)', 'Stardust (1974)', 'Fighting Black Kings (1976)', 'The Oshima Gang (1983)', 'Tetris: From Russia with Love (2004)', 'Frisco Kid (1935)', 'Bauhaus (2019)', 'Stress Position (2013)', 'Girls Town (1996)', 'Little Dixie (2023)', \"God's Compass (2016)\", 'Divorce Corp. (2014)', 'A Ripple in the Pond (1952)', 'The Ambush (2021)', 'The Assailant (2009)', '...And Your Name Is Jonah (1979)', 'Felices 140 (2015)', 'Ivan Tsarevich & the Grey Wolf 5 (2022)', 'Dracula versus Frankenstein (1970)', 'Saint Sinner (2002)', 'Nursie (2004)', 'Indianara (2019)', 'Alice Júnior (2019)', 'For the Love of Jessee (2020)', 'Insane (2016)', 'The Astro-Zombies (1968)', 'Super Cyclone (2012)', 'Pursued (2004)', 'Bobby Jones, Stroke of Genius (2004)', '3, 2, 1... Frankie Go Boom (Frankie Go Boom) (2012)', 'Feel the Motion (1985)', 'The Swamp (2020)', 'Cremaster 1 (1996)', 'Buffalo Running (1883)', 'Wisdom (1986)', 'The Book of Stone (1969)', 'Chuchotage (2018)', 'Blue Queen (2018)', 'Prescription for Danger (2018)', 'The Incredible Kung Fu Master (1979)', 'Time Toys (2017)', 'The Seven Faces of Jane (2023)', 'Burning (2002)', 'Lost in Russia (2020)', 'Corro da te (2022)', \"I'm No Fool with Fire (1955)\", 'Trooper Hook (1957)', 'Sherlok Kholms i doktor Vatson (2005)', 'Marie-Jo and Her 2 Lovers (Marie-Jo et ses 2 amours) (2002)', 'VeggieTales: Beauty and the Beet (2014)', 'Road to Berlin (2015)', \"Blondie's Hero (1950)\", 'Faith (2010)', 'White Lilacs (2007)', 'The Mongolian Connection (2019)', 'Mars and April (2012)', 'Champions (2008)', 'Blind Date (1959)', 'The Count (1916)', 'Paranormal Entity (2009)', 'El dinero tiene miedo (1970)', 'As They Made Us (2022)', 'Beyond Lemuria (2007)', 'Tom Papa: Live in New York City (2011)', 'Bad Boy Street (2012)', 'When the Raven Flies (1984)', 'Mysterious Intruder (1946)', 'Made for Each Other (1939)', 'Paulette (2012)', 'Instantes Capturados (2022)', 'In the Land of Blood and Honey (2011)', 'Blood in the Face (1991)', 'Daawat-e-Ishq (2014)', \"Grin Without a Cat, A (Fond de l'air est rouge, Le) (1977)\", 'Algorithm: BLISS (2020)', 'Gendernauts (1999)', 'Ferdinando e Carolina (1999)', 'Death Mills (Die Todesmühlen) (1945)', 'The Hunger: The Story of the Irish Famine (2020)', 'Fox, The (1967)', '2101 (2014)', 'Return to Sender (2015)', 'Captain Lightfoot (1955)', 'Sakra (2023)', 'Who Is Cletis Tout? (2001)', 'The Show Must Go On: The Queen + Adam Lambert Story (2019)', 'So tutto di te (2023)', 'Modulations (1998)', 'Toad Road (2013)', 'Money (2019)', \"Jester's Night: Seriously Off Nut (2020)\", 'The Adventures of Pinocchio (1972)', 'Beck 48  - Quid Pro Quo (2023)', \"Noah's Arc Principle, The (Arche Noah Prinzip, Das) (1984)\", 'Empty Space (2017)', 'The Virgin Queen (2005)', 'All Stars (2013)', 'The Trial of Tony Blair (2007)', 'Unexpected Love, An (2003)', 'Red Letters (2019)', 'History of the Eagles (2013)', 'La règle du jeu (2017)', 'Pilgrims (2021)', 'The Restless (2021)', 'Beyond the Myth: A Film About Pit Bulls and Breed Discrimination (2010)', 'Carpetbaggers, The (1964)', 'Vares: The Path of the Righteous Men (Vares - Kaidan tien kulkijat) (2012)', 'One More Dream (2022)', 'Pacco, Doppio Pacco E Contropaccotto (1993)', 'Bus Nut (2014)', 'Cat on a Hot Tin Roof (1984)', 'Mystery Date (1991)', 'Umka is Looking for a Friend (1970)', \"Hell of a Day, A (Reines d'un jour) (2001)\", 'Disaster! (2006)', 'Run & Jump (2014)', 'Lots of Kids, a Monkey and a Castle (2017)', 'Rangabali (2023)', 'Vares - The Sheriff (2015)', 'The Extra Girl (1923)', 'Bandits (1997)', 'Gypsy Princess (1971)', 'Born to Race: Fast Track (2014)', 'Flatscreen (2012)', 'Pillertrillaren (1994)', 'Thammudu (1999)', 'Love on the Rise (2020)', 'Assault and Battery (1969)', 'The Laughing Man (1966)', 'Thomas & Friends: Day of the Diesels (2011)', 'Sea, The (Hafið) (2002)', 'Amore mio aiutami (1969)', 'The Last Conception (2020)', 'Desert Coffee (2017)', 'Bitter Dream (2004)', 'The Eugenics Crusade (2018)', 'Sailor Moon S the Movie: Hearts in Ice (1994)', \"Don't Sell My Baby (2023)\", 'Roadhouse 66 (1985)', 'No Men Beyond This Point (2015)', 'Daddy You, Daughter Me (2017)', 'Upperdog (2009)', 'Cleo (2019)', 'Welcome to the North (2012)', 'The Present (2014)', 'Hearts of the West (1975)', 'White Fire (1984)', 'Fatal Pulse (2018)', 'Singularity (2017)', 'Arne Dahl 08 - Mörkertal (2015)', 'The Beniker Gang (1985)', 'Housekeeper, The (femme de ménage, Une) (2002)', 'Wall Engravings (1968)', 'Doomsday Machine (1972)', 'Knights Must Fall (1949)', 'The Inheritance (2021)', 'The Long Duel (1967)', 'DamNation (2014)', 'Checkered Flag or Crash (1977)', 'Once Upon a Time in Bethlehem (2019)', 'Uncovered (1995)', 'Manthan (1976)', 'Three Summers (2020)', 'Goodbye, Petrushka (2022)', 'Paul VI: The Pope in the Tempest (2008)', 'Is My Palm Read (1933)', 'Disorderlies (1987)', 'Pancho, the Millionaire Dog (2014)', \"Outlaw's Buckle (2021)\", 'Toxic (2022)', 'Road Kill (2010)', 'Hitler- Dead or Alive (1942)', \"Serpent's Lair (1995)\", 'Sleepwalking Land (2008)', 'The Flower (2019)', 'Der letzte Bulle (2019)', 'My House My House... (1988)', 'Changing the Game (2019)', '6ixtynin9 (Ruang Talok 69) (1999)', 'The Soul Conductor (2018)', 'Stay the Night (2022)', 'Paradise 89 (2018)', 'Farah Goes Bang (2013)', 'Si Fulano fuese Mengano (1971)', 'The 11th Green (2020)', 'Les Invisibles (2019)', 'The Nine Kittens of Christmas (2021)', 'Sagan (2008)', 'Card Player, The (Il cartaio) (2004)', 'Blood Line (2020)', 'Earthworm Tractors (1936)', 'Pakka Commercial (2022)', 'Lucky Luciano (1973)', 'Muska (2014)', 'The Duke (1999)', \"In Gramps' Shoes (2013)\", 'Book of Love (1990)', 'Touch Me Not (2018)', \"Foyle's War - War Games (2003)\", 'The Burglar’s Dilemma (1912)', 'Think Like a Dog (2020)', 'Christmas Takes Flight (2021)', 'Dawn of an Evil Millennium (1988)', 'Agoraphobia (2015)', 'Transylvania Twist (1990)', 'Ghoomer (2023)', 'Kummeli V (2014)', 'A Czechoslovak Fairy Tale (2022)', 'Quasi at the Quackadero (1976)', 'Nanpakal Nerathu Mayakkam (2023)', \"Detective Conan: Kudo Shinichi's Written Challenge (2006)\", 'Not on the Lips (Pas sur la bouche) (2003)', 'The Loves of Hercules (1960)', 'Take a Hard Ride (1975)', 'Money: A Tragicomic Saga (1946)', 'After Class (2019)', 'Scrooge (1935)', 'Gate to Heaven (2019)', 'Sing a Bit of Harmony (2021)', 'The Haunting of Marsten Manor (2007)', 'Waking Up Yesterday (2012)', 'El astronauta (1970)', 'Girls on Top 2 (2004)', 'Crazy Lake (2016)', 'U Turn (2018)', 'Kyle Kinane: Whiskey Icarus (2012)', 'Ishaqzaade (2012)', 'Cool Cat in the Hollywood Parade (2012)', 'Mr. Socrates (2005)', 'Lizzie Borden Took an Ax (2014)', 'Nil Battey Sannata (2016)', 'Me and Morrison (Minä ja Morrison) (2001)', 'The Statue (1971)', 'The One Hundred (2022)', 'Unlicensed Cemetery: The John Wayne Gacy Murders (2002)', 'Nerkonda Paarvai (2019)', 'To Love Someone (2007)', 'Kids for Cash (2014)', 'Dachra (2019)', 'Swat: Unit 887 (2015)', 'Place at the Table, A (2012)', 'Survive (2022)', 'War Games: At the End of the Day (2010)', 'King Kong Escapes (Kingu Kongu no gyakushû) (1967)', 'November (2004)', 'Australia Day (2017)', 'A Chorus of Disapproval (1989)', 'Wild Card (2003)', 'Amazing Love (2012)', 'Beast with a Million Eyes, The (1955)', 'My Brothers (2018)', 'Hitler: The Last Ten Days (1973)', 'Seven Weeks (2014)', 'Observations at 65° South (2021)', 'Graduation Day (1981)', 'David Bowie: Five Years (2013)', 'The List (2015)', 'Texas Terror (1935)', 'The Fuller Brush Girl (1950)', 'Sara Learns Manners (1937)', 'Blackbird (2007)', 'Forgotten Tune for the Flute (1987)', 'Lucky: No Time For Love (2005)', 'Rediscovering Christmas (2019)', 'The Man with Half a Body', \"Girls' Encounter (2018)\", 'Brave Blue World: Racing to Solve Our Water Crisis (2019)', 'Canvas (2021)', 'It Should Happen to You (1954)', 'Massacre Time (1966)', 'Medora (2013)', 'The Sandpit Generals (1971)', 'What The Nanny Saw (2022)', 'Where Angels Fear to Tread (1991)', 'Nothing to Hide (2017)', 'Under the Hawthorn Tree (2010)', \"I Don't Scare (1956)\", 'It Came from Hollywood (1982)', 'Damaged Lives (1933)', 'The Cockpit (1993)', 'Fuck for Forest (2012)', 'O Cavaleiro Didi e a Princesa Lili (2006)', 'Secret, The (2007)', 'Beni Walks by Himself (1975)', 'Horse Julius on the throne and Three Heroes (2021)', 'Vanitas (2015)', 'Let Us Be Gay (1930)', 'Officer Arjun Singh IPS (2019)', 'Those Whom Death Refused (1988)', 'Carmen Jones (1954)', 'We Are (2020)', 'Bellman and True (1987)', 'Hillbillys in a Haunted House (1967)', 'Sex, Lies and Death (2011)', 'Center Stage (Ruan Lingyu) (Actress, The) (New China Woman, The) (1991)', 'Adaline (2015)', 'Perfect Nanny (2019)', 'Isabella (2006)', 'The Pit (2009)', 'Forgotten Silver (1996)', 'Meet the Deedles (1998)', '7 Years (2016)', 'Titanoboa: Monster Snake (2012)', 'Escape Route (1952)', 'East Side Story (1997)', 'Morals for Women (1931)', 'Woman Always Pays, The (Afgrunden) (Abyss, The) (1910)', 'Roar : The Most Dangerous Film Ever Made (2017)', 'Anzio (1968)', 'The Puzzle of the Red Orchid (1962)', 'The President (2014)', \"I Haven't Got a Hat (1935)\", 'Sol de Primavera (1937)', 'A Story of Children and Film (2013)', 'Six Acts (2012)', 'Closer to God (2015)', 'American Wrestler: The Wizard (2016)', 'Magyar vándor (2004)', 'They Made Me a Criminal (1939)', 'Iron Man & Hulk: Heroes United (2013)', \"Sharpe's Regiment (1996)\", 'Ghosts (1997)', 'Peter the First, Part II (1938)', 'Adventures of Tom Sawyer, The (1938)', 'Magic Voyage of Sindbad, The (Sadko) (1953)', 'Attack of the Crab Monsters (1957)', 'Ein ganz und gar verwahrlostes Mädchen (1977)', 'The End Is My Beginning (2010)', 'The Postman Fights Back (1982)', 'All About the Money (2017)', 'The Irregular at Magic High School: The Girl Who Calls the Stars (2017)', 'Hello, Love, Goodbye (2019)', 'Love Fiction (2012)', 'Pure Pwnage: Teh Movie (2016)', 'Black Butler: Book of Murder (2014)', 'Easy Money 3 (2013)', 'Beauties of the Night (1952)', 'Tony Arzenta (No Way Out) (Big Guns) (1973)', 'Sync (2014)', 'Fastlife (2014)', 'Carmine Street Guitars (2018)', 'Max Steiner: Maestro of Movie Music (2019)', \"Don't Let Me Drown (2009)\", 'The Escape (2018)', 'Beauty Investigator (1992)', 'Perfect Day (1929)', 'Unspeakable Act, The (2012)', 'Tales from the Crypt: From Comic Books to Television (2004)', 'Apoorvaragam (2010)', 'Snake in the Eagles Shadow 2 (1978)', 'Roustabout (1964)', 'Down in the Delta (1998)', 'Men... (1985)', 'Walking the Dog (2017)', 'Black Money (2019)', 'Timeman (2022)', 'The End of a Great Era (2015)', 'La decente (1971)', 'A Fish Tale (2017)', 'Death Drop Gorgeous (2021)', 'Damned the Day I Met You (1992)', 'Undertow (1996)', 'Becky Sharp (1935)', 'Tell Me When (2020)', 'The Preview Murder Mystery (1936)', 'Coverup: Behind the Iran Contra Affair (1988)', 'The Man Called Flintstone (1966)', 'The Lost Treasure of Hursit Pasha (1996)', 'Atlanta (2007)', 'Violent Is the Word for Curly (1938)', 'Gen-X Cops (1999)', 'Plastic Disasters (2006)', 'Zorn - Kalter Rauch (2017)', 'Flight of the Red Balloon (2007)', 'White Rose Campus: Then Everybody Gets Raped (1982)', 'Silly Little Game (2010)', \"No Man's Land (1978)\", 'The Young Messiah (2016)', 'Furnace (2007)', 'In girum imus nocte et consumimur igni (1978)', 'Non-Stop (1996)', 'Adventures of a Private Eye (1977)', 'Around the World in 80 Days (1989)', 'Stand by Me Doraemon 2 (2020)', 'Chariots of the Gods (Erinnerungen an die Zukunft) (1970)', 'Digimon Adventure Tri. - Chapter 3: Confession (2016)', \"Hill 24 Doesn't Answer (1955)\", 'That Time of Year (2018)', 'Breakfast with Scot (2007)', 'Christmas in August (Palwolui Christmas) (1998)', 'Suburbans, The (1999)', 'No Thank You (2014)', 'Containment (2015)', 'Bear Feat (1949)', 'Gonza the Spearman (1986)', 'A Cinderella Christmas (2016)', 'Operation Dunkirk (2017)', 'The Rig (2010)', 'Nevrland (2019)', 'The Early Bird Dood It! (1942)', 'Get Big (2017)', 'The Possessed (1965)', 'Models (1999)', 'Casualties of Love: The Long Island Lolita Story (1993)', 'Madame Satã (2002)', 'Bbuddah Hoga Terra Baap (2011)', 'The Shop at Sly Corner (1947)', 'Zero Kelvin (Kjærlighetens kjøtere) (1995)', 'Patsy & Loretta (2019)', 'Nanban (2012)', 'Changing Landscapes (1964)', 'Blackbelt (1992)', \"Velikaya kriminal'naya revolyutsiya (1994)\", 'Mystery 101: An Education in Murder (2020)', 'Ben 10 Versus the Universe: The Movie (2020)', 'New Moon (2001)', 'Outlaw: Gangster VIP 2 (1968)', 'Angry Annie (2022)', 'Dreaming of a Jewish Christmas (2017)', 'Interlude In Prague (2017)', 'All the Names of God (2023)', 'Stronger Than Love (1955)', 'Naruto Shippuden the Movie: The Lost Tower (2010)', 'Corner Gas: The Movie (2014)', 'Beneath Us All (2023)', \"Frankenstein's Bloody Terror (1968)\", 'Anqa (2023)', 'Gone Are the Days (2018)', 'Forbidden Siren (2006)', 'Robin and the 7 Hoods (1964)', 'Zoom Zoom Zoom (1969)', 'Pipeline (2021)', 'Liberation: The Break Through (1970)', 'The August Virgin (2019)', '10 Days with Santa Claus (2020)', 'The Spy Who Loved Flowers (1966)', \"Picnic on the Grass (Le déjeuner sur l'herbe) (1959)\", 'The Antichrist (1974)', 'Dybbuk (2021)', 'A Nightmare Wakes (2020)', 'Heart Beat (1980)', 'The Colors of Emily (2017)', 'A Guide to Dating at the End of the World (2022)', \"10th Judicial Court: Judicial Hearings, The (10e chambre - Instants d'audience) (2004)\", 'Olga (2021)', 'The Sweet Sex and Love (2003)', 'A Normal Life (2016)', 'Trio (2019)', 'Occupation 101 (2006)', \"It's All True (1993)\", 'Promoter, The (Card, The) (1952)', 'Our Godfather (2019)', 'Never So Few (1959)', 'Flu Bird Horror (2008)', 'Neurons to Nirvana (2013)', 'Breaking Bread (2021)', '20,000 Species of Bees (2023)', 'It Happened Here (1966)', 'Superbad (2016)', 'The Hour of the Lynx (2013)', 'Rudolph the Red-Nosed Reindeer: The Movie (1998)', 'Nuts! (2016)', 'Dog Jack (2011)', 'Sleep, My Love (1948)', 'Öldür Beni Sevgilim (2019)', 'Hype! (1996)', 'Nothing Left Unsaid: Gloria Vanderbilt & Anderson Cooper (2016)', 'Uncle Sam (1997)', 'Caged (2021)', 'Blast, A (2014)', 'I Will Walk Like a Crazy Horse (1973)', 'Birthday (Bad Kid Stuff) (2022)', 'Hunt Club (2023)', 'Elizabeth Blue (2017)', 'Victoria (2020)', 'O Fim do Mundo (2019)', 'The Dead Will Walk: The Making of Dawn of the Dead (2004)', 'True Friends (1954)', 'Witness for the Prosecution (1982)', 'Kurosawa and the Censors (2007)', 'Princess Cut 2: Hearts on Fire (2021)', \"She's The Best Thing in It (2015)\", 'Ice Cream (1993)', 'Young Doctors in Love (1982)', 'Blonde Crazy (1931)', 'Character (2021)', 'Four of a Kind (2008)', 'Deer Woman (2005)', 'No Greater Love (2009)', 'When I Find the Ocean (2006)', 'Murder with Mirrors (1985)', 'Jim Breuer: And Laughter for All (2013)', 'The Red Spider (2015)', \"I Can't Sleep (J'ai pas sommeil) (1994)\", \"Little Nicholas' Treasure (2021)\", 'Black Moon (1934)', 'The Girl in the Photographs (2015)', 'Fugitive Pieces (2007)', 'Shepherds and Butchers (2016)', 'The Tale of Iya (2013)', 'Battle of the Worlds (1961)', 'Old Goats (2014)', 'The Funhouse Massacre (2015)', 'Santa Claws (2014)', 'Return of the Chinese Boxer (1977)', 'Charm School (Niñas mal) (2007)', 'Crew, The (2008)', 'Sleepaway Camp IV: The Survivor (1992)', 'Shame of the Jungle (1975)', 'Schooled: The Price of College Sports (2013) ', 'Hearts and Armour (1983)', 'Jail (2021)', 'Stray Cat Rock: Wild Jumbo (1970)', 'Go West (1940)', 'I See a Dark Stranger (1946)', 'A Whirlwind Wedding (2021)', 'Montana (1998)', 'Only Me is Normal (2021)', 'And Then There Was One (1994)', 'Meteor Apocalypse (2010)', 'Barbie & Kendra Save the Tiger King (2020)', 'No Distance Left to Run (2010)', 'Sons of Provo (2004)', 'Macross Frontier: The Wings of Goodbye (2011)', \"Let's Get Lost (1988)\", 'Rude Awakening (1989)', 'The High Command (1937)', 'Absolute Beginners (1986)', 'Embryo (1976)', 'Les grands sentiments font les bons gueuletons (1973)', 'Apparitions (2021)', 'Treasures from the Wreck of the Unbelievable (2017)', 'So Normal (Normais, Os) (2003)', 'Yt (2021)', 'Varuthapadatha Valibar Sangam (2013)', 'Silver Medalist (2009)', 'Ermo (1994)', 'Padrecito, El (Little Priest) (1964)', \"You Can't Live Like That (1990)\", 'Tere Naal Love Ho Gaya (2012)', 'World Before Her, The (2012)', 'Alabama Moon (2009)', 'Honey, I Shrunk the Audience (1994)', 'Skyman (2020)', 'Motel, The (2005)', 'United Red Army (Jitsuroku Rengo Sekigun: Asama sanso e no michi) (2007)', 'Man of the House (1936)', 'Felix the Cat: The Movie (1988)', 'Dam 999 (2011)', 'Kala (2021)', 'Daughter for Sale (2017)', \"Don't Bother To Knock (1961)\", 'Lower City (Cidade Baixa) (2005)', 'City of Tiny Lights (2016)', 'Born Invincible (1978)', 'One Way Ticket to the Moon (2013)', 'On Fire (2023)', 'Cheerleader Autopsy (2003)', 'Deep in My Heart (1954)', 'Treed Murray (2001)', 'Cándida (1939)', 'The Long Night of Francisco Sanctis (2016)', \"Making 'Do the Right Thing' (1989)\", 'The Legend of the Stardust Brothers (1985)', 'The Wee Man (2013)', 'Strange One, The (1957)', 'The Ticket (2016)', 'Thunderclump (1974)', 'Weather Girl (2009)', 'The Sinners (2020)', 'The Secret of Karma (2020)', 'Criminal Code, The (1931)', \"Emperor's Secret (2006)\", 'Page Miss Glory (1936)', 'Bloody Muscle Body Builder in Hell (2009)', 'Lifemark (2022)', 'Magnificent Obsession (1935)', 'Ambush at Dark Canyon (Dark Canyon) (2012)', 'Goats (2012)', 'Alfie, the Little Werewolf (2011)', \"The Man from Hell's Edges (1932)\", 'The Bachelor 2 (2017)', 'Massacre in Rome (1973)', 'Switch (2023)', 'Maybe, Maybe Not (Bewegte Mann, Der) (1994)', 'The Great Warrior Skanderbeg (1953)', 'Heavenly Appeals (2009)', 'Switching - Goodbye Me (2007)', 'The Price of Freedom (2021)', 'The King of the Hill (2008)', 'Där vi en gång gått (2010)', 'Four Horsemen of the Apocalypse, The (1921)', 'Living in Seville (1978)', 'Margaret (2009)', 'Going to Kansas City (1998)', 'Duvidha (1973)', 'The Wiggles: Space Dancing (2003)', \"I'm Not Here\", 'Puppy Love (2012)', 'The Unprecedented Defence of the Fortress Deutschkreuz (1967)', 'The Boy Friend (1971)', 'New Country, The (Det nya landet) (2000)', 'Georges Bataille - À perte de vue (1997)', 'Captive, The (La captive) (2000)', 'What Ever Happened to Baby Jane? (1991)', 'Quest of the Delta Knights (1993)', 'Magnesium (2020)', 'Island of Love (1963)', 'I Am Elizabeth Smart (2017)', 'Stop Potapov! (1974)', 'Wu Kong (2017)', 'First Target (2000)', \"It's A Bird, It's A Plane, It's Superman! (1975)\", 'Freedom Riders (2010)', 'Films to Keep You Awake: Spectre (2006)', 'Veera Simha Reddy (2023)', 'See No Evil (2014)', 'Memoirs of a Teenage Amnesiac (2010)', 'Birthmarked (2018)', 'Toloka (2020)', 'The Laurel-Hardy Murder Case (1930)', 'Pascual Duarte (1976)', 'When the Screaming Starts (2021)', \"Draquila - L'Italia che trema (2010)\", 'Where Love Found Me (2016)', '99 Women (1969)', 'Barkhaa (2015)', 'La chambre (1972)', 'Goemon (2009)', 'Seduced: Pretty When You Cry (2001)', 'A Fishy Business in Saint-Pierre et Miquelon (2022)', 'Lillehammer ’94: 16 Days of Glory (1994)', 'A Perfect Chord (2015)', 'Love Exposure (2007)', 'Messages (2007)', 'Khoya Khoya Chand (2007)', 'Isabelle au bois dormant (2007)', 'Irving Thalberg: Prince of Hollywood (2005)', \"L'ora legale (2017)\", 'The Ruby in the Smoke (2006)', 'Bonga, o Vagabundo (1969)', 'Attempted Suicide (1906)', 'Precautions Against Fanatics (1969)', 'The Top Bet (1991)', 'Replica (2005)', 'A Dangerous Affair (1995)', 'Cinematographer Style (2006)', 'Guilty of Treason (1950)', 'Mystery 101: Playing Dead (2019)', 'Talked to Death (1997)', 'Anjaneyulu (2009)', 'Black Box BRD (2001)', 'Cherry, Harry & Raquel! (1970)', 'Sagara Sangamam (1983)', 'Arsène Wenger: Invincible (2021)', 'Goalie (2019)', 'Original Gangster (2020)', 'Worst Friends (2014)', 'The More You Ignore Me (2018)', 'Someday We’ll Tell Each Other Everything (2023)', 'Victor and the Secret of Crocodile Mansion (2012)', 'Love You Like Christmas (2016)', 'Detroit Metal City (Detoroito Metaru Shiti) (2008)', 'O Querido Lilás (1987)', 'The Assault (2014)', 'Arbor Demon (2016)', 'Seven Women for Satan (1976)', 'I Was Nineteen (1968)', 'The Art of Love (2011)', 'Glass Menagerie, The (1987)', \"John Leguizamo's Latin History for Morons (2018)\", 'Big City Blues (1932)', 'The Plastics Inventor (1944)', 'Five the Hard Way (1969)', 'The Investigation: A Haunting in Sherwood (2020)', 'Do You Believe in Angels? (1961)', 'A Hill in Korea (1956)', \"Bulldog Drummond's Revenge (1937)\", 'The Agha (1985)', 'Thawed Carp (2018)', 'I Am Not Him (2013)', 'Christopher Titus: Love Is Evol (2009)', 'Mince Alors 2 ! (2021)', 'Terror Eyes (2021)', 'Upswept Hare (1953)', 'American Zombie (2007)', 'The Ship That Died of Shame (1955)', 'Light and the Sufferer (2008)', 'Go for It! (2011)', 'Off Piste (2016)', \"Last Bolshevik, The (Tombeau d'Alexandre, Le) (1993)\", 'Catch the Wind (2017)', 'The Lottery (1996)', 'Fantasy Magician (2020)', 'I Am DB Cooper (2022)', 'Central Park (1990)', 'Chutney Popcorn (2001)', 'Dracula in Pakistan (1967)', 'The History of the World in 2 Hours (2011)', 'The PHD Movie 2 (2015)', 'Fly, Daddy, Fly (2006)', 'Magic Silver (2009)', 'Stimulantia (1967)', 'O Corintiano (1967)', 'Iqbal (2005)', 'APT. (2006)', 'Beast Mode (2017)', 'Senior Moment (2021)', 'Day Of The Cobra (1980)', 'Marvelous (2008)', \"Killer's Delight (1978)\", \"Kanaval: A People's History of Haiti in Six Chapters (2022)\", 'The Wall (1982)', 'To Each His Own (1946)', 'Triad (2012)', \"Mozart's Sister (Nannerl, la soeur de Mozart) (2011)\", 'Plumbum, or The Dangerous Game (1987)', 'Joy For Christmas (2021)', 'Angi Vera (1979)', 'Where We Belong (2019)', 'The Kitchen (2012)', 'Good Guys Wear Black (1978)', 'The Village (1993)', 'Octaman (1971)', 'Curse of the Witching Tree (2015)', 'Raggedy Ann & Andy: A Musical Adventure (1977)', 'The Night Digger (1971)', 'The Holiday Fix Up (2021)', 'Dating & New York (2021)', 'Hyper Hamster (2018)', 'Malaria (2013)', \"Grandma's Reading Glass (1900)\", 'Journey to the Christmas Star (2012)', 'El Gerente (2022)', 'Transmission (2021)', 'Curtains for Roy Earle (2003)', 'Woman of Rome (1954)', 'Gesuzza, La Sposa Garibaldina (1934)', 'Frontiers (2023)', 'True (2004)', 'UMMAH - Unter Freunden (2013)', 'Murder She Baked: A Deadly Recipe (2016)', 'Delicate Balance (2016)', 'Pandorica (2016)', \"An Autumn's Tale (1987)\", 'Aarakshan (2011)', 'Brutus Vs César (2020)', 'Eve (1968)', 'American Dreamer (1984)', 'Sun, Sand & Romance (2017)', 'Thief of Paris, The (Le voleur) (1967)', 'Comandante (2003)', 'Happy New Year, Charlie Brown (1986)', 'Passionate (1974)', '«5/4» (1990)', 'So You Said Yes (2015)', 'Tawai: A Voice from the Forest (2017)', 'Demons from Her Past (2007)', 'The Fighter (1983)', 'Daffy Duck in Hollywood (1938)', 'In the Last Days of the City (2016)', 'Justin Bieber: Rise to Fame (2011)', 'Sugarbaby (1985)', 'Legend of Lobo, The (1962)', '12 Storeys (Shier lou) (1997)', 'Hard Luck Love Song (2020)', 'Sasq-Watch! (2017)', 'Jeca Tatu (1959)', 'Over the Moon in Love (2019)', 'Granada Nights (2021)', 'Bread and Alley (Nan va Koutcheh) (1970)', 'Seven Women of Different Ages (1979)', 'Between Heaven and Hell (1956)', 'Mothers and Daughters (1974)', 'Las furias (2016)', 'Time Indefinite (1993)', 'Day of Wrath (1985)', 'Pirate Movie, The (1982)', 'Le grand soir (2012)', 'Princess Principal Crown Handler: Chapter 1 (2021)', 'The Falcon Out West (1944)', '38 Parrots', 'CarGo (2017)', 'Ragged Life of Juice Leskinen (2018)', 'In Spring (1929)', \"Father Noah's Ark (1933)\", 'The Get Together (2020)', 'Eddie Izzard: Live from Wembley (2009)', 'Mug (2018)', '1969 (1988)', 'A Dog Named Palma (2021)', 'Vampire Diary (2007)', 'Summer in the City (2016)', 'Bacchus Uncovered: Ancient God of Ecstasy (2018)', 'Deep Freeze (2002)', 'Deduce, You Say (1956)', \"'Til Kingdom Come (2020)\", 'Moonlight Shadow (2021)', \"The Gallopin' Gaucho (1928)\", 'Maestro (2005)', 'Star Wars: Greatest Moments (2015)', 'Blue Ridge (2020)', 'The Princess Comes Across (1936)', 'Seventeen (2019)', 'Sin Filtro (2016)', 'Il caso Moro (1986)', \"Sharpe's Siege (1996)\", 'The Cuban (2020)', 'Riley Rewind (2013)', 'The Last Flight (2009)', 'Happy, Happy (Sykt lykkelig) (2010)', 'Russell Peters: Almost Famous (2016)', 'Face of a Fugitive (1959)', 'Meteo (1990)', 'Muzzle (2023)', 'Night on Earth: Shot in the Dark (2020)', 'The Appointment (1981)', 'Three Coins in the Fountain (1954)', \"Jammin' the Blues (1944)\", 'Window to Paris (Okno v Parizh) (1994)', 'The Living Playing Cards (1905)', 'The Interpreters (2018)', 'The Skirt Chaser (1979)', 'Io Island (Iodo) (1977)', \"Porky's Super Service (1937)\", 'Blood Moon (2001)', 'Rocketship X-M (1950)', 'Wasted on the Young (2010)', 'Flower & Snake (2004)', 'Danny, The Champion of the World (1989)', 'Tokyo Rising (2020)', 'Pampa Blues (2015)', 'Jessica Forever (2019)', 'Shadow of Deception (1971)', 'Star Odyssey (1979)', 'Something Like Summer (2017)', 'Vassilisa the Beautiful (Vasilisa prekrasnaya) (1939)', 'Blossoming of Maximo Oliveros, The (Ang pagdadalaga ni Maximo Oliveros) (2005)', 'O.S.S. (1946)', 'Do or Die (2003)', 'Anonymous Animals (2021)', 'No Blood No Tears (2002)', 'Second Time Around, The (1961)', \"A Cowgirl's Story (2017)\", 'Manganinnie (1980)', 'Kickboxer from Hell (1990)', 'Grand Champion (2004)', 'Control (1987)', 'Palm Swings (2017)', 'War Pony (2023)', 'How to Fall in Love (2012)', 'Good Day for a Hanging (1959)', 'Forty Naughty Girls (1937)', 'Gold Rush Scenes in the Klondike (1899)', 'Leningrad Cowboys: These Boots (1993)', 'Shooting Stars (1928)', 'Colorado Serenade (1946)', 'Riding The Bus With My Sister (2005)', 'Shakespeare School Year (2018)', 'Alien Addiction (2018)', '22 ángeles (2016)', 'My Skinny Sister (2015)', 'Nazis: A Warning from History, The (1997)', 'Sinkhole (2013)', 'Something Weird (1967)', 'Dragon Around (1954)', 'Stoned (2005)', 'Pit, The (1981)', \"Ninja in the Dragon's Den (1982)\", 'The Luck of Ginger Coffey (1964)', 'Goliath (2019)', 'Shelter (2016)', 'Catching Out (2003)', '3801 Lancaster: American Tragedy (2015)', 'Doses of Horror (2018)', 'Springfield Rifle (1952)', 'Eye of the Cat (1969)', 'The Final Inch (2009)', 'Teenagers from Outer Space (1959)', 'Reich (2001)', 'Bugcrush (2006)', 'The Prince and the Pauper (1972)', 'That Kind of Summer (2022)', 'Gregoire (2017)', 'What Comes Around (2023)', 'The Sundowners (1950)', 'The Table of the Poor (1932)', 'Bad City (2022)', 'Hello and Goodbye (1972)', 'The Legend of Sleepy Hollow (1999)', 'Bugsy and Mugsy (1957)', 'Young Sophie Bell (2015)', 'Dear Grandma (2022)', 'An Elephant Can Be Extremely Deceptive (1976)', 'A Chairy Tale (1957)', 'Feel the Noise (2007)', 'Patterns of Evidence: Journey to Mount Sinai (2022)', 'Killing Car (1993)', \"Grandmother's Gold (2018)\", 'Mountain Flesh (2022)', 'Echoes from the Dead (Skumtimmen) (2013)', 'The Work and the Glory III: A House Divided (2006)', 'Top Dog (1995)', 'David Blaine: Beyond Magic (2016)', 'The Junior Defenders (2007)', 'Vollmond (2017)', 'You’ve Never Been Completely Honest (2022)', 'The Spiral Road (1962)', 'Nightmare (1964)', 'Desolation Sound (2005)', 'Chronicle of Amorous Accidents (1986)', 'Blue Hill Avenue (2001)', \"Legends of Oz: Dorothy's Return (2014)\", 'April Is the Cruellest Month (1983)', 'Street Flow (2019)', 'Wounded Game (1977)', 'Horror of the Humongous Hungry Hungan (1991)', 'The Chambermaid (2019)', 'Situation, The (2006)', 'Maria My Love (2012)', 'Okul (2004)', 'Return of the Prodigal Son, The (Návrat ztraceného syna) (1967)', 'Attrition (2018)', 'Ground Zero (2000)', 'Off Limits (2010)', 'The Lovers and the Despot', 'Half Brother (2018)', 'Şark Bülbülü (1979)', 'Silhouette (2019)', 'The Christmas Miracle of Jonathan Toomey (2007)', 'Shaolin Rescuers (1979)', 'Letting Go (2012)', 'Kommunist (1958)', 'Summer School Teachers (1974)', 'Men Boxing (1891)', 'Consuming Passion (2008)', '16 Shots (2019)', 'Sealed Cargo (1951)', 'Ladies Tailor (1986)', 'Perkele! Kuvia Suomesta (1971)', 'Number 37 (2018)', 'Carry on Jatta (2012)', 'Streamlined Greta Green (1937)', 'La tribu (2018)', 'The Beach Nut (1944)', 'The Wizard of Speed and Time (1979)', 'Return of the Blind Dead (1973)', 'Dokumentet – sex, sprit och solidaritet (2018)', 'Poison Berry in my Brain (2015)', 'Hypocrites (1915)', 'Full Moon in Blue Water (1988)', 'Cyclo (Xich lo) (1995)', \"Neptune's Daughter (1949)\", 'Molly Maguires, The (1970)', 'At Midnight (2023)', 'Morgan Pålsson - världsreporter (2008)', 'His Only Son (2023)', 'Yeh Ballet (2020)', 'Sai da Frente (1952)', 'Albert & Hermann Goering (2016)', 'The Storyteller', 'Tig Notaro: Boyish Girl Interrupted (2015)', 'Storm Damage (2000)', 'Mothers (2018)', 'A Hand Shake (1892)', 'Birdsong (2012)', 'What No One Knows (Det som ingen ved) (2008)', 'Kadvi Hawa (2017)', 'Inbred (2012)', 'Love Is Gay, Love Is Sad (1971)', 'Green Room, The (a.k.a. Vanishing Fiancee) (La chambre verte) (1978)', 'Mary Poppins Returns: Behind the Magic (2018)', \"Pigeon's Milk (2021)\", 'Clandestine Childhood (2011)', 'Unsuspected, The (1947)', \"Gentlemen Don't Eat Poets (Grotesque, The) (1995)\", 'Death Valley (1982)', 'A Place Called Home (2004)', 'Pal Joey (1957)', 'To Joey, with Love (2016)', 'The Angry Breed (1968)', 'Autumn Dreams (2015)', 'Going Steady (1979)', 'Pedicab Driver (1989)', 'Holiday (1930)', 'Marianne (2011)', \"Chuck Berry Hail! Hail! Rock 'n' Roll (1987)\", 'Cherry Magic! THE MOVIE (2022)', 'Chasing Cotards (2011)', 'Lonely Oaks (2023)', \"Emma's Chance (2016)\", 'Nesting (2012)', 'Kolonya Cumhuriyeti (2017)', 'Country (2021)', 'Devils of Darkness (1965)', 'The Doll of Satan (1969)', 'BFFs (2014)', 'Honky Tonk Freeway (1981)', 'Kim Possible: The Secret Files (2003)', 'Under the Hood (2009)', 'Mussorgsky (1950)', 'Christmas Is Here Again (2007)', 'Звезда Улугбека (1965)', 'Cyber Bride (2019)', 'Cockleshell Heroes, The (1955)', 'A Lot of Nothing (2023)', 'Leningrad Cowboys: Those Were the Days (1992)', \"A Boy and His Atom: The World's Smallest Movie (2013)\", 'Lili (1953)', 'Still Out of My League (2021)', 'Unbeatable (Ji zhan) (2013)', 'The Sleeping City (1950)', 'Animals (2008)', 'Daemonium: Soldier of the Underworld (2015)', 'Pestilenz (2019)', 'Joshua (2002)', 'Tum Bin (2001)', 'Jack of all Trades (2018)', 'Hope You Die Next Time :-) (2018)', 'Maria, Leonora, Teresa (2014)', 'Fieldwork Footage (1928)', 'The Gleaners and I: Two Years Later (2002)', 'Slogans (2001)', \"Richard Pryor: I Ain't Dead Yet, #*%$#@!! (2003)\", \"The Easter Bunny Is Comin' to Town (1977)\", \"Leaves from Satan's Book (Blade af Satans bog) (1921)\", 'Frame Of Mind (2009)', 'Dumbell of the Yukon (1946)', 'Witnesses, The (Les témoins) (2007)', \"Don't Cry, Peter (1964)\", 'The Beast in Heat (1977)', 'Tjorven and Mysak (1966)', 'Martians Go Home (1990)', 'Russian Doll (2000)', 'Respect the Jux (2022)', 'The Beautiful Blonde from Bashful Bend (1949)', 'Before We Are Forgotten (2013)', 'Doomsday Device (2017)', 'Terror Within, The (1989)', 'Habitual', 'Fifty-Fifty (a.k.a. Schizo) (Shiza) (2004)', 'The Railrodder (1965)', 'Up the River (1930)', 'Journey to the Shore (2015)', 'Just a Question of Love (2000)', 'Asthma (2014)', 'Special Actors (2019)', 'Un grand amour de Beethoven (1936)', 'Scanners: The Showdown (1995)', \"Lucia's Grace (2018)\", 'NWR (2012)', 'The Builder (2010)', 'Hating Alison Ashley (2005)', 'Beta Test (2016)', 'Close to the Horizon (2019)', 'I Am Rage (2023)', 'How She Move (2007)', 'Control Factor (2003)', 'Rosy (2018)', 'Lighting Up the Stars (2022)', 'Such Good Friends (1971)', 'Alias St. Nick (1935)', 'Garden, The (1990)', 'Susie, the Little Blue Coupe (1952)', 'The Illustrated Hitchcock (1972)', 'Call Girl of Cthulhu (2014)', 'Spider Lilies (Ci qing) (2007)', 'Discovery of Heaven, The (2001)', 'A Boy and His Samurai (2010)', 'Assassins Run (2013)', 'Romance Retreat (2019)', 'Superdome (1978)', 'Disorganized Crime (1989)', 'Eldorado: Everything the Nazis Hate (2023)', 'Exterminators of the Year 3000 (1983)', 'Definition Please (2020)', 'Broken Toys (1966)', '3-Day Weekend (2008)', 'Ju-on: The Final Curse (2015)', 'Meditation on Violence (1949)', 'The Turkey Bowl (2019)', 'Online (2013)', 'Malpertuis (1971)', 'The Headline Woman (1935)', 'Red Trees (2017)', 'Perspectives (1975)', 'Attack of the 50 Foot Camgirl (2022)', 'College Humor (1933)', 'Universal Remote (2007)', 'Confession (2001)', 'Duel of the Titans (1961)', 'The Book of Revelation (2006)', 'Totò Sceicco (1950)', 'The Flintstones & WWE: Stone Age Smackdown (2015)', 'The Natural Route (2004)', 'Caronte (2017)', 'Welcome Venice (2023)', 'Griff the Invisible (2011)', 'The Alpha Test (2021)', \"Duffy's Tavern (1945)\", 'No Hard Feelings (2020)', 'Space Wars: Quest for the Deepstar (2023)', 'Peripheral (2018)', 'Sugar Daddy (2020)', 'Dawn French Live: 30 Million Minutes (2016)', 'Summer of Dreams (2016)', 'Sherlock Holmes and the Case of the Silk Stocking (2004)', 'Living Free (1972)', 'Pass the Salt (2020)', 'Roaring Road (1926)', 'Aliens, Flamingos & Ecstasy - Animated Shorts for Adults (2019)', 'Citizen Jane: Battle for the City (2016)', '180° South (180 Degrees South) (180° South: Conquerors of the Useless) (2010)', 'Lancaster Skies (2019)', 'Busting (1974)', 'A Master Builder (2013)', 'BlackJack (1990)', \"C'est pas parce qu'on a rien à dire qu'il faut fermer sa gueule! (1975)\", 'Insect Woman, The (Nippon konchûki) (1963)', 'B-Boy Blues (2021)', 'Inn in Tokyo, An (Tôkyô no yado) (1935)', 'The Chaperone (2019)', 'Hired Killer (1966)', 'Disaster on the Coastliner (1979)', 'Christmas Day (1928)', 'Ward No. 6 (2009)', 'TekWar (1994)', 'Chemsex (2015)', 'Blue Money (1985)', \"I'm Dancing as Fast as I Can (1982)\", 'Traumnovelle (1969)', 'The Well Beloved One (2010)', 'Flock of Dudes (2015)', 'Por los pelos (2022)', 'Journey (1972)', 'Rear Window (2020)', 'Living Bad (2023)', 'Before Someone Gets Hurt (2018)', 'Girls Gone Dead (2012)', 'Rukh (2017)', 'Karaoke Crazies (2016)', 'Going Attractions: The Definitive Story of the American Drive-in Movie (2013)', 'Carpet Cowboys (2023)', 'Saving Star Wars (2004)', 'Dirty Pair: Affair on Nolandia (1985)', 'I Love Your Work (2003)', 'Stressed To Death (2019)', 'Housos vs. Authority (2012)', 'Ohm Shanthi Oshaana (2014)', 'Reed Paradise (1989)', 'Death At Broadcasting House (1934)', 'Streaker (2017)', 'Love on the Menu (2019)', 'Star Packer, The (1934)', 'SoulBoy (2010)', 'Ginza Cosmetics (1951)', 'Dreams with Sharp Teeth (2008)', 'Kiss or Kill (1997)', 'Future Force (1989)', 'Complex Subject (2019)', 'Friend (2001)', \"Agata's Friends (2016)\", 'Pig Death Machine (2013)', 'Above Dark Waters (2013)', 'Ants (1977)', \"Woman's Secret, A (1949)\", 'Terror Trips (2022)', 'The New Kid (2015)', 'Soul In The Hole (1997)', 'A Human Position (2022)', 'The Incredible Adventure of Jojo (And His Annoying Little Sister Avila) (2014)', 'Stolen Children (Ladro di bambini, Il) (1992)', 'Labyrinth Romanesque (1988)', 'The Fox and the Hare (1973)', 'O Trapalhão no Planalto dos Macacos (1976)', 'Imprisoned (2019)', 'The Handsome Suit (2008)', 'Scenes from the Class Struggle in Beverly Hills (1989)', 'Divine Intervention (Yadon ilaheyya) (2002)', 'Leaving Normal (1992)', 'Down Argentine Way (1940)', 'Romeo and Juliet Get Married (2005)', 'Pitbull. New Order (2016)', 'Carved: The Slit-Mouthed Woman (2007)', \"I'm Going to Santiago (1964)\", 'Hondros (2018)', 'Radiance (2017)', 'Prescription for Love (2019)', 'Sunshine Dad (1916)', 'Glastonbury the Movie in Flashback (1995)', 'Louisiana Story (1948)', 'Swordsman (1990)', 'The Homecoming: A Christmas Story (1971)', 'Nightmare Shark (2018)', 'The Prolific Magical Egg (1903)', 'X-Cross (2007)', 'My Life as McDull (Mak dau goo si) (2001)', 'Bread, Love, Motorcycle 1000 (2002)', 'Blue Eyelids (2007)', 'Romanzo Criminale (2005)', 'South Sea Woman (1953)', 'Prizefighter and the Lady, The (1933)', 'The Woolworths Choir of 1979 (2012)', \"L'oeuvre au noir (1988)\", 'The Surrogate (2020)', 'LA Blues (2007)', 'A Boy Called Dad (2009)', 'Wings of the Hawk (1953)', 'Haita De Acțiune (2023)', 'Thupparivaalan (2017)', 'My Sweet Pepper Land (2013)', 'Dead Right (1993)', 'Myq Kaplan: Small, Dork and Handsome (2014)', 'Hating Peter Tatchell (2020)', 'In Bright Axiom (2019)', 'Bless the Woman (2003)', 'Lucie Aubrac (1997)', 'The Plague (2006)', 'Knife Edge (2009)', 'Seven Blessings (2023)', 'Born Again (2015)', 'Body Parts (2022)', 'The Collapsed (2011)', 'Alice (2005)', 'Interception (2009)', \"The Night Visitor 2: Heather's Story (2016)\", 'The Wasted Times (2016)', 'Damned, The (Les Maudits) (1947)', 'FirstBorn (2016)', 'A Fire in the Cold Season (2019)', 'Lady by Choice (1934)', 'The Indian Tomb, Part II: The Tiger of Bengal (1921)', 'Viva Belarus! (2013)', 'The Vampire (1945)', 'Three Sappy People (1939)', 'Secret Mission (1942)', 'J-Men Forever (1979)', 'The Adventures of Açela (2020)', 'The Curse of Kazuo Umezu (1990)', 'Sesso E Volentieri (1982)', 'Cookie (1989)', 'Danses espagnoles (1900)', 'Be Prepared (2018)', 'TV Set, The (2006)', 'Sweet Carolina (2021)', 'Among the Living (1941)', 'The Water (2022)', 'A Simple Event (1974)', 'Malice in Wonderland (1982)', 'House of Time (2016)', 'Amazonia (2013)', 'Thank You Guys (2023)', 'Tethered (2022)', 'Are We Ok? (2013)', 'Two Plains & a Fancy (2018)', 'A Summer to Remember (2018)', 'The Divorce Party (2019)', 'The Lion of Judah (2011)', 'The Rise (2012)', 'Daltry Calhoun (2005)', 'Classic Albums: Def Leppard - Hysteria (2002)', 'Normal Doors (2015)', 'I Accuse My Parents (1944)', 'The Time Capsule (2018)', 'A Feeling of Home (2019)', 'Straight on Till Morning (1972)', 'Big House Bunny (1950)', 'Histoire(s) du Cinéma: A Single (Hi)story (1989)', 'Girlfriends (2021)', 'Final Recipe (2013)', 'Juggernaut (2017)', 'All Roads Lead Home (2008)', \"Cat Fishin' (1947)\", 'Mad God: Part 2 (2016)', 'The Final Comedown (1972)', 'Rundfunk: Jachterwachter (2020)', 'From the Earth to the Moon (1958)', 'Tacoma Narrows Bridge Collapse (1940)', 'Lords of Discipline, The (1983)', 'The Indian Tomb, Part I: The Mission of the Yogi (1921)', 'Street of No Return (1989)', 'Iceland Is Best (2020)', 'Video Girl (2011)', 'Deep Gold (2011)', 'Häpy Endkö? Eli kuinka Uuno Turhapuro sai niin kauniin ja rikkaan vaimon (1977)', 'Empire of Silence (2022)', 'Down to the Dirt (2008)', 'Oresama (2003)', 'Hold Fast, Good Luck (2020)', 'Vie meilleure, Une (Better Life, A) (2011)', 'Punk in London (1977)', 'The Time Guardian (1987)', 'District, The (Nyócker!) (2004)', 'Dans une galaxie près de chez vous, le film (2004)', 'Siege (1983)', 'Night of 7 Years (2018)', 'The Great Toy Robbery (1963)', 'Wives and Daughters (1999)', 'Father and Sons (2003)', 'Homie Spumoni (2006)', 'Avarice (2022)', 'Wuthering Heights (1998)', 'The Baker (2007)', 'Innsaei (2016)', 'Kamen Rider - The Next (2007)', 'Another Silence (2011)', 'Operation Lady Marlene (1974)', 'American Fighter (2020)', 'Per amare Ofelia (1974)', 'I Am Paul Walker (2018)', 'In Search of Balance (2016)', 'Reclaiming Amy (2021)', 'A Brush with Christmas (2022)', 'Breathdeath (1963)', 'Born Romantic (2000)', 'Nadine (1987)', 'The Cat (1977)', 'This Way Up (2008)', 'Snake and Crane Arts of Shaolin (She hao ba bu) (1978)', 'The First Lap (2017)', 'Day the Fish Came Out, The (1967)', 'The Search for Santa Paws (2010)', 'Miracle In Lane 2 (2000)', 'The Story of Gilbert and Sullivan (1953)', 'St. Agatha (2019)', 'Candy Stripe Nurses (1974)', 'Night Shadows (1984)', 'Surviving Lunch (2019)', 'Powwow Highway (1989)', 'The Fourth Wish (1976)', \"God's Crooked Lines (1983)\", 'People You May Know (2017)', 'Red Shield (1991)', 'NWA & Eazy-E: The Kings of Compton (2016)', 'Targeted (2022)', 'The Dark Avenger (1955)', 'Kaze to Ki no Uta Sanctus: Sei Naru Kana (1987)', 'Utu (1984)', 'Lupin the Third: Dragon of Doom (1994)', 'The Laws of Thermodynamics (2018)', 'Cléo from 5 to 7: Remembrances and Anecdotes (2005)', 'Yo Yo (Yoyo) (1965)', \"The Doctor's Pupil (1983)\", 'Are You in the House Alone? (1978)', 'First Person Shooter (2022)', 'Prime Suspect: Inner Circles (1995)', \"Rip's Dream (1905)\", \"Kill 'em All (2012)\", 'The Call of the Wild: Dog of the Yukon (1997)', 'In the Good Old Summertime (1949)', 'Wake (2009)', \"A Woman's Life (2016)\", 'How to Live Your Best Death (2022)', 'On the Occasion of Remembering the Turning Gate (Saenghwalui balgyeon) (2002)', 'Trailer Park Jesus (2012)', 'Most Likely to Murder (2018)', 'The Moon Has Risen (1955)', 'Good Evening, Mr. Wallenberg (God afton, Herr Wallenberg) (1990)', 'Halloween: The Inside Story (2010)', 'Really Rosie (1975)', 'Out of Season (2004)', 'The Macabre (2022)', 'American Son (2008)', 'Trainer on the Beach 2 (2008)', 'Flesh Feast (1970)', 'Inspired to Ride (2015)', 'Flushed (1999)', 'Spirál (2020)', 'Sergei/Sir Gay (2017)', 'La Traversée (2022)', 'Once Fallen (2010)', 'Alvin Purple (1973)', \"Tinker' (2018)\", 'Heroic Duo (Shuang xiong) (2003)', 'A Lynx in the Town (2019)', 'The Thief Of Baghdad (1961)', 'Beyond The Edge (2013)', 'In Merry Measure (2022)', 'The Mountain Minor (2019)', 'Never Too Late (2020)', 'Kiki, Love to Love (2016)', 'Ladrón que roba a ladrón (2007)', 'Recon 2020:  The Caprini Massacre (2004)', 'Pool Sharks (1915)', 'A State of Mind (2004)', 'Late August, Early September (Fin août, début septembre) (1998)', 'Fathom (2021)', 'Pop World (2005)', 'Brice 3 (2016)', 'Le Secret (1974)', 'Michelangelo Endless (2018)', 'Schwechater (1958)', 'Undefeated (2003)', 'Arabian Nights (1942)', 'Jaffa (2009)', 'Branded (1950)', 'Делай - раз! (1989)', 'Army of the Dead (2008)', 'Three Came Home (1950)', 'The Irishman: In Conversation (2019)', 'See You Next Christmas (2021)', 'Modify (2005) ', 'Sniper, The (2009)', 'Gun Shy (2017)', 'Churuli (2021)', 'Cider and Sunsets (2022)', 'Jinnah (1998)', 'Lycan Colony (2006)', 'Found Memories (2011)', 'Wintergast (2015)', 'Remainder (2015)', 'Love Actually... Sucks! (2011)', 'The Chaos Class Is Fretting Over (1978)', 'Moscow Gold (2003)', 'Mock Up on Mu (2008)', 'Crimes Against Humanity (2014)', 'Murder on the Campus (1933)', 'The AIDS Show (1986)', 'Eisenstein in Guanajuato (2015)', 'Smile Like Yours, A (1997)', 'The Last Relic (1969)', 'Jeffrey Dahmer Files, The (2012)', 'Blonde Ambition (2007)', 'The Good Cop (2004)', 'The Last Scout (2017)', 'Parinda (1989)', 'The Glass Room (2019)', 'Captain Fracasse (1961)', 'Hunting Ava Bravo (2022)', 'Double Door (1934)', 'Grand Paris (2023)', 'Don (1978)', 'Saratov Approach, The (2013)', 'Red, Hot and Blue (1949)', 'Pablo Francisco: Bits and Pieces (2004)', 'Reach for the Sky (1956)', 'Blue Steel (1934)', 'Zero Hour! (1957)', 'Home Sweet Home (2001)', 'The Eyes (2017)', 'Crayon Shin-chan: Mononoke Ninja Chinpūden (2022)', 'Ask Me to Dance (2022)', 'Open 24 Hours (2018)', 'Galore (2013)', 'Anthem (1983)', 'The Wedding Veil Journey (2023)', 'Sitting Bull (1954)', 'Martin Lawrence Live: Runteldat (2002)', 'Aisheen (Still Alive in Gaza) (2010)', 'Just Heroes (1989)', 'Donald Cried (2016)', 'The Eternal Memory (2023)', \"Why Wouldn't We Send... a Messenger? (1998)\", 'Too Handsome To Handle (2019)', 'Pack of Sheep (2022)', 'My First Client (2019)', 'Tag: The Assassination Game (a.k.a. Everybody Gets It in the End) (1982)', 'Deadline (1987)', 'On the Run (1988)', 'Birthday (2019)', 'iSteve (2013)', 'The Death and Life of Otto Bloom (2016)', 'A Man Called Jon (2015)', 'Abuse of Weakness (2013)', 'The Escort (1999)', 'That Day We Sang (2014)', \"Morgan Stewart's Coming Home (1987)\", 'Drown (2022)', 'The Impossible Years (1968)', 'Claire in Motion (2016)', 'Let’s Go Up the Champs-Élysées (1938)', 'Sugar High (2020)', \"Free Willy: Escape From Pirate's Cove (2010)\", 'Eugenie (1970)', 'Yumeji (1991)', 'The Deadman (1989)', 'PLOEY - You Never Fly Alone (2018)', 'Seduction (1973)', 'The Remains (2016)', 'Personal Velocity (2002)', 'The Treasure of the Living Dead (1982)', 'Хэппи-энд (2020)', 'Four Boys and a Gun (1957)', 'Little Lili (La petite Lili) (2003)', 'Womit haben wir das verdient? (2018)', 'After the Screaming Stops (2018)', 'Dark (2016)', 'Dream Lover (1986)', 'Kung Fu Zombie (1981)', 'Blowing Wild (1953)', 'Framed (1990)', \"A Father's Legacy (2021)\", 'Lidice (2011)', 'El doble (2021)', 'For a Fistful of Fries (2022)', 'Voyage to the Planet of Prehistoric Women (1968)', 'The French Detective (1975)', 'This World Alone (2021)', 'IB 71 (2023)', 'Felicity: An American Girl Adventure (2005)', 'In the Shadow of Kilimanjaro (1986)', \"The Knower: Younis's Return (2021)\", 'The Maiden Danced to Death (2011)', 'Bisping (2021)', 'Kudo Shinichi Returns! Showdown with the Black Organization (2007)', 'The Aquanauts (1980)', \"The Legend of Hell's Gate: An American Conspiracy (2011)\", 'Hollywood Cop (1987)', 'Tom Sawyer & Huckleberry Finn (2014)', 'La palabra de Pablo (2017)', 'The Bed-Sitting Room (1969)', 'Christopher Titus: Angry Pursuit of Happiness (2014)', 'The Nutcracker and The Mouseking (2004)', 'Devotion (2003)', 'Le petit poucet (2001)', \"Death's Dealer (1971)\", 'El mégano (1955)', 'Statement, The (2003)', \"She's on Duty (2005)\", 'Green Ice (1981)', 'Julie Darling (1983)', 'Into the Weeds: Dewayne \"Lee\" Johnson vs. Monsanto Company (2022)', '¡Alambrista! (Illegal, The) (1977)', 'Monster Hunt 2 (2018)', 'The Great New Wonderful (2005)', 'I Am That Man (2019)', 'Protest (1999)', 'Excuse My French (2014)', 'The Wedding Veil Inspiration (2023)', 'The Search for Freedom (2015)', \"The Sun's Burial (1960)\", 'The Champion (2019)', 'Talent for the Game (1991)', 'All in (2006)', 'Benedict Arnold: A Question of Honor (2003)', 'Mission Blue (2014)', 'A Family Thanksgiving (2010)', 'Tanks for Stalin (2018)', 'Bliss (1985)', 'A Kitten For Hitler (2007)', 'Tom Sawyer (1973)', 'Skandal. Ewenement Molesty (2020)', 'Mobilize (2015)', 'Black Metal Veins (2012)', 'The Diary of Ellen Rimbauer (2003)', 'Thrilla in Manila (2008)', 'Scrapbook (2000)', 'Endgame (2009)', 'Hokusai (2021)', 'Crossing Borders (2006)', 'Cross Purposes (2021)', 'Fidanzati, I (Fiances, The) (1963)', 'Idiot (2002)', 'Lady on a Train (1945)', 'Curling (2010)', 'Münchhausen (1943)', 'Half a Loaf of Kung Fu (Dian zhi gong fu gan chian chan) (1980)', 'Dying is Easy (2021)', 'Cruise of the Gods (2002)', 'Once in a Lifetime (2000)', 'The Coolangatta Gold (1984)', 'Four Murders Are Enough, Darling (1971)', 'Taco Shop', \"Her Husband's Betrayal (2013)\", 'Pimp (2018)', 'Half Magic (2018)', 'The Soul-Mate (2018)', 'Kink Crusaders (2011)', '1 Message (2011)', 'T.V. of Tomorrow (1953)', 'Trio (1997)', '976-EVIL II (1992)', 'Horrors of Spider Island (1960)', 'John Leguizamo: Ghetto Klown (2014)', 'Ayúdame a vivir (1936)', 'Days of Eclipse (1988)', 'Afternoon (2007)', 'Silent Heart (2014)', 'Mega Scorpions (2003)', 'The Sinful Dwarf (1973)', 'I Like It Like That (1994)', 'Homerun (2003)', 'Les Complices (2023)', 'Onyx - Kings of the Grail (2018)', 'Suburban Swingers Club (2019)', 'Picture Snatcher (1933)', 'The Water Babies (1978)', 'Goodbye, Someday (2010)', 'Two-Minute Warning (1976)', 'A Night at the Opera (2020)', 'Platinum Data (2013)', 'Doppelganger (Dopperugengâ) (2003)', \"The Devil's Share (2018)\", 'Songbird (2018)', 'Lovey-Dovey 3 (2011)', 'A Pink Christmas (1978)', 'The Gong Show Movie (1980)', 'Jekyll (2007)', 'The Unseen (1980)', 'Sunset (2018)', 'The Brides of Fu Manchu (1966)', 'Le Président (1961)', 'Empire V', 'The Days to Come (2019)', \"Snoopy's Getting Married, Charlie Brown (1985)\", 'White Epilepsy (2012)', 'Dear John (1964)', 'Last of the Mohicans, The (1920)', 'Rescued by Rover (1905)', 'Out & Around (2015)', 'Free Soul, A (1931)', 'The Challenge (2003)', 'War Made Easy: How Presidents & Pundits Keep Spinning Us to Death (2007)', 'Head of the Family (1996)', 'Natural Enemies (1979)', 'The Heart of the Beast (2005)', 'Valley of the Lanterns (2018)', 'Intuition (2020)', 'Luxor (2020)', 'Expecting Amish (2014)', \"Elle l'adore (2014)\", 'No Way to Treat a Lady (1968)', 'Hum Saath Saath Hain (1999)', 'Suicides (2012)', 'A Mom for Christmas (1990)', \"Where Butterflies Don't Fly (2022)\", \"A Grocery Clerk's Romance (1912)\", 'The Way of Peace (1947)', \"Imagine I'm Beautiful (2014)\", 'FrackNation (2013)', 'Off the Black (2006)', 'LEGO Jurassic World: Indominus Escape (2016)', \"Ghislain Lambert's Bicycle (2001)\", 'Confetti Harvest (2014)', 'Zombie Ass: Toilet of the Dead (2011)', \"Doomed: The Untold Story of Roger Corman's the Fantastic Four (2015)\", \"Dante's Inferno (1967)\", 'Ashens and the Polybius Heist (2020)', 'Paulie Go! (2022)', 'The Sealed Room (1909)', 'Eloise at Christmastime (2003)', 'Entente Cordiale (2006)', 'Beyond the Time Barrier (1960)', 'The Duel (2000)', 'Urbania (2000)', 'I... Dreaming (1988)', 'Sanders of the River (1935)', \"Nation's Pride (2009)\", 'Ban the Sadist Videos! (2005)', 'Jeff Dunham: Beside Himself (2019)', 'Le Môme (1986)', 'The Confrontation (1969)', 'The Evil Spirit of Yambuy (1977)', 'Aquarelle (1958)', 'Die Sister, Die! (1978)', 'Tad Jones and the Secret of King Midas (2017)', \"No One's Son (2008)\", 'General Luna (2015)', '20 Centimeters (2005)', 'The Seahorse (1934)', 'Kumbha Mela (1989)', 'Encounters (2020)', 'Notes Towards an African Orestes (1970)', 'King Lear (Korol Lir) (1971)', 'Knuckleball (2018)', \"Dennis Rodman's Big Bang in PyongYang (2015)\", 'A Piece of My Heart (2019)', '009-1: The End of the Beginning (2013)', 'Rob Schneider: Soy Sauce and the Holocaust (2013)', 'Mates (2023)', \"A Nun's Curse (2019)\", 'End of a Gun (2016)', \"Didn't Do It For Love (1998)\", 'Half Sister, Full Love (2016)', 'Marco the Magnificent (1965)', 'Requiem For The Big East (2014)', 'The Cave (2019)', 'Late Night Shopping (2001)', 'The Olsen Gang Outta Sight (1977)', 'Ingagi (1930)', 'The Shell Shocked Egg (1948)', 'Spaceways (1953)', 'Treasure Of Ruby Hills (1955)', 'The Sea Chase (1955)', 'Josh Blue: The Disabled List', 'Peace on Earth (1939)', 'Moving Illustrations of Machines (2000)', 'Chateau De Sable (2015)', 'Awfully Big Adventure, An (1995)', 'Short Eyes (1977)', 'Step Lively (1944)', 'Colosio (2012)', 'Shake! Otis at Monterey (1987)', 'Diggers (2016)', 'Healed by Grace (2012)', 'Space Chimps 2: Zartog Strikes Back (2010)', 'Going South (2009)', 'Modalità aereo (2019)', 'Sbamm! (1980)', 'La nonna Sabella (1957)', 'Masterminds (1997)', 'C.I.A. Secret Story (1975)', 'Prisoner X (2016)', 'Anemic Cinema (1926)', 'The Wedding Day (2021)', 'The Black Panthers: Vanguard of the Revolution (2015)'}\n",
      "4100\n"
     ]
    }
   ],
   "source": [
    "# Step 1: Identify movies not in the training set\n",
    "movies_not_train = list(set(new_data['movieId']) - set(item_id_train))\n",
    "\n",
    "# Step 2: Retrieve the names of these movies\n",
    "movies_not_train_names = set(new_data.loc[new_data['movieId'].isin(movies_not_train), 'title'])\n",
    "\n",
    "# Step 3: Print the movie names\n",
    "print(movies_not_train_names)\n",
    "print(len(movies_not_train_names))\n"
   ]
  },
  {
   "cell_type": "markdown",
   "metadata": {
    "id": "Vmx1YZmTUUGG"
   },
   "source": [
    "We see that a few movies are not rated in the train set. For those movies, it is hard to predict their ratings accurately."
   ]
  },
  {
   "cell_type": "markdown",
   "metadata": {
    "id": "Rlhi4ocr4iOD"
   },
   "source": [
    "---\n",
    "## Data Load and Batching"
   ]
  },
  {
   "cell_type": "markdown",
   "metadata": {
    "id": "3JEV5wxk5h0t"
   },
   "source": [
    "Use GPU if available."
   ]
  },
  {
   "cell_type": "code",
   "execution_count": 42,
   "metadata": {
    "id": "fU4OIArA5iyb"
   },
   "outputs": [],
   "source": [
    "import torch\n",
    "device = torch.device(\"cuda:0\" if torch.cuda.is_available() else \"cpu\")"
   ]
  },
  {
   "cell_type": "markdown",
   "metadata": {
    "id": "za-dIdY45tpa"
   },
   "source": [
    "We define a function to return a triplet of user_num, item_num, rating from the dataframe."
   ]
  },
  {
   "cell_type": "code",
   "execution_count": 43,
   "metadata": {
    "id": "rTH6WwwRHIkr"
   },
   "outputs": [],
   "source": [
    "\n",
    "def df_2_tensor(df, device):\n",
    "    # Ensure correct column names are used\n",
    "    user_num = np.asarray(df['user_num'])\n",
    "    movie_num = np.asarray(df['movie_num'])\n",
    "    rating = np.asarray(df['rating'])\n",
    "\n",
    "    # Convert to PyTorch tensors and move to the specified device\n",
    "    return (\n",
    "        torch.from_numpy(user_num).to(device),\n",
    "        torch.from_numpy(movie_num).to(device),\n",
    "        torch.from_numpy(rating).to(device)\n",
    "    )\n"
   ]
  },
  {
   "cell_type": "markdown",
   "metadata": {
    "id": "-v3Bjgyt5VjV"
   },
   "source": [
    "Below, we construct 3 tensors containing the `user_num`, `item_num` and `rating` for the training set. All tensors have the same shape so that `train_user_num[i]` watched `train_item_num[i]` and gave a rating of `train_rating[i]`."
   ]
  },
  {
   "cell_type": "code",
   "execution_count": 44,
   "metadata": {
    "id": "XPRBxFWX5Uwy"
   },
   "outputs": [],
   "source": [
    "train_user_num, train_item_num, train_rating = df_2_tensor(ratings_train,device)"
   ]
  },
  {
   "cell_type": "markdown",
   "metadata": {
    "id": "uJwGxZFH5emq"
   },
   "source": [
    "We now do the same thing for the validation and test sets."
   ]
  },
  {
   "cell_type": "code",
   "execution_count": 45,
   "metadata": {
    "id": "UWMHCQ0V5ZSt"
   },
   "outputs": [],
   "source": [
    "val_user_num, val_item_num, val_rating = df_2_tensor(ratings_val,device)\n",
    "test_user_num, test_item_num, test_rating = df_2_tensor(ratings_test,device)"
   ]
  },
  {
   "cell_type": "markdown",
   "metadata": {
    "id": "LgoPPq9c5A7K"
   },
   "source": [
    "Now we need to construct a dataset and a dataloader. For this, we can define a first function taking as arguments the tensors defined above and returning a list (Hint: use the [zip function](https://www.w3schools.com/python/ref_func_zip.asp)); then a second function taking as argument a dataset, the batchsize and a boolean for the shuffling."
   ]
  },
  {
   "cell_type": "markdown",
   "metadata": {
    "id": "FuM5hsyldlfe"
   },
   "source": [
    "**Exercise**: Filling in the missing code below to construct dataset and dataloader."
   ]
  },
  {
   "cell_type": "code",
   "execution_count": 46,
   "metadata": {
    "id": "fYYeRdVe5ALx"
   },
   "outputs": [],
   "source": [
    "def tensor_2_dataset(user,item,rating):\n",
    "\n",
    "    # Hint: check the zip function\n",
    "    return list(zip(user,item,rating))\n",
    "\n",
    "def make_dataloader(dataset,bs,shuffle):\n",
    "\n",
    "    return torch.utils.data.DataLoader(dataset,batch_size=bs,shuffle=shuffle)"
   ]
  },
  {
   "cell_type": "code",
   "execution_count": 47,
   "metadata": {
    "id": "AU-xgyto5Gyh"
   },
   "outputs": [],
   "source": [
    "train_dataset = tensor_2_dataset(train_user_num,train_item_num, train_rating)\n",
    "val_dataset = tensor_2_dataset(val_user_num,val_item_num,val_rating)\n",
    "test_dataset = tensor_2_dataset(test_user_num, test_item_num, test_rating)"
   ]
  },
  {
   "cell_type": "markdown",
   "metadata": {
    "id": "610dw-Uo5dIn"
   },
   "source": [
    "Load the train, validation, and test data in batchs of size 1024."
   ]
  },
  {
   "cell_type": "code",
   "execution_count": 48,
   "metadata": {
    "id": "GJQOXjWX5ODw"
   },
   "outputs": [],
   "source": [
    "train_dataloader = make_dataloader(train_dataset,1024,True)\n",
    "val_dataloader = make_dataloader(val_dataset,1024, False)\n",
    "test_dataloader = make_dataloader(test_dataset,1024,False)"
   ]
  },
  {
   "cell_type": "markdown",
   "metadata": {
    "id": "Q7JF-d05UUGc"
   },
   "source": [
    "---\n",
    "## The model\n",
    "\n"
   ]
  },
  {
   "cell_type": "code",
   "execution_count": 49,
   "metadata": {
    "id": "tsrfFi1QUUGd"
   },
   "outputs": [],
   "source": [
    "import torch.nn as nn\n",
    "import torch.nn.functional as F\n",
    "import torch.optim as optim"
   ]
  },
  {
   "cell_type": "markdown",
   "metadata": {
    "id": "HpkKu7PVUUGp"
   },
   "source": [
    "We will use some custom embeddings defined as below."
   ]
  },
  {
   "cell_type": "code",
   "execution_count": 50,
   "metadata": {
    "id": "eB6_y1nMUUGq"
   },
   "outputs": [],
   "source": [
    "class ScaledEmbedding(nn.Embedding):\n",
    "    \"\"\"\n",
    "    Embedding layer that initialises its values\n",
    "    to using a normal variable scaled by the inverse\n",
    "    of the embedding dimension.\n",
    "    \"\"\"\n",
    "    def reset_parameters(self):\n",
    "        \"\"\"\n",
    "        Initialize parameters.\n",
    "        \"\"\"\n",
    "\n",
    "        self.weight.data.normal_(0, 1.0 / self.embedding_dim)\n",
    "        if self.padding_idx is not None:\n",
    "            self.weight.data[self.padding_idx].fill_(0.0)\n",
    "\n",
    "\n",
    "class ZeroEmbedding(nn.Embedding):\n",
    "    \"\"\"\n",
    "    Used for biases.\n",
    "    \"\"\"\n",
    "\n",
    "    def reset_parameters(self):\n",
    "        \"\"\"\n",
    "        Initialize parameters.\n",
    "        \"\"\"\n",
    "\n",
    "        self.weight.data.zero_()\n",
    "        if self.padding_idx is not None:\n",
    "            self.weight.data[self.padding_idx].fill_(0.0)"
   ]
  },
  {
   "cell_type": "markdown",
   "metadata": {
    "id": "cZdXB0ieIv2J"
   },
   "source": [
    "### Creating Our Own Embedding Module\n",
    "\n",
    "Now, we define the `Model_dot`(class to represents users and items. It's composed of a 4 `embedding` layers:\n",
    "\n",
    "- a `(num_users x latent_dim)` embedding layer to represent users,\n",
    "- a `(num_items x latent_dim)` embedding layer to represent items,\n",
    "- a `(num_users x 1)` embedding layer to represent user biases, and\n",
    "- a `(num_items x 1)` embedding layer to represent item biases.\n",
    "\n",
    "\n",
    "\n",
    "\n",
    "\n"
   ]
  },
  {
   "cell_type": "code",
   "execution_count": 51,
   "metadata": {
    "id": "ktXRW3-4UUGt"
   },
   "outputs": [],
   "source": [
    "class DotModel(nn.Module):\n",
    "\n",
    "    def __init__(self,\n",
    "                 num_users,\n",
    "                 num_items,\n",
    "                 embedding_dim=32):\n",
    "\n",
    "        super(DotModel, self).__init__()\n",
    "\n",
    "        self.embedding_dim = embedding_dim\n",
    "\n",
    "        # generate user and item embeddigns using ScaledEmbedding\n",
    "\n",
    "        self.user_embeddings = ScaledEmbedding(num_users, embedding_dim)\n",
    "        self.item_embeddings = ScaledEmbedding(num_items, embedding_dim)\n",
    "\n",
    "        # generate bias embeddigns using ZeroEmbedding\n",
    "\n",
    "        self.user_biases = ZeroEmbedding(num_users, 1)\n",
    "        self.item_biases = ZeroEmbedding(num_items, 1)\n",
    "\n",
    "\n",
    "    def forward(self, user_ids, item_ids):\n",
    "\n",
    "        #\n",
    "        user_embedding = self.user_embeddings(user_ids)\n",
    "        item_embedding = self.item_embeddings(item_ids)\n",
    "\n",
    "        user_bias = self.user_biases(user_ids).squeeze()\n",
    "        item_bias = self.item_biases(item_ids).squeeze()\n",
    "\n",
    "        dot = torch.mul(user_embedding, item_embedding).sum(1)\n",
    "        res = dot + user_bias + item_bias\n",
    "\n",
    "        return res"
   ]
  },
  {
   "cell_type": "markdown",
   "metadata": {
    "id": "kAX6B4mRwhzQ"
   },
   "source": [
    "Note that in the above code, we use [`torch.mul`](https://pytorch.org/docs/stable/generated/torch.mul.html), which performs an elementwise multiplication with broadcasting."
   ]
  },
  {
   "cell_type": "code",
   "execution_count": 52,
   "metadata": {
    "id": "PlbbwU1ze5d7"
   },
   "outputs": [],
   "source": [
    "net = DotModel(total_user_id,total_item_id).to(device)"
   ]
  },
  {
   "cell_type": "code",
   "execution_count": 53,
   "metadata": {
    "colab": {
     "base_uri": "https://localhost:8080/"
    },
    "id": "Qr2Dwbgz8D7C",
    "outputId": "c3dd415c-0a5d-4253-cf93-b87205c55199"
   },
   "outputs": [
    {
     "data": {
      "text/plain": [
       "DotModel(\n",
       "  (user_embeddings): ScaledEmbedding(14301, 32)\n",
       "  (item_embeddings): ScaledEmbedding(51858, 32)\n",
       "  (user_biases): ZeroEmbedding(14301, 1)\n",
       "  (item_biases): ZeroEmbedding(51858, 1)\n",
       ")"
      ]
     },
     "execution_count": 53,
     "metadata": {},
     "output_type": "execute_result"
    }
   ],
   "source": [
    "net"
   ]
  },
  {
   "cell_type": "markdown",
   "metadata": {
    "id": "ysX9Q9pxiMG4"
   },
   "source": [
    "Now we check our network by taking  a batch from train loader."
   ]
  },
  {
   "cell_type": "code",
   "execution_count": 54,
   "metadata": {
    "id": "RLdCbCnzB2S-"
   },
   "outputs": [],
   "source": [
    "batch_user, batch_item, batch_rating = next(iter(train_dataloader))\n",
    "batch_user, batch_item, batch_rating = batch_user.to(device), batch_item.to(device), batch_rating.to(device)"
   ]
  },
  {
   "cell_type": "code",
   "execution_count": 55,
   "metadata": {
    "colab": {
     "base_uri": "https://localhost:8080/"
    },
    "id": "I20UhBLZjBEs",
    "outputId": "3799b65d-a99b-442a-c1a7-d4108b252239"
   },
   "outputs": [
    {
     "data": {
      "text/plain": [
       "torch.Size([1024])"
      ]
     },
     "execution_count": 55,
     "metadata": {},
     "output_type": "execute_result"
    }
   ],
   "source": [
    "predictions = net(batch_user, batch_item)\n",
    "predictions.shape"
   ]
  },
  {
   "cell_type": "markdown",
   "metadata": {
    "id": "Dnmsgb3SJc_M"
   },
   "source": [
    "We will use MSE loss defined below:"
   ]
  },
  {
   "cell_type": "code",
   "execution_count": 56,
   "metadata": {
    "id": "TXXAisyw8L7i"
   },
   "outputs": [],
   "source": [
    "def regression_loss(predicted_ratings, observed_ratings):\n",
    "    return ((observed_ratings - predicted_ratings) ** 2).mean()"
   ]
  },
  {
   "cell_type": "code",
   "execution_count": 57,
   "metadata": {
    "id": "l38_kUO38Qn7"
   },
   "outputs": [],
   "source": [
    "loss=regression_loss(predictions,batch_rating)"
   ]
  },
  {
   "cell_type": "code",
   "execution_count": 58,
   "metadata": {
    "colab": {
     "base_uri": "https://localhost:8080/"
    },
    "id": "FZ3T-Ucv8yUK",
    "outputId": "9664d83d-097b-4f60-fa72-f7624d99a578"
   },
   "outputs": [
    {
     "data": {
      "text/plain": [
       "tensor(13.2499, dtype=torch.float64, grad_fn=<MeanBackward0>)"
      ]
     },
     "execution_count": 58,
     "metadata": {},
     "output_type": "execute_result"
    }
   ],
   "source": [
    "loss"
   ]
  },
  {
   "cell_type": "markdown",
   "metadata": {
    "id": "aMYwouCb884T"
   },
   "source": [
    "## Train and test the model"
   ]
  },
  {
   "cell_type": "markdown",
   "metadata": {
    "id": "mhJebD7X9v6Z"
   },
   "source": [
    "Now we define `FactorizationModel` class  that allows us to train and evaluate the explicit factorization models.\n"
   ]
  },
  {
   "cell_type": "markdown",
   "metadata": {
    "id": "wz1h-gG-V1DX"
   },
   "source": [
    "- The `fit` function should take as argument a dataloader for the training and a dataloader for the validation. At the end of each epoch, you run the test method on the validation set. Then you print both the loss on the training set and on the validation set to see if you are overfitting.\n",
    "\n",
    "- Weight decay, or *L2 regularization*, consists in adding to your loss function the sum of all the weights squared. Why do that? Because when we compute the gradients, it will add a contribution to them that will encourage the weights to be as small as possible."
   ]
  },
  {
   "cell_type": "code",
   "execution_count": 59,
   "metadata": {
    "id": "2ekPPr7SUUG7"
   },
   "outputs": [],
   "source": [
    "from codecarbon import EmissionsTracker  # Importa el tracker de CodeCarbon\n",
    "\n",
    "class FactorizationModel(object):\n",
    "\n",
    "    def __init__(self, embedding_dim=32, n_iter=10, l2=0.0,\n",
    "                 learning_rate=1e-2, device=device, net=None, num_users=None,\n",
    "                 num_items=None, random_state=None):\n",
    "\n",
    "        self._embedding_dim = embedding_dim\n",
    "        self._n_iter = n_iter\n",
    "        self._learning_rate = learning_rate\n",
    "        self._l2 = l2\n",
    "        self._device = device\n",
    "        self._num_users = num_users\n",
    "        self._num_items = num_items\n",
    "        self._net = net\n",
    "        self._optimizer = None\n",
    "        self._loss_func = None\n",
    "        self._random_state = random_state or np.random.RandomState()\n",
    "\n",
    "    def _initialize(self):\n",
    "        if self._net is None:\n",
    "            self._net = DotModel(self._num_users, self._num_items, self._embedding_dim).to(self._device)\n",
    "\n",
    "        self._optimizer = optim.Adam(\n",
    "            self._net.parameters(),\n",
    "            lr=self._learning_rate,\n",
    "            weight_decay=self._l2  # Aquí configuramos el decaimiento de peso para agregar la regularización L2\n",
    "        )\n",
    "\n",
    "        self._loss_func = regression_loss\n",
    "\n",
    "    @property\n",
    "    def _initialized(self):\n",
    "        return self._optimizer is not None\n",
    "\n",
    "    def fit(self, dataloader, val_dataloader, verbose=True):\n",
    "        if not self._initialized:\n",
    "            self._initialize()\n",
    "\n",
    "        valid_loss_min = np.Inf  # Seguimiento del cambio en la pérdida de validación\n",
    "        train_losses, valid_losses, valid_maes = [], [], []\n",
    "\n",
    "        # Inicia el tracker de CodeCarbon\n",
    "        tracker = EmissionsTracker()\n",
    "        tracker.start()\n",
    "\n",
    "        for epoch_num in range(self._n_iter):\n",
    "            tot_train_loss = 0.0\n",
    "            ###################\n",
    "            # Entrenar el modelo #\n",
    "            ###################\n",
    "            # Bucle de entrenamiento:\n",
    "            self._net.train()\n",
    "            for batch_user, batch_item, batch_rating in dataloader:\n",
    "                batch_user = batch_user.to(device)\n",
    "                batch_item = batch_item.to(device)\n",
    "                batch_rating = batch_rating.to(device)\n",
    "\n",
    "                # 1. Calcular la salida\n",
    "                predictions = self._net(batch_user, batch_item)\n",
    "                # 2. Calcular la pérdida\n",
    "                loss = self._loss_func(predictions, batch_rating)\n",
    "                # 3. Reiniciar los gradientes\n",
    "                self._optimizer.zero_grad()\n",
    "                # 4. Retropropagación, calcular los nuevos gradientes\n",
    "                loss.backward()\n",
    "                # 5. Actualizar los pesos\n",
    "                self._optimizer.step()\n",
    "\n",
    "                tot_train_loss += loss.item()\n",
    "\n",
    "            train_loss = tot_train_loss / len(dataloader)\n",
    "            # Ir al bucle de validación\n",
    "            valid_loss, valid_mae = self.test(val_dataloader)\n",
    "            train_losses.append(train_loss)\n",
    "            valid_losses.append(valid_loss)\n",
    "            valid_maes.append(valid_mae)\n",
    "\n",
    "            if verbose:\n",
    "                print('Epoch {}: loss_train {}, loss_val {}'.format(epoch_num, train_loss, valid_loss))\n",
    "\n",
    "            if np.isnan(train_loss) or train_loss == 0.0:\n",
    "                raise ValueError('Degenerate train loss: {}'.format(train_loss))\n",
    "\n",
    "            # Guardar el modelo si la pérdida de validación ha disminuido\n",
    "            if valid_loss <= valid_loss_min:\n",
    "                print('Validation loss decreased ({:.6f} --> {:.6f}).  Saving model ...'.format(valid_loss_min, valid_loss))\n",
    "                torch.save(self._net.state_dict(), 'model_cf.pt')\n",
    "                valid_loss_min = valid_loss\n",
    "\n",
    "        # Detén el tracker de CodeCarbon\n",
    "        emissions = tracker.stop()\n",
    "        print(f\"Emisiones de CO₂ durante el entrenamiento: {emissions} kg\")\n",
    "\n",
    "        return train_losses, valid_losses, valid_maes\n",
    "\n",
    "    ######################\n",
    "    # Validar/Probar el modelo #\n",
    "    ######################\n",
    "    def test(self, dataloader, verbose=False):\n",
    "        self._net.eval()\n",
    "        L1loss = torch.nn.L1Loss()\n",
    "        tot_test_loss = 0.0\n",
    "        tot_test_mae = 0.0\n",
    "\n",
    "        # Bucle de validación/prueba\n",
    "        with torch.no_grad():\n",
    "            for batch_user, batch_item, batch_rating in dataloader:\n",
    "                # 1. Calcular la salida\n",
    "                predictions = self._net(batch_user, batch_item)\n",
    "                # 2. Calcular la pérdida\n",
    "                loss = self._loss_func(predictions, batch_rating)\n",
    "\n",
    "                tot_test_loss += loss.item()\n",
    "                tot_test_mae += L1loss(predictions, batch_rating.type(torch.FloatTensor).to(device))\n",
    "\n",
    "        test_loss = tot_test_loss / len(dataloader)\n",
    "        test_mae = tot_test_mae / len(dataloader)\n",
    "        if verbose:\n",
    "            print(f\"RMSE: {np.sqrt(test_loss)}, MAE: {test_mae}\")  # No olvides tomar la raíz cuadrada para calcular RMSE\n",
    "        return test_loss, test_mae"
   ]
  },
  {
   "cell_type": "code",
   "execution_count": 60,
   "metadata": {
    "id": "qGuzPUNrUUG_"
   },
   "outputs": [],
   "source": [
    "model = FactorizationModel(embedding_dim=50,  # latent dimensionality\n",
    "                                   n_iter=30,  # number of epochs of training\n",
    "                                   learning_rate=5e-4,\n",
    "                                   l2=1e-8,  # strength of L2 regularization\n",
    "                                   num_users=total_user_id,\n",
    "                                   num_items=total_item_id)"
   ]
  },
  {
   "cell_type": "code",
   "execution_count": 61,
   "metadata": {
    "colab": {
     "base_uri": "https://localhost:8080/"
    },
    "id": "5-5ylRl6_Lwd",
    "outputId": "5625c366-612c-4735-c4d1-f1da6e036cfd"
   },
   "outputs": [
    {
     "name": "stdout",
     "output_type": "stream",
     "text": [
      "1382798\n",
      "1024\n"
     ]
    }
   ],
   "source": [
    "print(len(train_dataloader.dataset))  # Check dataset size\n",
    "print(train_dataloader.batch_size)   # Check batch size\n"
   ]
  },
  {
   "cell_type": "code",
   "execution_count": null,
   "metadata": {
    "colab": {
     "base_uri": "https://localhost:8080/"
    },
    "id": "2Bd2CIosUUHJ",
    "outputId": "85475984-af2b-4fcf-ad7d-aa7e31ac7c55"
   },
   "outputs": [
    {
     "name": "stderr",
     "output_type": "stream",
     "text": [
      "[codecarbon ERROR @ 12:49:14] Error: Another instance of codecarbon is probably running as we find `C:\\Users\\xpati\\AppData\\Local\\Temp\\.codecarbon.lock`. Turn off the other instance to be able to run this one or use `allow_multiple_runs` or delete the file. Exiting.\n",
      "[codecarbon WARNING @ 12:49:14] Another instance of codecarbon is already running. Exiting.\n"
     ]
    },
    {
     "name": "stdout",
     "output_type": "stream",
     "text": [
      "Epoch 0: loss_train 8.736153982436848, loss_val 2.9174664644009516\n",
      "Validation loss decreased (inf --> 2.917466).  Saving model ...\n",
      "Epoch 1: loss_train 1.9161515076791313, loss_val 1.4370475737456885\n",
      "Validation loss decreased (2.917466 --> 1.437048).  Saving model ...\n"
     ]
    }
   ],
   "source": [
    "train_losses,valid_losses,valid_maes =model.fit(train_dataloader,val_dataloader)"
   ]
  },
  {
   "cell_type": "markdown",
   "metadata": {
    "id": "fLZyF15WgbK7"
   },
   "source": [
    "Let's plot the train losses and test losses over epoches.\n"
   ]
  },
  {
   "cell_type": "code",
   "execution_count": 55,
   "metadata": {
    "id": "07Gns0VXgeB-"
   },
   "outputs": [],
   "source": [
    "%matplotlib inline\n",
    "%config InlineBackend.figure_format = 'retina'\n",
    "\n",
    "import matplotlib.pyplot as plt"
   ]
  },
  {
   "cell_type": "code",
   "execution_count": 56,
   "metadata": {
    "colab": {
     "base_uri": "https://localhost:8080/",
     "height": 448
    },
    "id": "x3CbURaSgg0g",
    "outputId": "907fb001-7109-4117-8414-b4f3da4037cd"
   },
   "outputs": [
    {
     "data": {
      "text/plain": [
       "<matplotlib.legend.Legend at 0x78fc7dae9ad0>"
      ]
     },
     "execution_count": 56,
     "metadata": {},
     "output_type": "execute_result"
    },
    {
     "data": {
      "image/png": "[encoded data removed]",
      "text/plain": [
       "<Figure size 640x480 with 1 Axes>"
      ]
     },
     "metadata": {
      "image/png": {
       "height": 413,
       "width": 561
      }
     },
     "output_type": "display_data"
    }
   ],
   "source": [
    "plt.plot(np.log(train_losses), label='Training loss')\n",
    "plt.plot(np.log(valid_losses), label='Validation loss')\n",
    "plt.legend(frameon=False)"
   ]
  },
  {
   "cell_type": "markdown",
   "metadata": {
    "id": "V65XRKLnpOGQ"
   },
   "source": [
    "We see that around epoch 30, we achieve the lowest validation loss and hence we would stop training at epoch 28."
   ]
  },
  {
   "cell_type": "markdown",
   "metadata": {
    "id": "iTwwARoap0WI"
   },
   "source": [
    "Now, let's compute the RMSE and mean absolute error on the test data."
   ]
  },
  {
   "cell_type": "code",
   "execution_count": 57,
   "metadata": {
    "colab": {
     "base_uri": "https://localhost:8080/"
    },
    "id": "rBen9iYNqBGB",
    "outputId": "c40f432e-b359-43f9-b76d-742307994a12"
   },
   "outputs": [
    {
     "name": "stderr",
     "output_type": "stream",
     "text": [
      "<ipython-input-57-030adbcfeb49>:1: FutureWarning: You are using `torch.load` with `weights_only=False` (the current default value), which uses the default pickle module implicitly. It is possible to construct malicious pickle data which will execute arbitrary code during unpickling (See https://github.com/pytorch/pytorch/blob/main/SECURITY.md#untrusted-models for more details). In a future release, the default value for `weights_only` will be flipped to `True`. This limits the functions that could be executed during unpickling. Arbitrary objects will no longer be allowed to be loaded via this mode unless they are explicitly allowlisted by the user via `torch.serialization.add_safe_globals`. We recommend you start setting `weights_only=True` for any use case where you don't have full control of the loaded file. Please open an issue on GitHub for any issues related to this experimental feature.\n",
      "  model._net.load_state_dict(torch.load('model_cf.pt'))\n"
     ]
    },
    {
     "data": {
      "text/plain": [
       "<All keys matched successfully>"
      ]
     },
     "execution_count": 57,
     "metadata": {},
     "output_type": "execute_result"
    }
   ],
   "source": [
    "model._net.load_state_dict(torch.load('model_cf.pt'))"
   ]
  },
  {
   "cell_type": "code",
   "execution_count": 58,
   "metadata": {
    "colab": {
     "base_uri": "https://localhost:8080/"
    },
    "id": "HKyc7Bg5UUHR",
    "outputId": "e47cd175-bf08-4de0-b4ee-08acd1b15010"
   },
   "outputs": [
    {
     "name": "stdout",
     "output_type": "stream",
     "text": [
      "RMSE: 0.8200748331509072, MAE: 0.5974912047386169\n"
     ]
    }
   ],
   "source": [
    "test_loss, test_mae = model.test(test_dataloader,True)"
   ]
  },
  {
   "cell_type": "markdown",
   "metadata": {
    "id": "lvfRgz14qZSd"
   },
   "source": [
    "We see that our RMSE is around 0.82 and MAE is 0.59.\n",
    "\n",
    "\n",
    "\n"
   ]
  },
  {
   "cell_type": "markdown",
   "metadata": {
    "id": "N3JT3S4X2H_z"
   },
   "source": [
    "Here is comparison between the best benckmarks in [Surprise](https://github.com/NicolasHug/Surprise) and our model after hyperparameters tunning.\n",
    "\n",
    "| [Movielens 1M](https://grouplens.org/datasets/movielens/1m)                                                                             |   RMSE |   MAE |\n",
    "|:----------------------------------------------------------------------------------------------------------------------------------------|-------:|------:|\n",
    "| [SVD++ (cache_ratings=False)](https://surprise.readthedocs.io/en/stable/matrix_factorization.html#surprise.prediction_algorithms.matrix_factorization.SVDpp)  |  0.862 | 0.672 |\n",
    "| [SVD++ (cache_ratings=True)](https://surprise.readthedocs.io/en/stable/matrix_factorization.html#surprise.prediction_algorithms.matrix_factorization.SVDpp)  |  0.862 | 0.672 |\n",
    "| **Ours**|  **0.820** | **0.590** |\n",
    "\n",
    "\n",
    "Our model beats their best ones！"
   ]
  },
  {
   "cell_type": "markdown",
   "metadata": {
    "id": "VK3KgG47V1Di"
   },
   "source": [
    "## Interpreting Biases\n",
    "\n",
    "Now we need to rank the movies according to their bias. For this, we need to recover the biases of the movies, make a list of the pairs `[name of the movie, its bias]` and then sort this list according to the biases.\n",
    "\n"
   ]
  },
  {
   "cell_type": "code",
   "execution_count": 59,
   "metadata": {
    "id": "7KDDTQfxV1Di"
   },
   "outputs": [],
   "source": [
    "# retreive the bias of the movies from your optimized model and store it in the numpy array item_bais_np\n",
    "item_bias_np = model._net.item_biases.weight.data.cpu().numpy()\n",
    "item_bias_np = item_bias_np.squeeze()"
   ]
  },
  {
   "cell_type": "code",
   "execution_count": 60,
   "metadata": {
    "id": "VgHLnzpQyS9B"
   },
   "outputs": [],
   "source": [
    "numitem_2_name = {i: name for name, i in np.asarray(new_data[['title', 'movie_num']])}\n",
    "name_2_numitem = {name: i for name, i in np.asarray(new_data[['title', 'movie_num']])}\n"
   ]
  },
  {
   "cell_type": "code",
   "execution_count": 61,
   "metadata": {
    "id": "ciREXjeuyS9B"
   },
   "outputs": [],
   "source": [
    "list_name_bias = [[name, item_bias_np[name_2_numitem[name]]] for name in list(ratings_train['title'].unique())]\n"
   ]
  },
  {
   "cell_type": "code",
   "execution_count": 62,
   "metadata": {
    "colab": {
     "base_uri": "https://localhost:8080/"
    },
    "id": "oYrDk6LA7alu",
    "outputId": "306034c1-b1a2-40ff-c1bb-bfeddf724c53"
   },
   "outputs": [
    {
     "name": "stdout",
     "output_type": "stream",
     "text": [
      "Top 10 Movies with the Largest Bias:\n",
      "Movie: Whiplash (2013), Bias: 0.63030005\n",
      "Movie: Knives Out (2019), Bias: 0.65089005\n",
      "Movie: Catch Me If You Can (2002), Bias: 0.66954273\n",
      "Movie: Top Gun: Maverick (2022), Bias: 0.68423164\n",
      "Movie: Interstellar (2014), Bias: 0.70398527\n",
      "Movie: Inception (2010), Bias: 0.72152030\n",
      "Movie: Everything Everywhere All at Once (2022), Bias: 0.74918199\n",
      "Movie: Parasite (2019), Bias: 0.76076525\n",
      "Movie: Shawshank Redemption, The (1994), Bias: 0.77175456\n",
      "Movie: Dune (2021), Bias: 0.89615220\n"
     ]
    }
   ],
   "source": [
    "# Sort movies by bias and get top 10\n",
    "list_name_bias.sort(key=lambda x: x[1])  # Sort by bias score\n",
    "top_10_bias_movies = list_name_bias[-10:]  # Get top 10 movies with the largest bias\n",
    "\n",
    "# Print movie names and their bias\n",
    "print(\"Top 10 Movies with the Largest Bias:\")\n",
    "for movie, bias in top_10_bias_movies:\n",
    "    print(f\"Movie: {movie}, Bias: {bias:.8f}\")\n"
   ]
  },
  {
   "cell_type": "code",
   "execution_count": 63,
   "metadata": {
    "colab": {
     "base_uri": "https://localhost:8080/"
    },
    "id": "S2IdI66564Gh",
    "outputId": "388df70c-4b51-4e39-b379-d64e127dea10"
   },
   "outputs": [
    {
     "name": "stdout",
     "output_type": "stream",
     "text": [
      "\n",
      "Top 10 Movies and Their Genres:\n",
      "Movie: Whiplash (2013), Genre: (no genres listed)\n",
      "Movie: Knives Out (2019), Genre: Comedy|Crime|Drama|Mystery|Thriller\n",
      "Movie: Catch Me If You Can (2002), Genre: Crime|Drama\n",
      "Movie: Top Gun: Maverick (2022), Genre: Action|Drama\n",
      "Movie: Interstellar (2014), Genre: Sci-Fi|IMAX\n",
      "Movie: Inception (2010), Genre: Action|Crime|Drama|Mystery|Sci-Fi|Thriller|IMAX\n",
      "Movie: Everything Everywhere All at Once (2022), Genre: Action|Comedy|Sci-Fi\n",
      "Movie: Parasite (2019), Genre: Comedy|Drama\n",
      "Movie: Shawshank Redemption, The (1994), Genre: Crime|Drama\n",
      "Movie: Dune (2021), Genre: Action|Adventure|Drama|Sci-Fi\n"
     ]
    }
   ],
   "source": [
    "# Assuming new_data contains the dataset with title and genres columns\n",
    "top_10_titles = [movie[0] for movie in top_10_bias_movies]  # Extract top 10 movie titles\n",
    "\n",
    "# Find genres for the top 10 movies\n",
    "print(\"\\nTop 10 Movies and Their Genres:\")\n",
    "for title in top_10_titles:\n",
    "    # Search for the movie title in the dataset\n",
    "    genre = new_data[new_data['title'] == title]['genres'].values\n",
    "    if len(genre) > 0:\n",
    "        print(f\"Movie: {title}, Genre: {genre[0]}\")\n",
    "    else:\n",
    "        print(f\"Movie: {title}, Genre: Not Found\")\n"
   ]
  },
  {
   "cell_type": "markdown",
   "metadata": {
    "id": "uoW8tCIL8GAW"
   },
   "source": [
    "**What Does This Mean for Your Recommendation System?**\n",
    "\n",
    "1.Bias Toward Popular Movies:\n",
    "\n",
    "The system seems to favor critically acclaimed, highly rated, and popular movies. This might lead to over-recommendation of these movies, reducing exposure to lesser-known titles.\n",
    "\n",
    "2.Genre Influence:\n",
    "\n",
    "Action, Drama, and Sci-Fi are heavily represented, suggesting that the system might give disproportionate importance to these genres.\n",
    "\n",
    "**Potential Issues:**\n",
    "\n",
    "1.Lack of Diversity:\n",
    "Users who prefer niche genres might not see their interests adequately represented.\n",
    "Recency Bias:\n",
    "Newer movies like Spider-Man: No Way Home and Top Gun: Maverick might be overly favored due to recent activity or popularity.\n",
    "\n",
    "2.Recommendation System Behavior: The system could be overfitting to the preferences of a large, mainstream audience, leading to biased results that may not cater well to unique or minority user preferences.\n"
   ]
  },
  {
   "cell_type": "markdown",
   "metadata": {
    "id": "Z7fPfgNBoFT7"
   },
   "source": [
    "---\n",
    "## Movie valuation\n",
    "\n",
    "The rating data provided the company like Netflix information about the value of a movie that was not available to movie production studios. The collaborative filting algorithm allows Netflix to accurately value the content in a data-driven manner. For example, if Netflix were offered the opportunity to license *Toy Story (1995)*, it would need to provide Disney an initial quote of the license fee. Traditional methods suggest looking at box office returns of *Toy Story* franchise and projecting the potential value of the film.\n",
    "\n",
    "In this following, we will explore a novel approach to determine the valuation of a movie based on the predicted ratings. We make the following simplifying assumpitons (Note that these assumptions can be certainly relaxed with more complicated procedures and data):\n",
    "\n",
    "- **Netflix are focusing on the top 1000 active users and 1000 popular movies (with the most number of observed ratings).** In other words, in the following movie valuation calculation, we just consider the top 1000 activie users and 1000 popular movies, disregarding the rest.\n",
    "\n",
    "- For each user, the total amount of viewing time is proportional to the number of observed ratings. In other words, more active users spend more time on Netflix;\n",
    "\n",
    "- For each given user, the viewing time across different movies follow a [Zipf's law](https://en.wikipedia.org/wiki/Zipf%27s_law), that is\n",
    "\n",
    "  $$\n",
    "    \\text{Viewtime of movie $i$} \\propto \\frac{1}{\\text{rank of } i }\n",
    "  $$\n",
    "\n",
    "  Here the rank of $i$ is determined by sorting the **predicted rating** of movie $i$ by the user in descending order. In other words, the user spend less time on watching movies with lower ratings.\n",
    "\n",
    "- Netflix has a fixed total budget of 1 Billion dollars to license the content;\n",
    "\n",
    "- Netflix estimates the value of a movie based on the expected share of customer viewing time of the movie on its platform:\n",
    "\n",
    "$$\n",
    "\\text{Value of a movie $i$ } = \\frac{\\text{View time of movie $i$ of all users}}{\\text{Total view time of all users} } \\times \\text{Total content license budget}\n",
    "$$"
   ]
  },
  {
   "cell_type": "markdown",
   "metadata": {
    "id": "p7nNaeIJrxKA"
   },
   "source": [
    "\n",
    "### Compute the value of each movie"
   ]
  },
  {
   "cell_type": "code",
   "execution_count": 64,
   "metadata": {
    "id": "z_C67BTjrSDc"
   },
   "outputs": [],
   "source": [
    "# Get indices for top 1000 active users and top 1000 mostly rated movies\n",
    "top1000_user_num = pd.Series(new_data[\"user_num\"].value_counts()[:1000].index, name=\"user_num\")\n",
    "top1000_item_num = pd.Series(new_data[\"movie_num\"].value_counts()[:1000].index, name=\"movie_num\")\n",
    "# Construct dataframes for storing predicted ratings\n",
    "pred_ratings = pd.merge(top1000_user_num, top1000_item_num, how=\"cross\")\n",
    "cartesian_user_num = torch.from_numpy(np.asarray(pred_ratings[\"user_num\"])).to(device)\n",
    "cartesian_item_num = torch.from_numpy(np.asarray(pred_ratings[\"movie_num\"])).to(device)"
   ]
  },
  {
   "cell_type": "code",
   "execution_count": 65,
   "metadata": {
    "colab": {
     "base_uri": "https://localhost:8080/",
     "height": 206
    },
    "id": "6_u71ReKG-_2",
    "outputId": "aa55704b-2fef-4441-caed-92aad73eddf8"
   },
   "outputs": [
    {
     "data": {
      "application/vnd.google.colaboratory.intrinsic+json": {
       "type": "dataframe",
       "variable_name": "pred_ratings"
      },
      "text/html": [
       "\n",
       "  <div id=\"df-f043d4c0-a2ea-4e62-a7b6-b28587d9fc5b\" class=\"colab-df-container\">\n",
       "    <div>\n",
       "<style scoped>\n",
       "    .dataframe tbody tr th:only-of-type {\n",
       "        vertical-align: middle;\n",
       "    }\n",
       "\n",
       "    .dataframe tbody tr th {\n",
       "        vertical-align: top;\n",
       "    }\n",
       "\n",
       "    .dataframe thead th {\n",
       "        text-align: right;\n",
       "    }\n",
       "</style>\n",
       "<table border=\"1\" class=\"dataframe\">\n",
       "  <thead>\n",
       "    <tr style=\"text-align: right;\">\n",
       "      <th></th>\n",
       "      <th>user_num</th>\n",
       "      <th>movie_num</th>\n",
       "    </tr>\n",
       "  </thead>\n",
       "  <tbody>\n",
       "    <tr>\n",
       "      <th>0</th>\n",
       "      <td>978</td>\n",
       "      <td>12859</td>\n",
       "    </tr>\n",
       "    <tr>\n",
       "      <th>1</th>\n",
       "      <td>978</td>\n",
       "      <td>10727</td>\n",
       "    </tr>\n",
       "    <tr>\n",
       "      <th>2</th>\n",
       "      <td>978</td>\n",
       "      <td>2151</td>\n",
       "    </tr>\n",
       "    <tr>\n",
       "      <th>3</th>\n",
       "      <td>978</td>\n",
       "      <td>16894</td>\n",
       "    </tr>\n",
       "    <tr>\n",
       "      <th>4</th>\n",
       "      <td>978</td>\n",
       "      <td>283</td>\n",
       "    </tr>\n",
       "  </tbody>\n",
       "</table>\n",
       "</div>\n",
       "    <div class=\"colab-df-buttons\">\n",
       "\n",
       "  <div class=\"colab-df-container\">\n",
       "    <button class=\"colab-df-convert\" onclick=\"convertToInteractive('df-f043d4c0-a2ea-4e62-a7b6-b28587d9fc5b')\"\n",
       "            title=\"Convert this dataframe to an interactive table.\"\n",
       "            style=\"display:none;\">\n",
       "\n",
       "  <svg xmlns=\"http://www.w3.org/2000/svg\" height=\"24px\" viewBox=\"0 -960 960 960\">\n",
       "    <path d=\"M120-120v-720h720v720H120Zm60-500h600v-160H180v160Zm220 220h160v-160H400v160Zm0 220h160v-160H400v160ZM180-400h160v-160H180v160Zm440 0h160v-160H620v160ZM180-180h160v-160H180v160Zm440 0h160v-160H620v160Z\"/>\n",
       "  </svg>\n",
       "    </button>\n",
       "\n",
       "  <style>\n",
       "    .colab-df-container {\n",
       "      display:flex;\n",
       "      gap: 12px;\n",
       "    }\n",
       "\n",
       "    .colab-df-convert {\n",
       "      background-color: #E8F0FE;\n",
       "      border: none;\n",
       "      border-radius: 50%;\n",
       "      cursor: pointer;\n",
       "      display: none;\n",
       "      fill: #1967D2;\n",
       "      height: 32px;\n",
       "      padding: 0 0 0 0;\n",
       "      width: 32px;\n",
       "    }\n",
       "\n",
       "    .colab-df-convert:hover {\n",
       "      background-color: #E2EBFA;\n",
       "      box-shadow: 0px 1px 2px rgba(60, 64, 67, 0.3), 0px 1px 3px 1px rgba(60, 64, 67, 0.15);\n",
       "      fill: #174EA6;\n",
       "    }\n",
       "\n",
       "    .colab-df-buttons div {\n",
       "      margin-bottom: 4px;\n",
       "    }\n",
       "\n",
       "    [theme=dark] .colab-df-convert {\n",
       "      background-color: #3B4455;\n",
       "      fill: #D2E3FC;\n",
       "    }\n",
       "\n",
       "    [theme=dark] .colab-df-convert:hover {\n",
       "      background-color: #434B5C;\n",
       "      box-shadow: 0px 1px 3px 1px rgba(0, 0, 0, 0.15);\n",
       "      filter: drop-shadow(0px 1px 2px rgba(0, 0, 0, 0.3));\n",
       "      fill: #FFFFFF;\n",
       "    }\n",
       "  </style>\n",
       "\n",
       "    <script>\n",
       "      const buttonEl =\n",
       "        document.querySelector('#df-f043d4c0-a2ea-4e62-a7b6-b28587d9fc5b button.colab-df-convert');\n",
       "      buttonEl.style.display =\n",
       "        google.colab.kernel.accessAllowed ? 'block' : 'none';\n",
       "\n",
       "      async function convertToInteractive(key) {\n",
       "        const element = document.querySelector('#df-f043d4c0-a2ea-4e62-a7b6-b28587d9fc5b');\n",
       "        const dataTable =\n",
       "          await google.colab.kernel.invokeFunction('convertToInteractive',\n",
       "                                                    [key], {});\n",
       "        if (!dataTable) return;\n",
       "\n",
       "        const docLinkHtml = 'Like what you see? Visit the ' +\n",
       "          '<a target=\"_blank\" href=https://colab.research.google.com/notebooks/data_table.ipynb>data table notebook</a>'\n",
       "          + ' to learn more about interactive tables.';\n",
       "        element.innerHTML = '';\n",
       "        dataTable['output_type'] = 'display_data';\n",
       "        await google.colab.output.renderOutput(dataTable, element);\n",
       "        const docLink = document.createElement('div');\n",
       "        docLink.innerHTML = docLinkHtml;\n",
       "        element.appendChild(docLink);\n",
       "      }\n",
       "    </script>\n",
       "  </div>\n",
       "\n",
       "\n",
       "<div id=\"df-50a2bb88-9469-4220-8569-f35265a112b6\">\n",
       "  <button class=\"colab-df-quickchart\" onclick=\"quickchart('df-50a2bb88-9469-4220-8569-f35265a112b6')\"\n",
       "            title=\"Suggest charts\"\n",
       "            style=\"display:none;\">\n",
       "\n",
       "<svg xmlns=\"http://www.w3.org/2000/svg\" height=\"24px\"viewBox=\"0 0 24 24\"\n",
       "     width=\"24px\">\n",
       "    <g>\n",
       "        <path d=\"M19 3H5c-1.1 0-2 .9-2 2v14c0 1.1.9 2 2 2h14c1.1 0 2-.9 2-2V5c0-1.1-.9-2-2-2zM9 17H7v-7h2v7zm4 0h-2V7h2v10zm4 0h-2v-4h2v4z\"/>\n",
       "    </g>\n",
       "</svg>\n",
       "  </button>\n",
       "\n",
       "<style>\n",
       "  .colab-df-quickchart {\n",
       "      --bg-color: #E8F0FE;\n",
       "      --fill-color: #1967D2;\n",
       "      --hover-bg-color: #E2EBFA;\n",
       "      --hover-fill-color: #174EA6;\n",
       "      --disabled-fill-color: #AAA;\n",
       "      --disabled-bg-color: #DDD;\n",
       "  }\n",
       "\n",
       "  [theme=dark] .colab-df-quickchart {\n",
       "      --bg-color: #3B4455;\n",
       "      --fill-color: #D2E3FC;\n",
       "      --hover-bg-color: #434B5C;\n",
       "      --hover-fill-color: #FFFFFF;\n",
       "      --disabled-bg-color: #3B4455;\n",
       "      --disabled-fill-color: #666;\n",
       "  }\n",
       "\n",
       "  .colab-df-quickchart {\n",
       "    background-color: var(--bg-color);\n",
       "    border: none;\n",
       "    border-radius: 50%;\n",
       "    cursor: pointer;\n",
       "    display: none;\n",
       "    fill: var(--fill-color);\n",
       "    height: 32px;\n",
       "    padding: 0;\n",
       "    width: 32px;\n",
       "  }\n",
       "\n",
       "  .colab-df-quickchart:hover {\n",
       "    background-color: var(--hover-bg-color);\n",
       "    box-shadow: 0 1px 2px rgba(60, 64, 67, 0.3), 0 1px 3px 1px rgba(60, 64, 67, 0.15);\n",
       "    fill: var(--button-hover-fill-color);\n",
       "  }\n",
       "\n",
       "  .colab-df-quickchart-complete:disabled,\n",
       "  .colab-df-quickchart-complete:disabled:hover {\n",
       "    background-color: var(--disabled-bg-color);\n",
       "    fill: var(--disabled-fill-color);\n",
       "    box-shadow: none;\n",
       "  }\n",
       "\n",
       "  .colab-df-spinner {\n",
       "    border: 2px solid var(--fill-color);\n",
       "    border-color: transparent;\n",
       "    border-bottom-color: var(--fill-color);\n",
       "    animation:\n",
       "      spin 1s steps(1) infinite;\n",
       "  }\n",
       "\n",
       "  @keyframes spin {\n",
       "    0% {\n",
       "      border-color: transparent;\n",
       "      border-bottom-color: var(--fill-color);\n",
       "      border-left-color: var(--fill-color);\n",
       "    }\n",
       "    20% {\n",
       "      border-color: transparent;\n",
       "      border-left-color: var(--fill-color);\n",
       "      border-top-color: var(--fill-color);\n",
       "    }\n",
       "    30% {\n",
       "      border-color: transparent;\n",
       "      border-left-color: var(--fill-color);\n",
       "      border-top-color: var(--fill-color);\n",
       "      border-right-color: var(--fill-color);\n",
       "    }\n",
       "    40% {\n",
       "      border-color: transparent;\n",
       "      border-right-color: var(--fill-color);\n",
       "      border-top-color: var(--fill-color);\n",
       "    }\n",
       "    60% {\n",
       "      border-color: transparent;\n",
       "      border-right-color: var(--fill-color);\n",
       "    }\n",
       "    80% {\n",
       "      border-color: transparent;\n",
       "      border-right-color: var(--fill-color);\n",
       "      border-bottom-color: var(--fill-color);\n",
       "    }\n",
       "    90% {\n",
       "      border-color: transparent;\n",
       "      border-bottom-color: var(--fill-color);\n",
       "    }\n",
       "  }\n",
       "</style>\n",
       "\n",
       "  <script>\n",
       "    async function quickchart(key) {\n",
       "      const quickchartButtonEl =\n",
       "        document.querySelector('#' + key + ' button');\n",
       "      quickchartButtonEl.disabled = true;  // To prevent multiple clicks.\n",
       "      quickchartButtonEl.classList.add('colab-df-spinner');\n",
       "      try {\n",
       "        const charts = await google.colab.kernel.invokeFunction(\n",
       "            'suggestCharts', [key], {});\n",
       "      } catch (error) {\n",
       "        console.error('Error during call to suggestCharts:', error);\n",
       "      }\n",
       "      quickchartButtonEl.classList.remove('colab-df-spinner');\n",
       "      quickchartButtonEl.classList.add('colab-df-quickchart-complete');\n",
       "    }\n",
       "    (() => {\n",
       "      let quickchartButtonEl =\n",
       "        document.querySelector('#df-50a2bb88-9469-4220-8569-f35265a112b6 button');\n",
       "      quickchartButtonEl.style.display =\n",
       "        google.colab.kernel.accessAllowed ? 'block' : 'none';\n",
       "    })();\n",
       "  </script>\n",
       "</div>\n",
       "\n",
       "    </div>\n",
       "  </div>\n"
      ],
      "text/plain": [
       "   user_num  movie_num\n",
       "0       978      12859\n",
       "1       978      10727\n",
       "2       978       2151\n",
       "3       978      16894\n",
       "4       978        283"
      ]
     },
     "execution_count": 65,
     "metadata": {},
     "output_type": "execute_result"
    }
   ],
   "source": [
    "pred_ratings.head()"
   ]
  },
  {
   "cell_type": "code",
   "execution_count": 66,
   "metadata": {
    "colab": {
     "base_uri": "https://localhost:8080/"
    },
    "id": "6Iga7-hsbB28",
    "outputId": "f9e0eb98-c463-46b8-def8-cd84abf3d22f"
   },
   "outputs": [
    {
     "data": {
      "text/plain": [
       "True"
      ]
     },
     "execution_count": 66,
     "metadata": {},
     "output_type": "execute_result"
    }
   ],
   "source": [
    "# sanity check: # of rows in pred_ratings == # of active users (1000) x # of popular items (1000)\n",
    "pred_ratings.shape[0] == 1000 * 1000"
   ]
  },
  {
   "cell_type": "code",
   "execution_count": 68,
   "metadata": {
    "id": "Kwd0kppNsy1x"
   },
   "outputs": [],
   "source": [
    "# use optimized model to compute the predicted ratings among the top 1000 active users and top 1000 popular movies\n",
    "# model_tuning._net predictions over cartesian_user_num and cartesian_item_num\n",
    "model._net.eval()\n",
    "pred_ratings[\"pred_ratings\"] = model._net(cartesian_user_num, cartesian_item_num).cpu().detach().numpy()"
   ]
  },
  {
   "cell_type": "code",
   "execution_count": 69,
   "metadata": {
    "id": "JPb_QqWnTS-p"
   },
   "outputs": [],
   "source": [
    "# Each user's total viewtime is stored in Series user_total_viewtime\n",
    "user_total_viewtime = new_data[\"user_num\"].value_counts()[:1000] /new_data[\"user_num\"].value_counts()[:1000].sum()\n",
    "user_total_viewtime.name = \"user_total_viewtime\"\n",
    "user_total_viewtime.index.name = \"user_num\"\n",
    "pred_ratings = pd.merge(pred_ratings, user_total_viewtime, left_on=\"user_num\", right_on=\"user_num\", how=\"left\")"
   ]
  },
  {
   "cell_type": "code",
   "execution_count": 70,
   "metadata": {
    "colab": {
     "base_uri": "https://localhost:8080/",
     "height": 206
    },
    "id": "XwtRGaxMHgX4",
    "outputId": "78506fe6-b118-4ab7-8ec7-80a66cdb8db8"
   },
   "outputs": [
    {
     "data": {
      "application/vnd.google.colaboratory.intrinsic+json": {
       "type": "dataframe",
       "variable_name": "pred_ratings"
      },
      "text/html": [
       "\n",
       "  <div id=\"df-f771e386-c6ef-45e7-8953-09639d043127\" class=\"colab-df-container\">\n",
       "    <div>\n",
       "<style scoped>\n",
       "    .dataframe tbody tr th:only-of-type {\n",
       "        vertical-align: middle;\n",
       "    }\n",
       "\n",
       "    .dataframe tbody tr th {\n",
       "        vertical-align: top;\n",
       "    }\n",
       "\n",
       "    .dataframe thead th {\n",
       "        text-align: right;\n",
       "    }\n",
       "</style>\n",
       "<table border=\"1\" class=\"dataframe\">\n",
       "  <thead>\n",
       "    <tr style=\"text-align: right;\">\n",
       "      <th></th>\n",
       "      <th>user_num</th>\n",
       "      <th>movie_num</th>\n",
       "      <th>pred_ratings</th>\n",
       "      <th>user_total_viewtime</th>\n",
       "    </tr>\n",
       "  </thead>\n",
       "  <tbody>\n",
       "    <tr>\n",
       "      <th>0</th>\n",
       "      <td>978</td>\n",
       "      <td>12859</td>\n",
       "      <td>3.669965</td>\n",
       "      <td>0.008787</td>\n",
       "    </tr>\n",
       "    <tr>\n",
       "      <th>1</th>\n",
       "      <td>978</td>\n",
       "      <td>10727</td>\n",
       "      <td>3.097207</td>\n",
       "      <td>0.008787</td>\n",
       "    </tr>\n",
       "    <tr>\n",
       "      <th>2</th>\n",
       "      <td>978</td>\n",
       "      <td>2151</td>\n",
       "      <td>5.861050</td>\n",
       "      <td>0.008787</td>\n",
       "    </tr>\n",
       "    <tr>\n",
       "      <th>3</th>\n",
       "      <td>978</td>\n",
       "      <td>16894</td>\n",
       "      <td>3.964069</td>\n",
       "      <td>0.008787</td>\n",
       "    </tr>\n",
       "    <tr>\n",
       "      <th>4</th>\n",
       "      <td>978</td>\n",
       "      <td>283</td>\n",
       "      <td>4.391397</td>\n",
       "      <td>0.008787</td>\n",
       "    </tr>\n",
       "  </tbody>\n",
       "</table>\n",
       "</div>\n",
       "    <div class=\"colab-df-buttons\">\n",
       "\n",
       "  <div class=\"colab-df-container\">\n",
       "    <button class=\"colab-df-convert\" onclick=\"convertToInteractive('df-f771e386-c6ef-45e7-8953-09639d043127')\"\n",
       "            title=\"Convert this dataframe to an interactive table.\"\n",
       "            style=\"display:none;\">\n",
       "\n",
       "  <svg xmlns=\"http://www.w3.org/2000/svg\" height=\"24px\" viewBox=\"0 -960 960 960\">\n",
       "    <path d=\"M120-120v-720h720v720H120Zm60-500h600v-160H180v160Zm220 220h160v-160H400v160Zm0 220h160v-160H400v160ZM180-400h160v-160H180v160Zm440 0h160v-160H620v160ZM180-180h160v-160H180v160Zm440 0h160v-160H620v160Z\"/>\n",
       "  </svg>\n",
       "    </button>\n",
       "\n",
       "  <style>\n",
       "    .colab-df-container {\n",
       "      display:flex;\n",
       "      gap: 12px;\n",
       "    }\n",
       "\n",
       "    .colab-df-convert {\n",
       "      background-color: #E8F0FE;\n",
       "      border: none;\n",
       "      border-radius: 50%;\n",
       "      cursor: pointer;\n",
       "      display: none;\n",
       "      fill: #1967D2;\n",
       "      height: 32px;\n",
       "      padding: 0 0 0 0;\n",
       "      width: 32px;\n",
       "    }\n",
       "\n",
       "    .colab-df-convert:hover {\n",
       "      background-color: #E2EBFA;\n",
       "      box-shadow: 0px 1px 2px rgba(60, 64, 67, 0.3), 0px 1px 3px 1px rgba(60, 64, 67, 0.15);\n",
       "      fill: #174EA6;\n",
       "    }\n",
       "\n",
       "    .colab-df-buttons div {\n",
       "      margin-bottom: 4px;\n",
       "    }\n",
       "\n",
       "    [theme=dark] .colab-df-convert {\n",
       "      background-color: #3B4455;\n",
       "      fill: #D2E3FC;\n",
       "    }\n",
       "\n",
       "    [theme=dark] .colab-df-convert:hover {\n",
       "      background-color: #434B5C;\n",
       "      box-shadow: 0px 1px 3px 1px rgba(0, 0, 0, 0.15);\n",
       "      filter: drop-shadow(0px 1px 2px rgba(0, 0, 0, 0.3));\n",
       "      fill: #FFFFFF;\n",
       "    }\n",
       "  </style>\n",
       "\n",
       "    <script>\n",
       "      const buttonEl =\n",
       "        document.querySelector('#df-f771e386-c6ef-45e7-8953-09639d043127 button.colab-df-convert');\n",
       "      buttonEl.style.display =\n",
       "        google.colab.kernel.accessAllowed ? 'block' : 'none';\n",
       "\n",
       "      async function convertToInteractive(key) {\n",
       "        const element = document.querySelector('#df-f771e386-c6ef-45e7-8953-09639d043127');\n",
       "        const dataTable =\n",
       "          await google.colab.kernel.invokeFunction('convertToInteractive',\n",
       "                                                    [key], {});\n",
       "        if (!dataTable) return;\n",
       "\n",
       "        const docLinkHtml = 'Like what you see? Visit the ' +\n",
       "          '<a target=\"_blank\" href=https://colab.research.google.com/notebooks/data_table.ipynb>data table notebook</a>'\n",
       "          + ' to learn more about interactive tables.';\n",
       "        element.innerHTML = '';\n",
       "        dataTable['output_type'] = 'display_data';\n",
       "        await google.colab.output.renderOutput(dataTable, element);\n",
       "        const docLink = document.createElement('div');\n",
       "        docLink.innerHTML = docLinkHtml;\n",
       "        element.appendChild(docLink);\n",
       "      }\n",
       "    </script>\n",
       "  </div>\n",
       "\n",
       "\n",
       "<div id=\"df-2056a451-e5bc-4fbc-855e-cbc8be6ed28e\">\n",
       "  <button class=\"colab-df-quickchart\" onclick=\"quickchart('df-2056a451-e5bc-4fbc-855e-cbc8be6ed28e')\"\n",
       "            title=\"Suggest charts\"\n",
       "            style=\"display:none;\">\n",
       "\n",
       "<svg xmlns=\"http://www.w3.org/2000/svg\" height=\"24px\"viewBox=\"0 0 24 24\"\n",
       "     width=\"24px\">\n",
       "    <g>\n",
       "        <path d=\"M19 3H5c-1.1 0-2 .9-2 2v14c0 1.1.9 2 2 2h14c1.1 0 2-.9 2-2V5c0-1.1-.9-2-2-2zM9 17H7v-7h2v7zm4 0h-2V7h2v10zm4 0h-2v-4h2v4z\"/>\n",
       "    </g>\n",
       "</svg>\n",
       "  </button>\n",
       "\n",
       "<style>\n",
       "  .colab-df-quickchart {\n",
       "      --bg-color: #E8F0FE;\n",
       "      --fill-color: #1967D2;\n",
       "      --hover-bg-color: #E2EBFA;\n",
       "      --hover-fill-color: #174EA6;\n",
       "      --disabled-fill-color: #AAA;\n",
       "      --disabled-bg-color: #DDD;\n",
       "  }\n",
       "\n",
       "  [theme=dark] .colab-df-quickchart {\n",
       "      --bg-color: #3B4455;\n",
       "      --fill-color: #D2E3FC;\n",
       "      --hover-bg-color: #434B5C;\n",
       "      --hover-fill-color: #FFFFFF;\n",
       "      --disabled-bg-color: #3B4455;\n",
       "      --disabled-fill-color: #666;\n",
       "  }\n",
       "\n",
       "  .colab-df-quickchart {\n",
       "    background-color: var(--bg-color);\n",
       "    border: none;\n",
       "    border-radius: 50%;\n",
       "    cursor: pointer;\n",
       "    display: none;\n",
       "    fill: var(--fill-color);\n",
       "    height: 32px;\n",
       "    padding: 0;\n",
       "    width: 32px;\n",
       "  }\n",
       "\n",
       "  .colab-df-quickchart:hover {\n",
       "    background-color: var(--hover-bg-color);\n",
       "    box-shadow: 0 1px 2px rgba(60, 64, 67, 0.3), 0 1px 3px 1px rgba(60, 64, 67, 0.15);\n",
       "    fill: var(--button-hover-fill-color);\n",
       "  }\n",
       "\n",
       "  .colab-df-quickchart-complete:disabled,\n",
       "  .colab-df-quickchart-complete:disabled:hover {\n",
       "    background-color: var(--disabled-bg-color);\n",
       "    fill: var(--disabled-fill-color);\n",
       "    box-shadow: none;\n",
       "  }\n",
       "\n",
       "  .colab-df-spinner {\n",
       "    border: 2px solid var(--fill-color);\n",
       "    border-color: transparent;\n",
       "    border-bottom-color: var(--fill-color);\n",
       "    animation:\n",
       "      spin 1s steps(1) infinite;\n",
       "  }\n",
       "\n",
       "  @keyframes spin {\n",
       "    0% {\n",
       "      border-color: transparent;\n",
       "      border-bottom-color: var(--fill-color);\n",
       "      border-left-color: var(--fill-color);\n",
       "    }\n",
       "    20% {\n",
       "      border-color: transparent;\n",
       "      border-left-color: var(--fill-color);\n",
       "      border-top-color: var(--fill-color);\n",
       "    }\n",
       "    30% {\n",
       "      border-color: transparent;\n",
       "      border-left-color: var(--fill-color);\n",
       "      border-top-color: var(--fill-color);\n",
       "      border-right-color: var(--fill-color);\n",
       "    }\n",
       "    40% {\n",
       "      border-color: transparent;\n",
       "      border-right-color: var(--fill-color);\n",
       "      border-top-color: var(--fill-color);\n",
       "    }\n",
       "    60% {\n",
       "      border-color: transparent;\n",
       "      border-right-color: var(--fill-color);\n",
       "    }\n",
       "    80% {\n",
       "      border-color: transparent;\n",
       "      border-right-color: var(--fill-color);\n",
       "      border-bottom-color: var(--fill-color);\n",
       "    }\n",
       "    90% {\n",
       "      border-color: transparent;\n",
       "      border-bottom-color: var(--fill-color);\n",
       "    }\n",
       "  }\n",
       "</style>\n",
       "\n",
       "  <script>\n",
       "    async function quickchart(key) {\n",
       "      const quickchartButtonEl =\n",
       "        document.querySelector('#' + key + ' button');\n",
       "      quickchartButtonEl.disabled = true;  // To prevent multiple clicks.\n",
       "      quickchartButtonEl.classList.add('colab-df-spinner');\n",
       "      try {\n",
       "        const charts = await google.colab.kernel.invokeFunction(\n",
       "            'suggestCharts', [key], {});\n",
       "      } catch (error) {\n",
       "        console.error('Error during call to suggestCharts:', error);\n",
       "      }\n",
       "      quickchartButtonEl.classList.remove('colab-df-spinner');\n",
       "      quickchartButtonEl.classList.add('colab-df-quickchart-complete');\n",
       "    }\n",
       "    (() => {\n",
       "      let quickchartButtonEl =\n",
       "        document.querySelector('#df-2056a451-e5bc-4fbc-855e-cbc8be6ed28e button');\n",
       "      quickchartButtonEl.style.display =\n",
       "        google.colab.kernel.accessAllowed ? 'block' : 'none';\n",
       "    })();\n",
       "  </script>\n",
       "</div>\n",
       "\n",
       "    </div>\n",
       "  </div>\n"
      ],
      "text/plain": [
       "   user_num  movie_num  pred_ratings  user_total_viewtime\n",
       "0       978      12859      3.669965             0.008787\n",
       "1       978      10727      3.097207             0.008787\n",
       "2       978       2151      5.861050             0.008787\n",
       "3       978      16894      3.964069             0.008787\n",
       "4       978        283      4.391397             0.008787"
      ]
     },
     "execution_count": 70,
     "metadata": {},
     "output_type": "execute_result"
    }
   ],
   "source": [
    "pred_ratings.head()"
   ]
  },
  {
   "cell_type": "code",
   "execution_count": 71,
   "metadata": {
    "id": "CGYUQOGETpJH"
   },
   "outputs": [],
   "source": [
    "# Each user per each movie viewtime: pred_all_ratings[\"user_item_viewtime\"] = [\"1/user_rank\"] / [\"sum(1/user_rank)\"] * [\"user_total_viewtime\"]\n",
    "# these wordy codes are to reduce RAM consumption otherwise Colab may crush\n",
    "pred_ratings[\"1/user_rank\"] = 1/pred_ratings.groupby(\"user_num\")[\"pred_ratings\"].rank(method = \"min\", ascending = False)\n",
    "sum_inverse_user_rank = pred_ratings.groupby(\"user_num\")[\"1/user_rank\"].sum()\n",
    "sum_inverse_user_rank.name = \"sum(1/user_rank)\"\n",
    "pred_ratings = pd.merge(pred_ratings, sum_inverse_user_rank, left_on=\"user_num\", right_on=\"user_num\", how=\"left\")\n",
    "pred_ratings[\"user_item_viewtime\"] = pred_ratings[\"1/user_rank\"] / pred_ratings[\"sum(1/user_rank)\"] * pred_ratings[\"user_total_viewtime\"]"
   ]
  },
  {
   "cell_type": "code",
   "execution_count": 72,
   "metadata": {
    "colab": {
     "base_uri": "https://localhost:8080/",
     "height": 424
    },
    "id": "kg-eRoQlH1JI",
    "outputId": "2b6d42aa-efb5-4824-9898-43bb3996d733"
   },
   "outputs": [
    {
     "data": {
      "application/vnd.google.colaboratory.intrinsic+json": {
       "type": "dataframe",
       "variable_name": "pred_ratings"
      },
      "text/html": [
       "\n",
       "  <div id=\"df-cb5f01a1-ca56-48c5-84b2-50a8a5451a48\" class=\"colab-df-container\">\n",
       "    <div>\n",
       "<style scoped>\n",
       "    .dataframe tbody tr th:only-of-type {\n",
       "        vertical-align: middle;\n",
       "    }\n",
       "\n",
       "    .dataframe tbody tr th {\n",
       "        vertical-align: top;\n",
       "    }\n",
       "\n",
       "    .dataframe thead th {\n",
       "        text-align: right;\n",
       "    }\n",
       "</style>\n",
       "<table border=\"1\" class=\"dataframe\">\n",
       "  <thead>\n",
       "    <tr style=\"text-align: right;\">\n",
       "      <th></th>\n",
       "      <th>user_num</th>\n",
       "      <th>movie_num</th>\n",
       "      <th>pred_ratings</th>\n",
       "      <th>user_total_viewtime</th>\n",
       "      <th>1/user_rank</th>\n",
       "      <th>sum(1/user_rank)</th>\n",
       "      <th>user_item_viewtime</th>\n",
       "    </tr>\n",
       "  </thead>\n",
       "  <tbody>\n",
       "    <tr>\n",
       "      <th>0</th>\n",
       "      <td>978</td>\n",
       "      <td>12859</td>\n",
       "      <td>3.669965</td>\n",
       "      <td>0.008787</td>\n",
       "      <td>0.009901</td>\n",
       "      <td>7.485471</td>\n",
       "      <td>1.162273e-05</td>\n",
       "    </tr>\n",
       "    <tr>\n",
       "      <th>1</th>\n",
       "      <td>978</td>\n",
       "      <td>10727</td>\n",
       "      <td>3.097207</td>\n",
       "      <td>0.008787</td>\n",
       "      <td>0.003704</td>\n",
       "      <td>7.485471</td>\n",
       "      <td>4.347761e-06</td>\n",
       "    </tr>\n",
       "    <tr>\n",
       "      <th>2</th>\n",
       "      <td>978</td>\n",
       "      <td>2151</td>\n",
       "      <td>5.861050</td>\n",
       "      <td>0.008787</td>\n",
       "      <td>1.000000</td>\n",
       "      <td>7.485471</td>\n",
       "      <td>1.173896e-03</td>\n",
       "    </tr>\n",
       "    <tr>\n",
       "      <th>3</th>\n",
       "      <td>978</td>\n",
       "      <td>16894</td>\n",
       "      <td>3.964069</td>\n",
       "      <td>0.008787</td>\n",
       "      <td>0.019231</td>\n",
       "      <td>7.485471</td>\n",
       "      <td>2.257491e-05</td>\n",
       "    </tr>\n",
       "    <tr>\n",
       "      <th>4</th>\n",
       "      <td>978</td>\n",
       "      <td>283</td>\n",
       "      <td>4.391397</td>\n",
       "      <td>0.008787</td>\n",
       "      <td>0.062500</td>\n",
       "      <td>7.485471</td>\n",
       "      <td>7.336847e-05</td>\n",
       "    </tr>\n",
       "    <tr>\n",
       "      <th>...</th>\n",
       "      <td>...</td>\n",
       "      <td>...</td>\n",
       "      <td>...</td>\n",
       "      <td>...</td>\n",
       "      <td>...</td>\n",
       "      <td>...</td>\n",
       "      <td>...</td>\n",
       "    </tr>\n",
       "    <tr>\n",
       "      <th>999995</th>\n",
       "      <td>8906</td>\n",
       "      <td>1120</td>\n",
       "      <td>3.323212</td>\n",
       "      <td>0.000483</td>\n",
       "      <td>0.001241</td>\n",
       "      <td>7.485471</td>\n",
       "      <td>8.001701e-08</td>\n",
       "    </tr>\n",
       "    <tr>\n",
       "      <th>999996</th>\n",
       "      <td>8906</td>\n",
       "      <td>10422</td>\n",
       "      <td>3.658372</td>\n",
       "      <td>0.000483</td>\n",
       "      <td>0.003215</td>\n",
       "      <td>7.485471</td>\n",
       "      <td>2.073753e-07</td>\n",
       "    </tr>\n",
       "    <tr>\n",
       "      <th>999997</th>\n",
       "      <td>8906</td>\n",
       "      <td>35072</td>\n",
       "      <td>3.476543</td>\n",
       "      <td>0.000483</td>\n",
       "      <td>0.001645</td>\n",
       "      <td>7.485471</td>\n",
       "      <td>1.060752e-07</td>\n",
       "    </tr>\n",
       "    <tr>\n",
       "      <th>999998</th>\n",
       "      <td>8906</td>\n",
       "      <td>7221</td>\n",
       "      <td>3.282895</td>\n",
       "      <td>0.000483</td>\n",
       "      <td>0.001183</td>\n",
       "      <td>7.485471</td>\n",
       "      <td>7.632392e-08</td>\n",
       "    </tr>\n",
       "    <tr>\n",
       "      <th>999999</th>\n",
       "      <td>8906</td>\n",
       "      <td>33172</td>\n",
       "      <td>3.305463</td>\n",
       "      <td>0.000483</td>\n",
       "      <td>0.001218</td>\n",
       "      <td>7.485471</td>\n",
       "      <td>7.855507e-08</td>\n",
       "    </tr>\n",
       "  </tbody>\n",
       "</table>\n",
       "<p>1000000 rows × 7 columns</p>\n",
       "</div>\n",
       "    <div class=\"colab-df-buttons\">\n",
       "\n",
       "  <div class=\"colab-df-container\">\n",
       "    <button class=\"colab-df-convert\" onclick=\"convertToInteractive('df-cb5f01a1-ca56-48c5-84b2-50a8a5451a48')\"\n",
       "            title=\"Convert this dataframe to an interactive table.\"\n",
       "            style=\"display:none;\">\n",
       "\n",
       "  <svg xmlns=\"http://www.w3.org/2000/svg\" height=\"24px\" viewBox=\"0 -960 960 960\">\n",
       "    <path d=\"M120-120v-720h720v720H120Zm60-500h600v-160H180v160Zm220 220h160v-160H400v160Zm0 220h160v-160H400v160ZM180-400h160v-160H180v160Zm440 0h160v-160H620v160ZM180-180h160v-160H180v160Zm440 0h160v-160H620v160Z\"/>\n",
       "  </svg>\n",
       "    </button>\n",
       "\n",
       "  <style>\n",
       "    .colab-df-container {\n",
       "      display:flex;\n",
       "      gap: 12px;\n",
       "    }\n",
       "\n",
       "    .colab-df-convert {\n",
       "      background-color: #E8F0FE;\n",
       "      border: none;\n",
       "      border-radius: 50%;\n",
       "      cursor: pointer;\n",
       "      display: none;\n",
       "      fill: #1967D2;\n",
       "      height: 32px;\n",
       "      padding: 0 0 0 0;\n",
       "      width: 32px;\n",
       "    }\n",
       "\n",
       "    .colab-df-convert:hover {\n",
       "      background-color: #E2EBFA;\n",
       "      box-shadow: 0px 1px 2px rgba(60, 64, 67, 0.3), 0px 1px 3px 1px rgba(60, 64, 67, 0.15);\n",
       "      fill: #174EA6;\n",
       "    }\n",
       "\n",
       "    .colab-df-buttons div {\n",
       "      margin-bottom: 4px;\n",
       "    }\n",
       "\n",
       "    [theme=dark] .colab-df-convert {\n",
       "      background-color: #3B4455;\n",
       "      fill: #D2E3FC;\n",
       "    }\n",
       "\n",
       "    [theme=dark] .colab-df-convert:hover {\n",
       "      background-color: #434B5C;\n",
       "      box-shadow: 0px 1px 3px 1px rgba(0, 0, 0, 0.15);\n",
       "      filter: drop-shadow(0px 1px 2px rgba(0, 0, 0, 0.3));\n",
       "      fill: #FFFFFF;\n",
       "    }\n",
       "  </style>\n",
       "\n",
       "    <script>\n",
       "      const buttonEl =\n",
       "        document.querySelector('#df-cb5f01a1-ca56-48c5-84b2-50a8a5451a48 button.colab-df-convert');\n",
       "      buttonEl.style.display =\n",
       "        google.colab.kernel.accessAllowed ? 'block' : 'none';\n",
       "\n",
       "      async function convertToInteractive(key) {\n",
       "        const element = document.querySelector('#df-cb5f01a1-ca56-48c5-84b2-50a8a5451a48');\n",
       "        const dataTable =\n",
       "          await google.colab.kernel.invokeFunction('convertToInteractive',\n",
       "                                                    [key], {});\n",
       "        if (!dataTable) return;\n",
       "\n",
       "        const docLinkHtml = 'Like what you see? Visit the ' +\n",
       "          '<a target=\"_blank\" href=https://colab.research.google.com/notebooks/data_table.ipynb>data table notebook</a>'\n",
       "          + ' to learn more about interactive tables.';\n",
       "        element.innerHTML = '';\n",
       "        dataTable['output_type'] = 'display_data';\n",
       "        await google.colab.output.renderOutput(dataTable, element);\n",
       "        const docLink = document.createElement('div');\n",
       "        docLink.innerHTML = docLinkHtml;\n",
       "        element.appendChild(docLink);\n",
       "      }\n",
       "    </script>\n",
       "  </div>\n",
       "\n",
       "\n",
       "<div id=\"df-d0121762-4c68-4be6-9fad-90a8a5273f68\">\n",
       "  <button class=\"colab-df-quickchart\" onclick=\"quickchart('df-d0121762-4c68-4be6-9fad-90a8a5273f68')\"\n",
       "            title=\"Suggest charts\"\n",
       "            style=\"display:none;\">\n",
       "\n",
       "<svg xmlns=\"http://www.w3.org/2000/svg\" height=\"24px\"viewBox=\"0 0 24 24\"\n",
       "     width=\"24px\">\n",
       "    <g>\n",
       "        <path d=\"M19 3H5c-1.1 0-2 .9-2 2v14c0 1.1.9 2 2 2h14c1.1 0 2-.9 2-2V5c0-1.1-.9-2-2-2zM9 17H7v-7h2v7zm4 0h-2V7h2v10zm4 0h-2v-4h2v4z\"/>\n",
       "    </g>\n",
       "</svg>\n",
       "  </button>\n",
       "\n",
       "<style>\n",
       "  .colab-df-quickchart {\n",
       "      --bg-color: #E8F0FE;\n",
       "      --fill-color: #1967D2;\n",
       "      --hover-bg-color: #E2EBFA;\n",
       "      --hover-fill-color: #174EA6;\n",
       "      --disabled-fill-color: #AAA;\n",
       "      --disabled-bg-color: #DDD;\n",
       "  }\n",
       "\n",
       "  [theme=dark] .colab-df-quickchart {\n",
       "      --bg-color: #3B4455;\n",
       "      --fill-color: #D2E3FC;\n",
       "      --hover-bg-color: #434B5C;\n",
       "      --hover-fill-color: #FFFFFF;\n",
       "      --disabled-bg-color: #3B4455;\n",
       "      --disabled-fill-color: #666;\n",
       "  }\n",
       "\n",
       "  .colab-df-quickchart {\n",
       "    background-color: var(--bg-color);\n",
       "    border: none;\n",
       "    border-radius: 50%;\n",
       "    cursor: pointer;\n",
       "    display: none;\n",
       "    fill: var(--fill-color);\n",
       "    height: 32px;\n",
       "    padding: 0;\n",
       "    width: 32px;\n",
       "  }\n",
       "\n",
       "  .colab-df-quickchart:hover {\n",
       "    background-color: var(--hover-bg-color);\n",
       "    box-shadow: 0 1px 2px rgba(60, 64, 67, 0.3), 0 1px 3px 1px rgba(60, 64, 67, 0.15);\n",
       "    fill: var(--button-hover-fill-color);\n",
       "  }\n",
       "\n",
       "  .colab-df-quickchart-complete:disabled,\n",
       "  .colab-df-quickchart-complete:disabled:hover {\n",
       "    background-color: var(--disabled-bg-color);\n",
       "    fill: var(--disabled-fill-color);\n",
       "    box-shadow: none;\n",
       "  }\n",
       "\n",
       "  .colab-df-spinner {\n",
       "    border: 2px solid var(--fill-color);\n",
       "    border-color: transparent;\n",
       "    border-bottom-color: var(--fill-color);\n",
       "    animation:\n",
       "      spin 1s steps(1) infinite;\n",
       "  }\n",
       "\n",
       "  @keyframes spin {\n",
       "    0% {\n",
       "      border-color: transparent;\n",
       "      border-bottom-color: var(--fill-color);\n",
       "      border-left-color: var(--fill-color);\n",
       "    }\n",
       "    20% {\n",
       "      border-color: transparent;\n",
       "      border-left-color: var(--fill-color);\n",
       "      border-top-color: var(--fill-color);\n",
       "    }\n",
       "    30% {\n",
       "      border-color: transparent;\n",
       "      border-left-color: var(--fill-color);\n",
       "      border-top-color: var(--fill-color);\n",
       "      border-right-color: var(--fill-color);\n",
       "    }\n",
       "    40% {\n",
       "      border-color: transparent;\n",
       "      border-right-color: var(--fill-color);\n",
       "      border-top-color: var(--fill-color);\n",
       "    }\n",
       "    60% {\n",
       "      border-color: transparent;\n",
       "      border-right-color: var(--fill-color);\n",
       "    }\n",
       "    80% {\n",
       "      border-color: transparent;\n",
       "      border-right-color: var(--fill-color);\n",
       "      border-bottom-color: var(--fill-color);\n",
       "    }\n",
       "    90% {\n",
       "      border-color: transparent;\n",
       "      border-bottom-color: var(--fill-color);\n",
       "    }\n",
       "  }\n",
       "</style>\n",
       "\n",
       "  <script>\n",
       "    async function quickchart(key) {\n",
       "      const quickchartButtonEl =\n",
       "        document.querySelector('#' + key + ' button');\n",
       "      quickchartButtonEl.disabled = true;  // To prevent multiple clicks.\n",
       "      quickchartButtonEl.classList.add('colab-df-spinner');\n",
       "      try {\n",
       "        const charts = await google.colab.kernel.invokeFunction(\n",
       "            'suggestCharts', [key], {});\n",
       "      } catch (error) {\n",
       "        console.error('Error during call to suggestCharts:', error);\n",
       "      }\n",
       "      quickchartButtonEl.classList.remove('colab-df-spinner');\n",
       "      quickchartButtonEl.classList.add('colab-df-quickchart-complete');\n",
       "    }\n",
       "    (() => {\n",
       "      let quickchartButtonEl =\n",
       "        document.querySelector('#df-d0121762-4c68-4be6-9fad-90a8a5273f68 button');\n",
       "      quickchartButtonEl.style.display =\n",
       "        google.colab.kernel.accessAllowed ? 'block' : 'none';\n",
       "    })();\n",
       "  </script>\n",
       "</div>\n",
       "\n",
       "  <div id=\"id_cfe70e72-d41c-4e90-9cdc-258ecd7a18e1\">\n",
       "    <style>\n",
       "      .colab-df-generate {\n",
       "        background-color: #E8F0FE;\n",
       "        border: none;\n",
       "        border-radius: 50%;\n",
       "        cursor: pointer;\n",
       "        display: none;\n",
       "        fill: #1967D2;\n",
       "        height: 32px;\n",
       "        padding: 0 0 0 0;\n",
       "        width: 32px;\n",
       "      }\n",
       "\n",
       "      .colab-df-generate:hover {\n",
       "        background-color: #E2EBFA;\n",
       "        box-shadow: 0px 1px 2px rgba(60, 64, 67, 0.3), 0px 1px 3px 1px rgba(60, 64, 67, 0.15);\n",
       "        fill: #174EA6;\n",
       "      }\n",
       "\n",
       "      [theme=dark] .colab-df-generate {\n",
       "        background-color: #3B4455;\n",
       "        fill: #D2E3FC;\n",
       "      }\n",
       "\n",
       "      [theme=dark] .colab-df-generate:hover {\n",
       "        background-color: #434B5C;\n",
       "        box-shadow: 0px 1px 3px 1px rgba(0, 0, 0, 0.15);\n",
       "        filter: drop-shadow(0px 1px 2px rgba(0, 0, 0, 0.3));\n",
       "        fill: #FFFFFF;\n",
       "      }\n",
       "    </style>\n",
       "    <button class=\"colab-df-generate\" onclick=\"generateWithVariable('pred_ratings')\"\n",
       "            title=\"Generate code using this dataframe.\"\n",
       "            style=\"display:none;\">\n",
       "\n",
       "  <svg xmlns=\"http://www.w3.org/2000/svg\" height=\"24px\"viewBox=\"0 0 24 24\"\n",
       "       width=\"24px\">\n",
       "    <path d=\"M7,19H8.4L18.45,9,17,7.55,7,17.6ZM5,21V16.75L18.45,3.32a2,2,0,0,1,2.83,0l1.4,1.43a1.91,1.91,0,0,1,.58,1.4,1.91,1.91,0,0,1-.58,1.4L9.25,21ZM18.45,9,17,7.55Zm-12,3A5.31,5.31,0,0,0,4.9,8.1,5.31,5.31,0,0,0,1,6.5,5.31,5.31,0,0,0,4.9,4.9,5.31,5.31,0,0,0,6.5,1,5.31,5.31,0,0,0,8.1,4.9,5.31,5.31,0,0,0,12,6.5,5.46,5.46,0,0,0,6.5,12Z\"/>\n",
       "  </svg>\n",
       "    </button>\n",
       "    <script>\n",
       "      (() => {\n",
       "      const buttonEl =\n",
       "        document.querySelector('#id_cfe70e72-d41c-4e90-9cdc-258ecd7a18e1 button.colab-df-generate');\n",
       "      buttonEl.style.display =\n",
       "        google.colab.kernel.accessAllowed ? 'block' : 'none';\n",
       "\n",
       "      buttonEl.onclick = () => {\n",
       "        google.colab.notebook.generateWithVariable('pred_ratings');\n",
       "      }\n",
       "      })();\n",
       "    </script>\n",
       "  </div>\n",
       "\n",
       "    </div>\n",
       "  </div>\n"
      ],
      "text/plain": [
       "        user_num  movie_num  pred_ratings  user_total_viewtime  1/user_rank  \\\n",
       "0            978      12859      3.669965             0.008787     0.009901   \n",
       "1            978      10727      3.097207             0.008787     0.003704   \n",
       "2            978       2151      5.861050             0.008787     1.000000   \n",
       "3            978      16894      3.964069             0.008787     0.019231   \n",
       "4            978        283      4.391397             0.008787     0.062500   \n",
       "...          ...        ...           ...                  ...          ...   \n",
       "999995      8906       1120      3.323212             0.000483     0.001241   \n",
       "999996      8906      10422      3.658372             0.000483     0.003215   \n",
       "999997      8906      35072      3.476543             0.000483     0.001645   \n",
       "999998      8906       7221      3.282895             0.000483     0.001183   \n",
       "999999      8906      33172      3.305463             0.000483     0.001218   \n",
       "\n",
       "        sum(1/user_rank)  user_item_viewtime  \n",
       "0               7.485471        1.162273e-05  \n",
       "1               7.485471        4.347761e-06  \n",
       "2               7.485471        1.173896e-03  \n",
       "3               7.485471        2.257491e-05  \n",
       "4               7.485471        7.336847e-05  \n",
       "...                  ...                 ...  \n",
       "999995          7.485471        8.001701e-08  \n",
       "999996          7.485471        2.073753e-07  \n",
       "999997          7.485471        1.060752e-07  \n",
       "999998          7.485471        7.632392e-08  \n",
       "999999          7.485471        7.855507e-08  \n",
       "\n",
       "[1000000 rows x 7 columns]"
      ]
     },
     "execution_count": 72,
     "metadata": {},
     "output_type": "execute_result"
    }
   ],
   "source": [
    "pred_ratings"
   ]
  },
  {
   "cell_type": "code",
   "execution_count": 73,
   "metadata": {
    "colab": {
     "base_uri": "https://localhost:8080/"
    },
    "id": "l9Ye6ePU0dPa",
    "outputId": "f8bd326b-0fb3-403e-a929-9f76238e42c0"
   },
   "outputs": [
    {
     "data": {
      "text/plain": [
       "0.9999999999999999"
      ]
     },
     "execution_count": 73,
     "metadata": {},
     "output_type": "execute_result"
    }
   ],
   "source": [
    "# sanity check: sum of user_item_viewtime == 1\n",
    "pred_ratings[\"user_item_viewtime\"].sum()"
   ]
  },
  {
   "cell_type": "code",
   "execution_count": 74,
   "metadata": {
    "id": "-ixxWznAUDZG"
   },
   "outputs": [],
   "source": [
    "# compute each movie's value\n",
    "budget =  1000000000\n",
    "# compute the values of movies based on pred_ratings\n",
    "movie_values = pred_ratings.groupby(\"movie_num\")[\"user_item_viewtime\"].sum() * budget\n",
    "movie_values.name = \"item_value\""
   ]
  },
  {
   "cell_type": "code",
   "execution_count": 75,
   "metadata": {
    "id": "ENlg_2avaE3z"
   },
   "outputs": [],
   "source": [
    "# replace item_num by item_name\n",
    "movie_values = movie_values.to_frame()\n",
    "movie_values[\"title\"] = [numitem_2_name[movie_num] for movie_num in movie_values.index]\n",
    "movie_values = movie_values.set_index(\"title\").squeeze(axis=1)"
   ]
  },
  {
   "cell_type": "code",
   "execution_count": 76,
   "metadata": {
    "colab": {
     "base_uri": "https://localhost:8080/",
     "height": 272
    },
    "id": "IL1koMbfIeFI",
    "outputId": "82543791-b309-4ddc-a285-bc8995b7b854"
   },
   "outputs": [
    {
     "data": {
      "text/html": [
       "<div>\n",
       "<style scoped>\n",
       "    .dataframe tbody tr th:only-of-type {\n",
       "        vertical-align: middle;\n",
       "    }\n",
       "\n",
       "    .dataframe tbody tr th {\n",
       "        vertical-align: top;\n",
       "    }\n",
       "\n",
       "    .dataframe thead th {\n",
       "        text-align: right;\n",
       "    }\n",
       "</style>\n",
       "<table border=\"1\" class=\"dataframe\">\n",
       "  <thead>\n",
       "    <tr style=\"text-align: right;\">\n",
       "      <th></th>\n",
       "      <th>item_value</th>\n",
       "    </tr>\n",
       "    <tr>\n",
       "      <th>title</th>\n",
       "      <th></th>\n",
       "    </tr>\n",
       "  </thead>\n",
       "  <tbody>\n",
       "    <tr>\n",
       "      <th>Toy Story (1995)</th>\n",
       "      <td>1.849097e+06</td>\n",
       "    </tr>\n",
       "    <tr>\n",
       "      <th>Jumanji (1995)</th>\n",
       "      <td>3.048105e+05</td>\n",
       "    </tr>\n",
       "    <tr>\n",
       "      <th>Heat (1995)</th>\n",
       "      <td>8.509184e+05</td>\n",
       "    </tr>\n",
       "    <tr>\n",
       "      <th>GoldenEye (1995)</th>\n",
       "      <td>2.493029e+05</td>\n",
       "    </tr>\n",
       "    <tr>\n",
       "      <th>Casino (1995)</th>\n",
       "      <td>1.613546e+06</td>\n",
       "    </tr>\n",
       "  </tbody>\n",
       "</table>\n",
       "</div><br><label><b>dtype:</b> float64</label>"
      ],
      "text/plain": [
       "title\n",
       "Toy Story (1995)    1.849097e+06\n",
       "Jumanji (1995)      3.048105e+05\n",
       "Heat (1995)         8.509184e+05\n",
       "GoldenEye (1995)    2.493029e+05\n",
       "Casino (1995)       1.613546e+06\n",
       "Name: item_value, dtype: float64"
      ]
     },
     "execution_count": 76,
     "metadata": {},
     "output_type": "execute_result"
    }
   ],
   "source": [
    "movie_values.head()"
   ]
  },
  {
   "cell_type": "code",
   "execution_count": 77,
   "metadata": {
    "colab": {
     "base_uri": "https://localhost:8080/"
    },
    "id": "FHLauUJ6a1zj",
    "outputId": "f0cdbc43-24f4-449b-d7b7-2f34b82809a0"
   },
   "outputs": [
    {
     "data": {
      "text/plain": [
       "True"
      ]
     },
     "execution_count": 77,
     "metadata": {},
     "output_type": "execute_result"
    }
   ],
   "source": [
    "# sanity check: sum of movie values == budget\n",
    "movie_values.sum() == budget"
   ]
  },
  {
   "cell_type": "markdown",
   "metadata": {
    "id": "eXjfpVJN9YQB"
   },
   "source": [
    "### Output the top valued movies"
   ]
  },
  {
   "cell_type": "code",
   "execution_count": 78,
   "metadata": {
    "colab": {
     "base_uri": "https://localhost:8080/",
     "height": 1000
    },
    "id": "faBvzyRrb2J5",
    "outputId": "11a4eb1f-71a1-43de-d89f-7d3657862a49"
   },
   "outputs": [
    {
     "data": {
      "text/html": [
       "<div>\n",
       "<style scoped>\n",
       "    .dataframe tbody tr th:only-of-type {\n",
       "        vertical-align: middle;\n",
       "    }\n",
       "\n",
       "    .dataframe tbody tr th {\n",
       "        vertical-align: top;\n",
       "    }\n",
       "\n",
       "    .dataframe thead th {\n",
       "        text-align: right;\n",
       "    }\n",
       "</style>\n",
       "<table border=\"1\" class=\"dataframe\">\n",
       "  <thead>\n",
       "    <tr style=\"text-align: right;\">\n",
       "      <th></th>\n",
       "      <th>item_value</th>\n",
       "    </tr>\n",
       "    <tr>\n",
       "      <th>title</th>\n",
       "      <th></th>\n",
       "    </tr>\n",
       "  </thead>\n",
       "  <tbody>\n",
       "    <tr>\n",
       "      <th>Matrix, The (1999)</th>\n",
       "      <td>2.301370e+07</td>\n",
       "    </tr>\n",
       "    <tr>\n",
       "      <th>Godfather, The (1972)</th>\n",
       "      <td>1.938638e+07</td>\n",
       "    </tr>\n",
       "    <tr>\n",
       "      <th>Lord of the Rings: The Fellowship of the Ring, The (2001)</th>\n",
       "      <td>1.476502e+07</td>\n",
       "    </tr>\n",
       "    <tr>\n",
       "      <th>Star Wars: Episode V - The Empire Strikes Back (1980)</th>\n",
       "      <td>1.440547e+07</td>\n",
       "    </tr>\n",
       "    <tr>\n",
       "      <th>Parasite (2019)</th>\n",
       "      <td>1.426294e+07</td>\n",
       "    </tr>\n",
       "    <tr>\n",
       "      <th>Shawshank Redemption, The (1994)</th>\n",
       "      <td>1.418942e+07</td>\n",
       "    </tr>\n",
       "    <tr>\n",
       "      <th>Inception (2010)</th>\n",
       "      <td>1.391693e+07</td>\n",
       "    </tr>\n",
       "    <tr>\n",
       "      <th>Lord of the Rings: The Return of the King, The (2003)</th>\n",
       "      <td>1.302107e+07</td>\n",
       "    </tr>\n",
       "    <tr>\n",
       "      <th>Dark Knight, The (2008)</th>\n",
       "      <td>1.301429e+07</td>\n",
       "    </tr>\n",
       "    <tr>\n",
       "      <th>Pulp Fiction (1994)</th>\n",
       "      <td>1.250658e+07</td>\n",
       "    </tr>\n",
       "    <tr>\n",
       "      <th>12 Angry Men (1957)</th>\n",
       "      <td>1.230193e+07</td>\n",
       "    </tr>\n",
       "    <tr>\n",
       "      <th>Star Wars: Episode IV - A New Hope (1977)</th>\n",
       "      <td>1.201788e+07</td>\n",
       "    </tr>\n",
       "    <tr>\n",
       "      <th>Lord of the Rings: The Two Towers, The (2002)</th>\n",
       "      <td>1.174720e+07</td>\n",
       "    </tr>\n",
       "    <tr>\n",
       "      <th>Band of Brothers (2001)</th>\n",
       "      <td>1.024961e+07</td>\n",
       "    </tr>\n",
       "    <tr>\n",
       "      <th>Spider-Man: Across the Spider-Verse (2023)</th>\n",
       "      <td>9.106160e+06</td>\n",
       "    </tr>\n",
       "    <tr>\n",
       "      <th>2001: A Space Odyssey (1968)</th>\n",
       "      <td>8.277029e+06</td>\n",
       "    </tr>\n",
       "    <tr>\n",
       "      <th>Godfather: Part II, The (1974)</th>\n",
       "      <td>8.215723e+06</td>\n",
       "    </tr>\n",
       "    <tr>\n",
       "      <th>Fight Club (1999)</th>\n",
       "      <td>8.155667e+06</td>\n",
       "    </tr>\n",
       "    <tr>\n",
       "      <th>Everything Everywhere All at Once (2022)</th>\n",
       "      <td>8.082584e+06</td>\n",
       "    </tr>\n",
       "    <tr>\n",
       "      <th>Twelve Angry Men (1954)</th>\n",
       "      <td>7.864496e+06</td>\n",
       "    </tr>\n",
       "    <tr>\n",
       "      <th>Interstellar (2014)</th>\n",
       "      <td>7.450190e+06</td>\n",
       "    </tr>\n",
       "    <tr>\n",
       "      <th>Spirited Away (Sen to Chihiro no kamikakushi) (2001)</th>\n",
       "      <td>7.142052e+06</td>\n",
       "    </tr>\n",
       "    <tr>\n",
       "      <th>Alien (1979)</th>\n",
       "      <td>6.312140e+06</td>\n",
       "    </tr>\n",
       "    <tr>\n",
       "      <th>Whiplash (2014)</th>\n",
       "      <td>5.322864e+06</td>\n",
       "    </tr>\n",
       "    <tr>\n",
       "      <th>Spider-Man: No Way Home (2021)</th>\n",
       "      <td>5.175597e+06</td>\n",
       "    </tr>\n",
       "    <tr>\n",
       "      <th>Clockwork Orange, A (1971)</th>\n",
       "      <td>5.120597e+06</td>\n",
       "    </tr>\n",
       "    <tr>\n",
       "      <th>Back to the Future (1985)</th>\n",
       "      <td>4.904205e+06</td>\n",
       "    </tr>\n",
       "    <tr>\n",
       "      <th>Forrest Gump (1994)</th>\n",
       "      <td>4.869067e+06</td>\n",
       "    </tr>\n",
       "    <tr>\n",
       "      <th>Before Sunset (2004)</th>\n",
       "      <td>4.725253e+06</td>\n",
       "    </tr>\n",
       "    <tr>\n",
       "      <th>Silence of the Lambs, The (1991)</th>\n",
       "      <td>4.696807e+06</td>\n",
       "    </tr>\n",
       "  </tbody>\n",
       "</table>\n",
       "</div><br><label><b>dtype:</b> float64</label>"
      ],
      "text/plain": [
       "title\n",
       "Matrix, The (1999)                                           2.301370e+07\n",
       "Godfather, The (1972)                                        1.938638e+07\n",
       "Lord of the Rings: The Fellowship of the Ring, The (2001)    1.476502e+07\n",
       "Star Wars: Episode V - The Empire Strikes Back (1980)        1.440547e+07\n",
       "Parasite (2019)                                              1.426294e+07\n",
       "Shawshank Redemption, The (1994)                             1.418942e+07\n",
       "Inception (2010)                                             1.391693e+07\n",
       "Lord of the Rings: The Return of the King, The (2003)        1.302107e+07\n",
       "Dark Knight, The (2008)                                      1.301429e+07\n",
       "Pulp Fiction (1994)                                          1.250658e+07\n",
       "12 Angry Men (1957)                                          1.230193e+07\n",
       "Star Wars: Episode IV - A New Hope (1977)                    1.201788e+07\n",
       "Lord of the Rings: The Two Towers, The (2002)                1.174720e+07\n",
       "Band of Brothers (2001)                                      1.024961e+07\n",
       "Spider-Man: Across the Spider-Verse (2023)                   9.106160e+06\n",
       "2001: A Space Odyssey (1968)                                 8.277029e+06\n",
       "Godfather: Part II, The (1974)                               8.215723e+06\n",
       "Fight Club (1999)                                            8.155667e+06\n",
       "Everything Everywhere All at Once (2022)                     8.082584e+06\n",
       "Twelve Angry Men (1954)                                      7.864496e+06\n",
       "Interstellar (2014)                                          7.450190e+06\n",
       "Spirited Away (Sen to Chihiro no kamikakushi) (2001)         7.142052e+06\n",
       "Alien (1979)                                                 6.312140e+06\n",
       "Whiplash (2014)                                              5.322864e+06\n",
       "Spider-Man: No Way Home (2021)                               5.175597e+06\n",
       "Clockwork Orange, A (1971)                                   5.120597e+06\n",
       "Back to the Future (1985)                                    4.904205e+06\n",
       "Forrest Gump (1994)                                          4.869067e+06\n",
       "Before Sunset (2004)                                         4.725253e+06\n",
       "Silence of the Lambs, The (1991)                             4.696807e+06\n",
       "Name: item_value, dtype: float64"
      ]
     },
     "execution_count": 78,
     "metadata": {},
     "output_type": "execute_result"
    }
   ],
   "source": [
    "movie_values.nlargest(30)"
   ]
  },
  {
   "cell_type": "markdown",
   "metadata": {
    "id": "_WKrLtifm0Ex"
   },
   "source": [
    "**Question**: Include your answer in the report.\n",
    "\n",
    "- What is your estimated value of *Toy Story (1995)*?\n",
    "\n",
    "- What are the top 10 mostly valued movies?\n"
   ]
  },
  {
   "cell_type": "code",
   "execution_count": 79,
   "metadata": {
    "colab": {
     "base_uri": "https://localhost:8080/"
    },
    "id": "XXzStOqsHy8H",
    "outputId": "5d883b53-95df-4114-d426-17db530cf6ab"
   },
   "outputs": [
    {
     "data": {
      "text/plain": [
       "1849096.7249122462"
      ]
     },
     "execution_count": 79,
     "metadata": {},
     "output_type": "execute_result"
    }
   ],
   "source": [
    "movie_values['Toy Story (1995)']"
   ]
  },
  {
   "cell_type": "markdown",
   "metadata": {
    "id": "P8ogJZYrC4A-"
   },
   "source": [
    " The top 10 mostly valued movies are\n",
    "\n",
    "\n",
    "\n",
    "\n",
    "1. Band of Brothers (2001)               92,666,750\n",
    "\n",
    "2. 12 Angry Men (1957)                  51,854,580\n",
    "\n",
    "3. Twelve Angry Men (1954)          48,828,610\n",
    "\n",
    "4. Parasite (2019)                  29,259,560\n",
    "5. Pulp Fiction (1994)              27,112,650\n",
    "6. Whiplash (2013)                  15,935,770\n",
    "7. Princess Mononoke (Mononoke-hime) (1997)  13,633,740\n",
    "8. Shawshank Redemption, The (1994) 11,897,290\n",
    "9. Godfather, The (1972)            11,278,340\n",
    "10.No Country for Old Men (2007)    10,786,350\n"
   ]
  },
  {
   "cell_type": "markdown",
   "metadata": {
    "id": "qaBFvCq39cKw"
   },
   "source": [
    "\n",
    "### Compare the output with the mostly rated movies. Identify the discrepancies."
   ]
  },
  {
   "cell_type": "code",
   "execution_count": 80,
   "metadata": {
    "id": "HZvf8MOfKYrg"
   },
   "outputs": [],
   "source": [
    "highest_values_30 = movie_values.nlargest(30).index\n",
    "most_rated_30 = new_data['title'].value_counts().nlargest(30).index"
   ]
  },
  {
   "cell_type": "code",
   "execution_count": 81,
   "metadata": {
    "colab": {
     "base_uri": "https://localhost:8080/"
    },
    "id": "rNYuC4IqDQeK",
    "outputId": "a04baed1-7917-4d62-8d63-8f18fa85b0c9"
   },
   "outputs": [
    {
     "data": {
      "text/plain": [
       "{'Dark Knight, The (2008)',\n",
       " 'Everything Everywhere All at Once (2022)',\n",
       " 'Fight Club (1999)',\n",
       " 'Forrest Gump (1994)',\n",
       " 'Godfather, The (1972)',\n",
       " 'Inception (2010)',\n",
       " 'Interstellar (2014)',\n",
       " 'Lord of the Rings: The Fellowship of the Ring, The (2001)',\n",
       " 'Lord of the Rings: The Return of the King, The (2003)',\n",
       " 'Lord of the Rings: The Two Towers, The (2002)',\n",
       " 'Matrix, The (1999)',\n",
       " 'Parasite (2019)',\n",
       " 'Pulp Fiction (1994)',\n",
       " 'Shawshank Redemption, The (1994)',\n",
       " 'Spider-Man: No Way Home (2021)',\n",
       " 'Spirited Away (Sen to Chihiro no kamikakushi) (2001)',\n",
       " 'Star Wars: Episode IV - A New Hope (1977)',\n",
       " 'Star Wars: Episode V - The Empire Strikes Back (1980)'}"
      ]
     },
     "execution_count": 81,
     "metadata": {},
     "output_type": "execute_result"
    }
   ],
   "source": [
    "# movies IN top 30 valued AND IN most 30 rated\n",
    "set(highest_values_30).intersection(set(most_rated_30))"
   ]
  },
  {
   "cell_type": "code",
   "execution_count": 82,
   "metadata": {
    "colab": {
     "base_uri": "https://localhost:8080/"
    },
    "id": "3XXrYvcTNQxt",
    "outputId": "2118324e-60be-4ca6-d301-94e118df7770"
   },
   "outputs": [
    {
     "data": {
      "text/plain": [
       "{'12 Angry Men (1957)',\n",
       " '2001: A Space Odyssey (1968)',\n",
       " 'Alien (1979)',\n",
       " 'Back to the Future (1985)',\n",
       " 'Band of Brothers (2001)',\n",
       " 'Before Sunset (2004)',\n",
       " 'Clockwork Orange, A (1971)',\n",
       " 'Godfather: Part II, The (1974)',\n",
       " 'Silence of the Lambs, The (1991)',\n",
       " 'Spider-Man: Across the Spider-Verse (2023)',\n",
       " 'Twelve Angry Men (1954)',\n",
       " 'Whiplash (2014)'}"
      ]
     },
     "execution_count": 82,
     "metadata": {},
     "output_type": "execute_result"
    }
   ],
   "source": [
    "# movies IN top 30 valued but NOT in most 30 rated\n",
    "set(highest_values_30) - set(most_rated_30)"
   ]
  },
  {
   "cell_type": "code",
   "execution_count": 83,
   "metadata": {
    "colab": {
     "base_uri": "https://localhost:8080/"
    },
    "id": "-T_kdNhOSuQP",
    "outputId": "1fc0145e-9726-4691-fb69-eaa6a0c368a5"
   },
   "outputs": [
    {
     "data": {
      "text/plain": [
       "{'Arrival (2016)',\n",
       " 'Django Unchained (2012)',\n",
       " 'Dune (2021)',\n",
       " 'Inglourious Basterds (2009)',\n",
       " 'Knives Out (2019)',\n",
       " 'Shutter Island (2010)',\n",
       " 'The Batman (2022)',\n",
       " 'The Martian (2015)',\n",
       " 'Top Gun: Maverick (2022)',\n",
       " 'Up (2009)',\n",
       " 'WALL·E (2008)',\n",
       " 'Wolf of Wall Street, The (2013)'}"
      ]
     },
     "execution_count": 83,
     "metadata": {},
     "output_type": "execute_result"
    }
   ],
   "source": [
    "# movies IN most 30 rated but NOT IN top 30 valued\n",
    "set(most_rated_30) - set(highest_values_30)"
   ]
  },
  {
   "cell_type": "markdown",
   "metadata": {
    "id": "tYLAM3kiWI6x"
   },
   "source": [
    "\n",
    "\n",
    "The movies that are top 30 rated but not in top 30 valued are\n",
    "\n",
    "\n",
    "\n",
    "*   'Arrival (2016)',\n",
    "*   'Django Unchained (2012)',\n",
    "*   'Dune (2021)'，\n",
    "*   'Everything Everywhere All at Once (2022)',\n",
    "*   'Fight Club (1999)',\n",
    "*  'Forrest Gump (1994)',\n",
    "*   'Inception (2010)',\n",
    "*   'Inglourious Basterds (2009)',\n",
    "*   'Interstellar (2014)',\n",
    "*   'Knives Out (2019)',\n",
    "*   \n",
    "'Lord of the Rings: The Fellowship of the Ring, The (2001)',\n",
    "*   'Lord of the Rings: The Return of the King, The (2003)',\n",
    "*   'Lord of the Rings: The Two Towers, The (2002)',\n",
    "'Matrix, The (1999)',\n",
    "*   'Shutter Island (2010)',\n",
    "*   'Spirited Away (Sen to Chihiro no kamikakushi) (2001)',\n",
    "*   'Star Wars: Episode IV – A New Hope (1977)',\n",
    "*  'Star Wars: Episode V – The Empire Strikes Back (1980)',\n",
    "*   'The Batman (2022)',\n",
    "*  'The Martian (2015)',\n",
    "*   \n",
    "'Top Gun: Maverick (2022)',\n",
    "*   \n",
    "'Up (2009)',\n",
    "*  'WALL·E (2008)',\n",
    "*  \n",
    "'Wolf of Wall Street, The (2013)'\n",
    "\n",
    "\n",
    "\n",
    "\n",
    "\n",
    "\n",
    "The above movie valuation approach takes into account both the popularity of the movies and the ratings of the movies. We see that some movies are very poular, but does not have a high rating.\n",
    "However, we should not take the above movie valuation for granted. It definitely has many issues, for example, does not take into account how recent the movies are made. In practice Netflix has much rich data about user view time, so it can produce much better movie valuation. Nevertheless,  through this simple analysis, we can see how the recommender systems provides a promising, new way for content valuation."
   ]
  }
 ],
 "metadata": {
  "accelerator": "GPU",
  "colab": {
   "gpuType": "T4",
   "machine_shape": "hm",
   "provenance": []
  },
  "kernelspec": {
   "display_name": "Python 3",
   "language": "python",
   "name": "python3"
  },
  "language_info": {
   "codemirror_mode": {
    "name": "ipython",
    "version": 3
   },
   "file_extension": ".py",
   "mimetype": "text/x-python",
   "name": "python",
   "nbconvert_exporter": "python",
   "pygments_lexer": "ipython3",
   "version": "3.8.8"
  }
 },
 "nbformat": 4,
 "nbformat_minor": 1
}
